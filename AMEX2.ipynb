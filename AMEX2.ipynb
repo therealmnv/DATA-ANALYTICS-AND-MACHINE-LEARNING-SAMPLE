{
  "nbformat": 4,
  "nbformat_minor": 0,
  "metadata": {
    "colab": {
      "name": "AMEX2.ipynb",
      "provenance": [],
      "toc_visible": true
    },
    "kernelspec": {
      "name": "python3",
      "display_name": "Python 3"
    },
    "language_info": {
      "name": "python"
    }
  },
  "cells": [
    {
      "cell_type": "code",
      "source": [
        "pip install category_encoders"
      ],
      "metadata": {
        "colab": {
          "base_uri": "https://localhost:8080/"
        },
        "id": "k9rhsL6zyjeX",
        "outputId": "988fc411-3efe-46fb-dddc-1849f3fa7bfa"
      },
      "execution_count": 78,
      "outputs": [
        {
          "output_type": "stream",
          "name": "stdout",
          "text": [
            "Collecting category_encoders\n",
            "  Downloading category_encoders-2.3.0-py2.py3-none-any.whl (82 kB)\n",
            "\u001b[?25l\r\u001b[K     |████                            | 10 kB 17.8 MB/s eta 0:00:01\r\u001b[K     |████████                        | 20 kB 17.3 MB/s eta 0:00:01\r\u001b[K     |████████████                    | 30 kB 16.3 MB/s eta 0:00:01\r\u001b[K     |████████████████                | 40 kB 11.6 MB/s eta 0:00:01\r\u001b[K     |████████████████████            | 51 kB 8.7 MB/s eta 0:00:01\r\u001b[K     |████████████████████████        | 61 kB 8.3 MB/s eta 0:00:01\r\u001b[K     |████████████████████████████    | 71 kB 7.9 MB/s eta 0:00:01\r\u001b[K     |███████████████████████████████▉| 81 kB 8.7 MB/s eta 0:00:01\r\u001b[K     |████████████████████████████████| 82 kB 317 kB/s \n",
            "\u001b[?25hRequirement already satisfied: scipy>=1.0.0 in /usr/local/lib/python3.7/dist-packages (from category_encoders) (1.4.1)\n",
            "Requirement already satisfied: numpy>=1.14.0 in /usr/local/lib/python3.7/dist-packages (from category_encoders) (1.19.5)\n",
            "Requirement already satisfied: patsy>=0.5.1 in /usr/local/lib/python3.7/dist-packages (from category_encoders) (0.5.2)\n",
            "Requirement already satisfied: pandas>=0.21.1 in /usr/local/lib/python3.7/dist-packages (from category_encoders) (1.1.5)\n",
            "Requirement already satisfied: scikit-learn>=0.20.0 in /usr/local/lib/python3.7/dist-packages (from category_encoders) (1.0.1)\n",
            "Requirement already satisfied: statsmodels>=0.9.0 in /usr/local/lib/python3.7/dist-packages (from category_encoders) (0.10.2)\n",
            "Requirement already satisfied: python-dateutil>=2.7.3 in /usr/local/lib/python3.7/dist-packages (from pandas>=0.21.1->category_encoders) (2.8.2)\n",
            "Requirement already satisfied: pytz>=2017.2 in /usr/local/lib/python3.7/dist-packages (from pandas>=0.21.1->category_encoders) (2018.9)\n",
            "Requirement already satisfied: six in /usr/local/lib/python3.7/dist-packages (from patsy>=0.5.1->category_encoders) (1.15.0)\n",
            "Requirement already satisfied: threadpoolctl>=2.0.0 in /usr/local/lib/python3.7/dist-packages (from scikit-learn>=0.20.0->category_encoders) (3.0.0)\n",
            "Requirement already satisfied: joblib>=0.11 in /usr/local/lib/python3.7/dist-packages (from scikit-learn>=0.20.0->category_encoders) (1.1.0)\n",
            "Installing collected packages: category-encoders\n",
            "Successfully installed category-encoders-2.3.0\n"
          ]
        }
      ]
    },
    {
      "cell_type": "code",
      "execution_count": 79,
      "metadata": {
        "id": "Z5aN4fahhO7F",
        "colab": {
          "base_uri": "https://localhost:8080/"
        },
        "outputId": "b9fa3cc5-4bc5-4177-8cd6-bd6f4da37607"
      },
      "outputs": [
        {
          "output_type": "stream",
          "name": "stderr",
          "text": [
            "/usr/local/lib/python3.7/dist-packages/statsmodels/tools/_testing.py:19: FutureWarning:\n",
            "\n",
            "pandas.util.testing is deprecated. Use the functions in the public API at pandas.testing instead.\n",
            "\n"
          ]
        }
      ],
      "source": [
        "import numpy as np\n",
        "import pandas as pd\n",
        "import matplotlib.pyplot as plt\n",
        "import seaborn as sns\n",
        "\n",
        "import category_encoders as ce\n",
        "from sklearn.preprocessing import StandardScaler\n",
        "from sklearn.model_selection import train_test_split"
      ]
    },
    {
      "cell_type": "code",
      "execution_count": 80,
      "metadata": {
        "colab": {
          "base_uri": "https://localhost:8080/",
          "height": 304
        },
        "id": "BQ6iRQN6hWrI",
        "outputId": "f3763e29-cd60-4960-dd03-ea022ff14741"
      },
      "outputs": [
        {
          "output_type": "execute_result",
          "data": {
            "text/html": [
              "\n",
              "  <div id=\"df-9d1ae2da-91c6-49c4-8de5-04ebda4d944d\">\n",
              "    <div class=\"colab-df-container\">\n",
              "      <div>\n",
              "<style scoped>\n",
              "    .dataframe tbody tr th:only-of-type {\n",
              "        vertical-align: middle;\n",
              "    }\n",
              "\n",
              "    .dataframe tbody tr th {\n",
              "        vertical-align: top;\n",
              "    }\n",
              "\n",
              "    .dataframe thead th {\n",
              "        text-align: right;\n",
              "    }\n",
              "</style>\n",
              "<table border=\"1\" class=\"dataframe\">\n",
              "  <thead>\n",
              "    <tr style=\"text-align: right;\">\n",
              "      <th></th>\n",
              "      <th>customer_id</th>\n",
              "      <th>name</th>\n",
              "      <th>age</th>\n",
              "      <th>gender</th>\n",
              "      <th>owns_car</th>\n",
              "      <th>owns_house</th>\n",
              "      <th>no_of_children</th>\n",
              "      <th>net_yearly_income</th>\n",
              "      <th>no_of_days_employed</th>\n",
              "      <th>occupation_type</th>\n",
              "      <th>total_family_members</th>\n",
              "      <th>migrant_worker</th>\n",
              "      <th>yearly_debt_payments</th>\n",
              "      <th>credit_limit</th>\n",
              "      <th>credit_limit_used(%)</th>\n",
              "      <th>credit_score</th>\n",
              "      <th>prev_defaults</th>\n",
              "      <th>default_in_last_6months</th>\n",
              "      <th>credit_card_default</th>\n",
              "    </tr>\n",
              "  </thead>\n",
              "  <tbody>\n",
              "    <tr>\n",
              "      <th>0</th>\n",
              "      <td>CST_115179</td>\n",
              "      <td>ita Bose</td>\n",
              "      <td>46</td>\n",
              "      <td>F</td>\n",
              "      <td>N</td>\n",
              "      <td>Y</td>\n",
              "      <td>0.0</td>\n",
              "      <td>107934.04</td>\n",
              "      <td>612.0</td>\n",
              "      <td>Unknown</td>\n",
              "      <td>1.0</td>\n",
              "      <td>1.0</td>\n",
              "      <td>33070.28</td>\n",
              "      <td>18690.93</td>\n",
              "      <td>73</td>\n",
              "      <td>544.0</td>\n",
              "      <td>2</td>\n",
              "      <td>1</td>\n",
              "      <td>1</td>\n",
              "    </tr>\n",
              "    <tr>\n",
              "      <th>1</th>\n",
              "      <td>CST_121920</td>\n",
              "      <td>Alper Jonathan</td>\n",
              "      <td>29</td>\n",
              "      <td>M</td>\n",
              "      <td>N</td>\n",
              "      <td>Y</td>\n",
              "      <td>0.0</td>\n",
              "      <td>109862.62</td>\n",
              "      <td>2771.0</td>\n",
              "      <td>Laborers</td>\n",
              "      <td>2.0</td>\n",
              "      <td>0.0</td>\n",
              "      <td>15329.53</td>\n",
              "      <td>37745.19</td>\n",
              "      <td>52</td>\n",
              "      <td>857.0</td>\n",
              "      <td>0</td>\n",
              "      <td>0</td>\n",
              "      <td>0</td>\n",
              "    </tr>\n",
              "    <tr>\n",
              "      <th>2</th>\n",
              "      <td>CST_109330</td>\n",
              "      <td>Umesh Desai</td>\n",
              "      <td>37</td>\n",
              "      <td>M</td>\n",
              "      <td>N</td>\n",
              "      <td>Y</td>\n",
              "      <td>0.0</td>\n",
              "      <td>230153.17</td>\n",
              "      <td>204.0</td>\n",
              "      <td>Laborers</td>\n",
              "      <td>2.0</td>\n",
              "      <td>0.0</td>\n",
              "      <td>48416.60</td>\n",
              "      <td>41598.36</td>\n",
              "      <td>43</td>\n",
              "      <td>650.0</td>\n",
              "      <td>0</td>\n",
              "      <td>0</td>\n",
              "      <td>0</td>\n",
              "    </tr>\n",
              "    <tr>\n",
              "      <th>3</th>\n",
              "      <td>CST_128288</td>\n",
              "      <td>Rie</td>\n",
              "      <td>39</td>\n",
              "      <td>F</td>\n",
              "      <td>N</td>\n",
              "      <td>Y</td>\n",
              "      <td>0.0</td>\n",
              "      <td>122325.82</td>\n",
              "      <td>11941.0</td>\n",
              "      <td>Core staff</td>\n",
              "      <td>2.0</td>\n",
              "      <td>0.0</td>\n",
              "      <td>22574.36</td>\n",
              "      <td>32627.76</td>\n",
              "      <td>20</td>\n",
              "      <td>754.0</td>\n",
              "      <td>0</td>\n",
              "      <td>0</td>\n",
              "      <td>0</td>\n",
              "    </tr>\n",
              "    <tr>\n",
              "      <th>4</th>\n",
              "      <td>CST_151355</td>\n",
              "      <td>McCool</td>\n",
              "      <td>46</td>\n",
              "      <td>M</td>\n",
              "      <td>Y</td>\n",
              "      <td>Y</td>\n",
              "      <td>0.0</td>\n",
              "      <td>387286.00</td>\n",
              "      <td>1459.0</td>\n",
              "      <td>Core staff</td>\n",
              "      <td>1.0</td>\n",
              "      <td>0.0</td>\n",
              "      <td>38282.95</td>\n",
              "      <td>52950.64</td>\n",
              "      <td>75</td>\n",
              "      <td>927.0</td>\n",
              "      <td>0</td>\n",
              "      <td>0</td>\n",
              "      <td>0</td>\n",
              "    </tr>\n",
              "  </tbody>\n",
              "</table>\n",
              "</div>\n",
              "      <button class=\"colab-df-convert\" onclick=\"convertToInteractive('df-9d1ae2da-91c6-49c4-8de5-04ebda4d944d')\"\n",
              "              title=\"Convert this dataframe to an interactive table.\"\n",
              "              style=\"display:none;\">\n",
              "        \n",
              "  <svg xmlns=\"http://www.w3.org/2000/svg\" height=\"24px\"viewBox=\"0 0 24 24\"\n",
              "       width=\"24px\">\n",
              "    <path d=\"M0 0h24v24H0V0z\" fill=\"none\"/>\n",
              "    <path d=\"M18.56 5.44l.94 2.06.94-2.06 2.06-.94-2.06-.94-.94-2.06-.94 2.06-2.06.94zm-11 1L8.5 8.5l.94-2.06 2.06-.94-2.06-.94L8.5 2.5l-.94 2.06-2.06.94zm10 10l.94 2.06.94-2.06 2.06-.94-2.06-.94-.94-2.06-.94 2.06-2.06.94z\"/><path d=\"M17.41 7.96l-1.37-1.37c-.4-.4-.92-.59-1.43-.59-.52 0-1.04.2-1.43.59L10.3 9.45l-7.72 7.72c-.78.78-.78 2.05 0 2.83L4 21.41c.39.39.9.59 1.41.59.51 0 1.02-.2 1.41-.59l7.78-7.78 2.81-2.81c.8-.78.8-2.07 0-2.86zM5.41 20L4 18.59l7.72-7.72 1.47 1.35L5.41 20z\"/>\n",
              "  </svg>\n",
              "      </button>\n",
              "      \n",
              "  <style>\n",
              "    .colab-df-container {\n",
              "      display:flex;\n",
              "      flex-wrap:wrap;\n",
              "      gap: 12px;\n",
              "    }\n",
              "\n",
              "    .colab-df-convert {\n",
              "      background-color: #E8F0FE;\n",
              "      border: none;\n",
              "      border-radius: 50%;\n",
              "      cursor: pointer;\n",
              "      display: none;\n",
              "      fill: #1967D2;\n",
              "      height: 32px;\n",
              "      padding: 0 0 0 0;\n",
              "      width: 32px;\n",
              "    }\n",
              "\n",
              "    .colab-df-convert:hover {\n",
              "      background-color: #E2EBFA;\n",
              "      box-shadow: 0px 1px 2px rgba(60, 64, 67, 0.3), 0px 1px 3px 1px rgba(60, 64, 67, 0.15);\n",
              "      fill: #174EA6;\n",
              "    }\n",
              "\n",
              "    [theme=dark] .colab-df-convert {\n",
              "      background-color: #3B4455;\n",
              "      fill: #D2E3FC;\n",
              "    }\n",
              "\n",
              "    [theme=dark] .colab-df-convert:hover {\n",
              "      background-color: #434B5C;\n",
              "      box-shadow: 0px 1px 3px 1px rgba(0, 0, 0, 0.15);\n",
              "      filter: drop-shadow(0px 1px 2px rgba(0, 0, 0, 0.3));\n",
              "      fill: #FFFFFF;\n",
              "    }\n",
              "  </style>\n",
              "\n",
              "      <script>\n",
              "        const buttonEl =\n",
              "          document.querySelector('#df-9d1ae2da-91c6-49c4-8de5-04ebda4d944d button.colab-df-convert');\n",
              "        buttonEl.style.display =\n",
              "          google.colab.kernel.accessAllowed ? 'block' : 'none';\n",
              "\n",
              "        async function convertToInteractive(key) {\n",
              "          const element = document.querySelector('#df-9d1ae2da-91c6-49c4-8de5-04ebda4d944d');\n",
              "          const dataTable =\n",
              "            await google.colab.kernel.invokeFunction('convertToInteractive',\n",
              "                                                     [key], {});\n",
              "          if (!dataTable) return;\n",
              "\n",
              "          const docLinkHtml = 'Like what you see? Visit the ' +\n",
              "            '<a target=\"_blank\" href=https://colab.research.google.com/notebooks/data_table.ipynb>data table notebook</a>'\n",
              "            + ' to learn more about interactive tables.';\n",
              "          element.innerHTML = '';\n",
              "          dataTable['output_type'] = 'display_data';\n",
              "          await google.colab.output.renderOutput(dataTable, element);\n",
              "          const docLink = document.createElement('div');\n",
              "          docLink.innerHTML = docLinkHtml;\n",
              "          element.appendChild(docLink);\n",
              "        }\n",
              "      </script>\n",
              "    </div>\n",
              "  </div>\n",
              "  "
            ],
            "text/plain": [
              "  customer_id            name  ...  default_in_last_6months credit_card_default\n",
              "0  CST_115179        ita Bose  ...                        1                   1\n",
              "1  CST_121920  Alper Jonathan  ...                        0                   0\n",
              "2  CST_109330     Umesh Desai  ...                        0                   0\n",
              "3  CST_128288             Rie  ...                        0                   0\n",
              "4  CST_151355          McCool  ...                        0                   0\n",
              "\n",
              "[5 rows x 19 columns]"
            ]
          },
          "metadata": {},
          "execution_count": 80
        }
      ],
      "source": [
        "dataset = pd.read_csv('/content/drive/MyDrive/Colab Notebooks/AMEX/train.csv')\n",
        "X_test = pd.read_csv('/content/drive/MyDrive/Colab Notebooks/AMEX/test.csv')\n",
        "dataset=dataset.drop_duplicates()\n",
        "dataset.head()"
      ]
    },
    {
      "cell_type": "code",
      "execution_count": 81,
      "metadata": {
        "colab": {
          "base_uri": "https://localhost:8080/",
          "height": 364
        },
        "id": "vlNa3_9qwswy",
        "outputId": "afcc2c4e-f9f9-447a-9fb1-33b188e0979e"
      },
      "outputs": [
        {
          "output_type": "execute_result",
          "data": {
            "text/html": [
              "\n",
              "  <div id=\"df-7de7487c-bf09-4c2e-a2b4-6820e04ab3b3\">\n",
              "    <div class=\"colab-df-container\">\n",
              "      <div>\n",
              "<style scoped>\n",
              "    .dataframe tbody tr th:only-of-type {\n",
              "        vertical-align: middle;\n",
              "    }\n",
              "\n",
              "    .dataframe tbody tr th {\n",
              "        vertical-align: top;\n",
              "    }\n",
              "\n",
              "    .dataframe thead th {\n",
              "        text-align: right;\n",
              "    }\n",
              "</style>\n",
              "<table border=\"1\" class=\"dataframe\">\n",
              "  <thead>\n",
              "    <tr style=\"text-align: right;\">\n",
              "      <th></th>\n",
              "      <th>age</th>\n",
              "      <th>no_of_children</th>\n",
              "      <th>net_yearly_income</th>\n",
              "      <th>no_of_days_employed</th>\n",
              "      <th>total_family_members</th>\n",
              "      <th>migrant_worker</th>\n",
              "      <th>yearly_debt_payments</th>\n",
              "      <th>credit_limit</th>\n",
              "      <th>credit_limit_used(%)</th>\n",
              "      <th>credit_score</th>\n",
              "      <th>prev_defaults</th>\n",
              "      <th>default_in_last_6months</th>\n",
              "      <th>credit_card_default</th>\n",
              "    </tr>\n",
              "  </thead>\n",
              "  <tbody>\n",
              "    <tr>\n",
              "      <th>count</th>\n",
              "      <td>45528.000000</td>\n",
              "      <td>44754.000000</td>\n",
              "      <td>4.552800e+04</td>\n",
              "      <td>45065.000000</td>\n",
              "      <td>45445.000000</td>\n",
              "      <td>45441.000000</td>\n",
              "      <td>45433.000000</td>\n",
              "      <td>4.552800e+04</td>\n",
              "      <td>45528.00000</td>\n",
              "      <td>45520.000000</td>\n",
              "      <td>45528.000000</td>\n",
              "      <td>45528.000000</td>\n",
              "      <td>45528.000000</td>\n",
              "    </tr>\n",
              "    <tr>\n",
              "      <th>mean</th>\n",
              "      <td>38.993411</td>\n",
              "      <td>0.420655</td>\n",
              "      <td>2.006556e+05</td>\n",
              "      <td>67609.289293</td>\n",
              "      <td>2.158081</td>\n",
              "      <td>0.179111</td>\n",
              "      <td>31796.965311</td>\n",
              "      <td>4.354842e+04</td>\n",
              "      <td>52.23502</td>\n",
              "      <td>782.791257</td>\n",
              "      <td>0.060710</td>\n",
              "      <td>0.050540</td>\n",
              "      <td>0.081203</td>\n",
              "    </tr>\n",
              "    <tr>\n",
              "      <th>std</th>\n",
              "      <td>9.543990</td>\n",
              "      <td>0.724097</td>\n",
              "      <td>6.690740e+05</td>\n",
              "      <td>139323.524434</td>\n",
              "      <td>0.911572</td>\n",
              "      <td>0.383450</td>\n",
              "      <td>17269.727234</td>\n",
              "      <td>1.487847e+05</td>\n",
              "      <td>29.37691</td>\n",
              "      <td>100.619746</td>\n",
              "      <td>0.264629</td>\n",
              "      <td>0.219059</td>\n",
              "      <td>0.273149</td>\n",
              "    </tr>\n",
              "    <tr>\n",
              "      <th>min</th>\n",
              "      <td>23.000000</td>\n",
              "      <td>0.000000</td>\n",
              "      <td>2.717061e+04</td>\n",
              "      <td>2.000000</td>\n",
              "      <td>1.000000</td>\n",
              "      <td>0.000000</td>\n",
              "      <td>2237.470000</td>\n",
              "      <td>4.003140e+03</td>\n",
              "      <td>0.00000</td>\n",
              "      <td>500.000000</td>\n",
              "      <td>0.000000</td>\n",
              "      <td>0.000000</td>\n",
              "      <td>0.000000</td>\n",
              "    </tr>\n",
              "    <tr>\n",
              "      <th>25%</th>\n",
              "      <td>31.000000</td>\n",
              "      <td>0.000000</td>\n",
              "      <td>1.263458e+05</td>\n",
              "      <td>936.000000</td>\n",
              "      <td>2.000000</td>\n",
              "      <td>0.000000</td>\n",
              "      <td>19231.140000</td>\n",
              "      <td>2.397381e+04</td>\n",
              "      <td>27.00000</td>\n",
              "      <td>704.000000</td>\n",
              "      <td>0.000000</td>\n",
              "      <td>0.000000</td>\n",
              "      <td>0.000000</td>\n",
              "    </tr>\n",
              "    <tr>\n",
              "      <th>50%</th>\n",
              "      <td>39.000000</td>\n",
              "      <td>0.000000</td>\n",
              "      <td>1.717149e+05</td>\n",
              "      <td>2224.000000</td>\n",
              "      <td>2.000000</td>\n",
              "      <td>0.000000</td>\n",
              "      <td>29081.650000</td>\n",
              "      <td>3.568804e+04</td>\n",
              "      <td>54.00000</td>\n",
              "      <td>786.000000</td>\n",
              "      <td>0.000000</td>\n",
              "      <td>0.000000</td>\n",
              "      <td>0.000000</td>\n",
              "    </tr>\n",
              "    <tr>\n",
              "      <th>75%</th>\n",
              "      <td>47.000000</td>\n",
              "      <td>1.000000</td>\n",
              "      <td>2.406038e+05</td>\n",
              "      <td>5817.000000</td>\n",
              "      <td>3.000000</td>\n",
              "      <td>0.000000</td>\n",
              "      <td>40561.150000</td>\n",
              "      <td>5.343576e+04</td>\n",
              "      <td>78.00000</td>\n",
              "      <td>867.000000</td>\n",
              "      <td>0.000000</td>\n",
              "      <td>0.000000</td>\n",
              "      <td>0.000000</td>\n",
              "    </tr>\n",
              "    <tr>\n",
              "      <th>max</th>\n",
              "      <td>55.000000</td>\n",
              "      <td>9.000000</td>\n",
              "      <td>1.407590e+08</td>\n",
              "      <td>365252.000000</td>\n",
              "      <td>10.000000</td>\n",
              "      <td>1.000000</td>\n",
              "      <td>328112.860000</td>\n",
              "      <td>3.112997e+07</td>\n",
              "      <td>99.00000</td>\n",
              "      <td>949.000000</td>\n",
              "      <td>2.000000</td>\n",
              "      <td>1.000000</td>\n",
              "      <td>1.000000</td>\n",
              "    </tr>\n",
              "  </tbody>\n",
              "</table>\n",
              "</div>\n",
              "      <button class=\"colab-df-convert\" onclick=\"convertToInteractive('df-7de7487c-bf09-4c2e-a2b4-6820e04ab3b3')\"\n",
              "              title=\"Convert this dataframe to an interactive table.\"\n",
              "              style=\"display:none;\">\n",
              "        \n",
              "  <svg xmlns=\"http://www.w3.org/2000/svg\" height=\"24px\"viewBox=\"0 0 24 24\"\n",
              "       width=\"24px\">\n",
              "    <path d=\"M0 0h24v24H0V0z\" fill=\"none\"/>\n",
              "    <path d=\"M18.56 5.44l.94 2.06.94-2.06 2.06-.94-2.06-.94-.94-2.06-.94 2.06-2.06.94zm-11 1L8.5 8.5l.94-2.06 2.06-.94-2.06-.94L8.5 2.5l-.94 2.06-2.06.94zm10 10l.94 2.06.94-2.06 2.06-.94-2.06-.94-.94-2.06-.94 2.06-2.06.94z\"/><path d=\"M17.41 7.96l-1.37-1.37c-.4-.4-.92-.59-1.43-.59-.52 0-1.04.2-1.43.59L10.3 9.45l-7.72 7.72c-.78.78-.78 2.05 0 2.83L4 21.41c.39.39.9.59 1.41.59.51 0 1.02-.2 1.41-.59l7.78-7.78 2.81-2.81c.8-.78.8-2.07 0-2.86zM5.41 20L4 18.59l7.72-7.72 1.47 1.35L5.41 20z\"/>\n",
              "  </svg>\n",
              "      </button>\n",
              "      \n",
              "  <style>\n",
              "    .colab-df-container {\n",
              "      display:flex;\n",
              "      flex-wrap:wrap;\n",
              "      gap: 12px;\n",
              "    }\n",
              "\n",
              "    .colab-df-convert {\n",
              "      background-color: #E8F0FE;\n",
              "      border: none;\n",
              "      border-radius: 50%;\n",
              "      cursor: pointer;\n",
              "      display: none;\n",
              "      fill: #1967D2;\n",
              "      height: 32px;\n",
              "      padding: 0 0 0 0;\n",
              "      width: 32px;\n",
              "    }\n",
              "\n",
              "    .colab-df-convert:hover {\n",
              "      background-color: #E2EBFA;\n",
              "      box-shadow: 0px 1px 2px rgba(60, 64, 67, 0.3), 0px 1px 3px 1px rgba(60, 64, 67, 0.15);\n",
              "      fill: #174EA6;\n",
              "    }\n",
              "\n",
              "    [theme=dark] .colab-df-convert {\n",
              "      background-color: #3B4455;\n",
              "      fill: #D2E3FC;\n",
              "    }\n",
              "\n",
              "    [theme=dark] .colab-df-convert:hover {\n",
              "      background-color: #434B5C;\n",
              "      box-shadow: 0px 1px 3px 1px rgba(0, 0, 0, 0.15);\n",
              "      filter: drop-shadow(0px 1px 2px rgba(0, 0, 0, 0.3));\n",
              "      fill: #FFFFFF;\n",
              "    }\n",
              "  </style>\n",
              "\n",
              "      <script>\n",
              "        const buttonEl =\n",
              "          document.querySelector('#df-7de7487c-bf09-4c2e-a2b4-6820e04ab3b3 button.colab-df-convert');\n",
              "        buttonEl.style.display =\n",
              "          google.colab.kernel.accessAllowed ? 'block' : 'none';\n",
              "\n",
              "        async function convertToInteractive(key) {\n",
              "          const element = document.querySelector('#df-7de7487c-bf09-4c2e-a2b4-6820e04ab3b3');\n",
              "          const dataTable =\n",
              "            await google.colab.kernel.invokeFunction('convertToInteractive',\n",
              "                                                     [key], {});\n",
              "          if (!dataTable) return;\n",
              "\n",
              "          const docLinkHtml = 'Like what you see? Visit the ' +\n",
              "            '<a target=\"_blank\" href=https://colab.research.google.com/notebooks/data_table.ipynb>data table notebook</a>'\n",
              "            + ' to learn more about interactive tables.';\n",
              "          element.innerHTML = '';\n",
              "          dataTable['output_type'] = 'display_data';\n",
              "          await google.colab.output.renderOutput(dataTable, element);\n",
              "          const docLink = document.createElement('div');\n",
              "          docLink.innerHTML = docLinkHtml;\n",
              "          element.appendChild(docLink);\n",
              "        }\n",
              "      </script>\n",
              "    </div>\n",
              "  </div>\n",
              "  "
            ],
            "text/plain": [
              "                age  ...  credit_card_default\n",
              "count  45528.000000  ...         45528.000000\n",
              "mean      38.993411  ...             0.081203\n",
              "std        9.543990  ...             0.273149\n",
              "min       23.000000  ...             0.000000\n",
              "25%       31.000000  ...             0.000000\n",
              "50%       39.000000  ...             0.000000\n",
              "75%       47.000000  ...             0.000000\n",
              "max       55.000000  ...             1.000000\n",
              "\n",
              "[8 rows x 13 columns]"
            ]
          },
          "metadata": {},
          "execution_count": 81
        }
      ],
      "source": [
        "dataset.describe()"
      ]
    },
    {
      "cell_type": "markdown",
      "metadata": {
        "id": "IOgxWU2jraGr"
      },
      "source": [
        "#ANALYSIS"
      ]
    },
    {
      "cell_type": "markdown",
      "metadata": {
        "id": "vyWH9YwjjKnL"
      },
      "source": [
        "NUMERICAL"
      ]
    },
    {
      "cell_type": "code",
      "execution_count": 82,
      "metadata": {
        "colab": {
          "base_uri": "https://localhost:8080/"
        },
        "id": "wFn-AEocidEx",
        "outputId": "8bb47bf5-a8c5-43d8-8f13-5ca65b4931a5"
      },
      "outputs": [
        {
          "output_type": "execute_result",
          "data": {
            "text/plain": [
              "['no_of_children',\n",
              " 'total_family_members',\n",
              " 'migrant_worker',\n",
              " 'prev_defaults',\n",
              " 'default_in_last_6months',\n",
              " 'credit_card_default']"
            ]
          },
          "metadata": {},
          "execution_count": 82
        }
      ],
      "source": [
        "discrete = [feature for feature in dataset.columns if dataset[feature].dtypes != 'O' and (dataset[feature].nunique())<30 and feature not in ['loan_id']]\n",
        "\n",
        "discrete"
      ]
    },
    {
      "cell_type": "code",
      "execution_count": 83,
      "metadata": {
        "colab": {
          "base_uri": "https://localhost:8080/",
          "height": 298
        },
        "id": "vIbiTTGyjomB",
        "outputId": "705099bd-873d-4fef-b3c8-df4265f6cb62"
      },
      "outputs": [
        {
          "output_type": "execute_result",
          "data": {
            "text/plain": [
              "<matplotlib.axes._subplots.AxesSubplot at 0x7fb467a00510>"
            ]
          },
          "metadata": {},
          "execution_count": 83
        },
        {
          "output_type": "display_data",
          "data": {
            "image/png": "[encoded data removed]",
            "text/plain": [
              "<Figure size 432x288 with 1 Axes>"
            ]
          },
          "metadata": {
            "needs_background": "light"
          }
        }
      ],
      "source": [
        "sns.countplot(x=discrete[5],data=dataset,order=dataset[discrete[5]].value_counts().index)"
      ]
    },
    {
      "cell_type": "code",
      "execution_count": 84,
      "metadata": {
        "colab": {
          "base_uri": "https://localhost:8080/",
          "height": 542
        },
        "id": "AGA70lM44dvY",
        "outputId": "f5f8b335-beb6-4a33-805a-b0e04f0bdd45"
      },
      "outputs": [
        {
          "output_type": "display_data",
          "data": {
            "text/html": [
              "<html>\n",
              "<head><meta charset=\"utf-8\" /></head>\n",
              "<body>\n",
              "    <div>\n",
              "            <script src=\"https://cdnjs.cloudflare.com/ajax/libs/mathjax/2.7.5/MathJax.js?config=TeX-AMS-MML_SVG\"></script><script type=\"text/javascript\">if (window.MathJax) {MathJax.Hub.Config({SVG: {font: \"STIX-Web\"}});}</script>\n",
              "                <script type=\"text/javascript\">window.PlotlyConfig = {MathJaxConfig: 'local'};</script>\n",
              "        <script src=\"https://cdn.plot.ly/plotly-latest.min.js\"></script>    \n",
              "            <div id=\"1a4abcb5-3e35-4dfb-8a29-09ecc9ad4504\" class=\"plotly-graph-div\" style=\"height:525px; width:100%;\"></div>\n",
              "            <script type=\"text/javascript\">\n",
              "                \n",
              "                    window.PLOTLYENV=window.PLOTLYENV || {};\n",
              "                    \n",
              "                if (document.getElementById(\"1a4abcb5-3e35-4dfb-8a29-09ecc9ad4504\")) {\n",
              "                    Plotly.newPlot(\n",
              "                        '1a4abcb5-3e35-4dfb-8a29-09ecc9ad4504',\n",
              "                        [{\"labels\": [\"Not Fraud\", \"Fraud\"], \"type\": \"pie\", \"values\": [41831, 3697]}],\n",
              "                        {\"template\": {\"data\": {\"bar\": [{\"error_x\": {\"color\": \"#2a3f5f\"}, \"error_y\": {\"color\": \"#2a3f5f\"}, \"marker\": {\"line\": {\"color\": \"#E5ECF6\", \"width\": 0.5}}, \"type\": \"bar\"}], \"barpolar\": [{\"marker\": {\"line\": {\"color\": \"#E5ECF6\", \"width\": 0.5}}, \"type\": \"barpolar\"}], \"carpet\": [{\"aaxis\": {\"endlinecolor\": \"#2a3f5f\", \"gridcolor\": \"white\", \"linecolor\": \"white\", \"minorgridcolor\": \"white\", \"startlinecolor\": \"#2a3f5f\"}, \"baxis\": {\"endlinecolor\": \"#2a3f5f\", \"gridcolor\": \"white\", \"linecolor\": \"white\", \"minorgridcolor\": \"white\", \"startlinecolor\": \"#2a3f5f\"}, \"type\": \"carpet\"}], \"choropleth\": [{\"colorbar\": {\"outlinewidth\": 0, \"ticks\": \"\"}, \"type\": \"choropleth\"}], \"contour\": [{\"colorbar\": {\"outlinewidth\": 0, \"ticks\": \"\"}, \"colorscale\": [[0.0, \"#0d0887\"], [0.1111111111111111, \"#46039f\"], [0.2222222222222222, \"#7201a8\"], [0.3333333333333333, \"#9c179e\"], [0.4444444444444444, \"#bd3786\"], [0.5555555555555556, \"#d8576b\"], [0.6666666666666666, \"#ed7953\"], [0.7777777777777778, \"#fb9f3a\"], [0.8888888888888888, \"#fdca26\"], [1.0, \"#f0f921\"]], \"type\": \"contour\"}], \"contourcarpet\": [{\"colorbar\": {\"outlinewidth\": 0, \"ticks\": \"\"}, \"type\": \"contourcarpet\"}], \"heatmap\": [{\"colorbar\": {\"outlinewidth\": 0, \"ticks\": \"\"}, \"colorscale\": [[0.0, \"#0d0887\"], [0.1111111111111111, \"#46039f\"], [0.2222222222222222, \"#7201a8\"], [0.3333333333333333, \"#9c179e\"], [0.4444444444444444, \"#bd3786\"], [0.5555555555555556, \"#d8576b\"], [0.6666666666666666, \"#ed7953\"], [0.7777777777777778, \"#fb9f3a\"], [0.8888888888888888, \"#fdca26\"], [1.0, \"#f0f921\"]], \"type\": \"heatmap\"}], \"heatmapgl\": [{\"colorbar\": {\"outlinewidth\": 0, \"ticks\": \"\"}, \"colorscale\": [[0.0, \"#0d0887\"], [0.1111111111111111, \"#46039f\"], [0.2222222222222222, \"#7201a8\"], [0.3333333333333333, \"#9c179e\"], [0.4444444444444444, \"#bd3786\"], [0.5555555555555556, \"#d8576b\"], [0.6666666666666666, \"#ed7953\"], [0.7777777777777778, \"#fb9f3a\"], [0.8888888888888888, \"#fdca26\"], [1.0, \"#f0f921\"]], \"type\": \"heatmapgl\"}], \"histogram\": [{\"marker\": {\"colorbar\": {\"outlinewidth\": 0, \"ticks\": \"\"}}, \"type\": \"histogram\"}], \"histogram2d\": [{\"colorbar\": {\"outlinewidth\": 0, \"ticks\": \"\"}, \"colorscale\": [[0.0, \"#0d0887\"], [0.1111111111111111, \"#46039f\"], [0.2222222222222222, \"#7201a8\"], [0.3333333333333333, \"#9c179e\"], [0.4444444444444444, \"#bd3786\"], [0.5555555555555556, \"#d8576b\"], [0.6666666666666666, \"#ed7953\"], [0.7777777777777778, \"#fb9f3a\"], [0.8888888888888888, \"#fdca26\"], [1.0, \"#f0f921\"]], \"type\": \"histogram2d\"}], \"histogram2dcontour\": [{\"colorbar\": {\"outlinewidth\": 0, \"ticks\": \"\"}, \"colorscale\": [[0.0, \"#0d0887\"], [0.1111111111111111, \"#46039f\"], [0.2222222222222222, \"#7201a8\"], [0.3333333333333333, \"#9c179e\"], [0.4444444444444444, \"#bd3786\"], [0.5555555555555556, \"#d8576b\"], [0.6666666666666666, \"#ed7953\"], [0.7777777777777778, \"#fb9f3a\"], [0.8888888888888888, \"#fdca26\"], [1.0, \"#f0f921\"]], \"type\": \"histogram2dcontour\"}], \"mesh3d\": [{\"colorbar\": {\"outlinewidth\": 0, \"ticks\": \"\"}, \"type\": \"mesh3d\"}], \"parcoords\": [{\"line\": {\"colorbar\": {\"outlinewidth\": 0, \"ticks\": \"\"}}, \"type\": \"parcoords\"}], \"pie\": [{\"automargin\": true, \"type\": \"pie\"}], \"scatter\": [{\"marker\": {\"colorbar\": {\"outlinewidth\": 0, \"ticks\": \"\"}}, \"type\": \"scatter\"}], \"scatter3d\": [{\"line\": {\"colorbar\": {\"outlinewidth\": 0, \"ticks\": \"\"}}, \"marker\": {\"colorbar\": {\"outlinewidth\": 0, \"ticks\": \"\"}}, \"type\": \"scatter3d\"}], \"scattercarpet\": [{\"marker\": {\"colorbar\": {\"outlinewidth\": 0, \"ticks\": \"\"}}, \"type\": \"scattercarpet\"}], \"scattergeo\": [{\"marker\": {\"colorbar\": {\"outlinewidth\": 0, \"ticks\": \"\"}}, \"type\": \"scattergeo\"}], \"scattergl\": [{\"marker\": {\"colorbar\": {\"outlinewidth\": 0, \"ticks\": \"\"}}, \"type\": \"scattergl\"}], \"scattermapbox\": [{\"marker\": {\"colorbar\": {\"outlinewidth\": 0, \"ticks\": \"\"}}, \"type\": \"scattermapbox\"}], \"scatterpolar\": [{\"marker\": {\"colorbar\": {\"outlinewidth\": 0, \"ticks\": \"\"}}, \"type\": \"scatterpolar\"}], \"scatterpolargl\": [{\"marker\": {\"colorbar\": {\"outlinewidth\": 0, \"ticks\": \"\"}}, \"type\": \"scatterpolargl\"}], \"scatterternary\": [{\"marker\": {\"colorbar\": {\"outlinewidth\": 0, \"ticks\": \"\"}}, \"type\": \"scatterternary\"}], \"surface\": [{\"colorbar\": {\"outlinewidth\": 0, \"ticks\": \"\"}, \"colorscale\": [[0.0, \"#0d0887\"], [0.1111111111111111, \"#46039f\"], [0.2222222222222222, \"#7201a8\"], [0.3333333333333333, \"#9c179e\"], [0.4444444444444444, \"#bd3786\"], [0.5555555555555556, \"#d8576b\"], [0.6666666666666666, \"#ed7953\"], [0.7777777777777778, \"#fb9f3a\"], [0.8888888888888888, \"#fdca26\"], [1.0, \"#f0f921\"]], \"type\": \"surface\"}], \"table\": [{\"cells\": {\"fill\": {\"color\": \"#EBF0F8\"}, \"line\": {\"color\": \"white\"}}, \"header\": {\"fill\": {\"color\": \"#C8D4E3\"}, \"line\": {\"color\": \"white\"}}, \"type\": \"table\"}]}, \"layout\": {\"annotationdefaults\": {\"arrowcolor\": \"#2a3f5f\", \"arrowhead\": 0, \"arrowwidth\": 1}, \"coloraxis\": {\"colorbar\": {\"outlinewidth\": 0, \"ticks\": \"\"}}, \"colorscale\": {\"diverging\": [[0, \"#8e0152\"], [0.1, \"#c51b7d\"], [0.2, \"#de77ae\"], [0.3, \"#f1b6da\"], [0.4, \"#fde0ef\"], [0.5, \"#f7f7f7\"], [0.6, \"#e6f5d0\"], [0.7, \"#b8e186\"], [0.8, \"#7fbc41\"], [0.9, \"#4d9221\"], [1, \"#276419\"]], \"sequential\": [[0.0, \"#0d0887\"], [0.1111111111111111, \"#46039f\"], [0.2222222222222222, \"#7201a8\"], [0.3333333333333333, \"#9c179e\"], [0.4444444444444444, \"#bd3786\"], [0.5555555555555556, \"#d8576b\"], [0.6666666666666666, \"#ed7953\"], [0.7777777777777778, \"#fb9f3a\"], [0.8888888888888888, \"#fdca26\"], [1.0, \"#f0f921\"]], \"sequentialminus\": [[0.0, \"#0d0887\"], [0.1111111111111111, \"#46039f\"], [0.2222222222222222, \"#7201a8\"], [0.3333333333333333, \"#9c179e\"], [0.4444444444444444, \"#bd3786\"], [0.5555555555555556, \"#d8576b\"], [0.6666666666666666, \"#ed7953\"], [0.7777777777777778, \"#fb9f3a\"], [0.8888888888888888, \"#fdca26\"], [1.0, \"#f0f921\"]]}, \"colorway\": [\"#636efa\", \"#EF553B\", \"#00cc96\", \"#ab63fa\", \"#FFA15A\", \"#19d3f3\", \"#FF6692\", \"#B6E880\", \"#FF97FF\", \"#FECB52\"], \"font\": {\"color\": \"#2a3f5f\"}, \"geo\": {\"bgcolor\": \"white\", \"lakecolor\": \"white\", \"landcolor\": \"#E5ECF6\", \"showlakes\": true, \"showland\": true, \"subunitcolor\": \"white\"}, \"hoverlabel\": {\"align\": \"left\"}, \"hovermode\": \"closest\", \"mapbox\": {\"style\": \"light\"}, \"paper_bgcolor\": \"white\", \"plot_bgcolor\": \"#E5ECF6\", \"polar\": {\"angularaxis\": {\"gridcolor\": \"white\", \"linecolor\": \"white\", \"ticks\": \"\"}, \"bgcolor\": \"#E5ECF6\", \"radialaxis\": {\"gridcolor\": \"white\", \"linecolor\": \"white\", \"ticks\": \"\"}}, \"scene\": {\"xaxis\": {\"backgroundcolor\": \"#E5ECF6\", \"gridcolor\": \"white\", \"gridwidth\": 2, \"linecolor\": \"white\", \"showbackground\": true, \"ticks\": \"\", \"zerolinecolor\": \"white\"}, \"yaxis\": {\"backgroundcolor\": \"#E5ECF6\", \"gridcolor\": \"white\", \"gridwidth\": 2, \"linecolor\": \"white\", \"showbackground\": true, \"ticks\": \"\", \"zerolinecolor\": \"white\"}, \"zaxis\": {\"backgroundcolor\": \"#E5ECF6\", \"gridcolor\": \"white\", \"gridwidth\": 2, \"linecolor\": \"white\", \"showbackground\": true, \"ticks\": \"\", \"zerolinecolor\": \"white\"}}, \"shapedefaults\": {\"line\": {\"color\": \"#2a3f5f\"}}, \"ternary\": {\"aaxis\": {\"gridcolor\": \"white\", \"linecolor\": \"white\", \"ticks\": \"\"}, \"baxis\": {\"gridcolor\": \"white\", \"linecolor\": \"white\", \"ticks\": \"\"}, \"bgcolor\": \"#E5ECF6\", \"caxis\": {\"gridcolor\": \"white\", \"linecolor\": \"white\", \"ticks\": \"\"}}, \"title\": {\"x\": 0.05}, \"xaxis\": {\"automargin\": true, \"gridcolor\": \"white\", \"linecolor\": \"white\", \"ticks\": \"\", \"title\": {\"standoff\": 15}, \"zerolinecolor\": \"white\", \"zerolinewidth\": 2}, \"yaxis\": {\"automargin\": true, \"gridcolor\": \"white\", \"linecolor\": \"white\", \"ticks\": \"\", \"title\": {\"standoff\": 15}, \"zerolinecolor\": \"white\", \"zerolinewidth\": 2}}}},\n",
              "                        {\"responsive\": true}\n",
              "                    ).then(function(){\n",
              "                            \n",
              "var gd = document.getElementById('1a4abcb5-3e35-4dfb-8a29-09ecc9ad4504');\n",
              "var x = new MutationObserver(function (mutations, observer) {{\n",
              "        var display = window.getComputedStyle(gd).display;\n",
              "        if (!display || display === 'none') {{\n",
              "            console.log([gd, 'removed!']);\n",
              "            Plotly.purge(gd);\n",
              "            observer.disconnect();\n",
              "        }}\n",
              "}});\n",
              "\n",
              "// Listen for the removal of the full notebook cells\n",
              "var notebookContainer = gd.closest('#notebook-container');\n",
              "if (notebookContainer) {{\n",
              "    x.observe(notebookContainer, {childList: true});\n",
              "}}\n",
              "\n",
              "// Listen for the clearing of the current output cell\n",
              "var outputEl = gd.closest('.output');\n",
              "if (outputEl) {{\n",
              "    x.observe(outputEl, {childList: true});\n",
              "}}\n",
              "\n",
              "                        })\n",
              "                };\n",
              "                \n",
              "            </script>\n",
              "        </div>\n",
              "</body>\n",
              "</html>"
            ]
          },
          "metadata": {}
        }
      ],
      "source": [
        "import plotly.graph_objects as go\n",
        "fig = go.Figure(data=[go.Pie(labels=['Not Fraud','Fraud'], values=dataset[discrete[5]].value_counts())])\n",
        "fig.show()"
      ]
    },
    {
      "cell_type": "code",
      "execution_count": 85,
      "metadata": {
        "colab": {
          "base_uri": "https://localhost:8080/",
          "height": 300
        },
        "id": "G0bmWsWejJMC",
        "outputId": "3d5f8407-da4f-4b3c-ce42-e014262b074d"
      },
      "outputs": [
        {
          "output_type": "execute_result",
          "data": {
            "text/plain": [
              "<matplotlib.axes._subplots.AxesSubplot at 0x7fb448759c10>"
            ]
          },
          "metadata": {},
          "execution_count": 85
        },
        {
          "output_type": "display_data",
          "data": {
            "image/png": "[encoded data removed]",
            "text/plain": [
              "<Figure size 432x288 with 1 Axes>"
            ]
          },
          "metadata": {
            "needs_background": "light"
          }
        }
      ],
      "source": [
        "sns.countplot(x=discrete[0],hue='credit_card_default',data=dataset,order=dataset[discrete[0]].value_counts().index)"
      ]
    },
    {
      "cell_type": "code",
      "execution_count": 86,
      "metadata": {
        "colab": {
          "base_uri": "https://localhost:8080/",
          "height": 298
        },
        "id": "9gFqS5vAjf2r",
        "outputId": "f020a347-f774-4efd-f550-8f7590e1ea72"
      },
      "outputs": [
        {
          "output_type": "execute_result",
          "data": {
            "text/plain": [
              "<matplotlib.axes._subplots.AxesSubplot at 0x7fb448677f90>"
            ]
          },
          "metadata": {},
          "execution_count": 86
        },
        {
          "output_type": "display_data",
          "data": {
            "image/png": "[encoded data removed]",
            "text/plain": [
              "<Figure size 432x288 with 1 Axes>"
            ]
          },
          "metadata": {
            "needs_background": "light"
          }
        }
      ],
      "source": [
        "sns.countplot(x=discrete[1],hue='credit_card_default',data=dataset,order=dataset[discrete[1]].value_counts().index)"
      ]
    },
    {
      "cell_type": "code",
      "execution_count": 87,
      "metadata": {
        "colab": {
          "base_uri": "https://localhost:8080/",
          "height": 298
        },
        "id": "ogjWDE9yjrNO",
        "outputId": "81282f8a-ab57-4d22-82dc-3a0540b98f0d"
      },
      "outputs": [
        {
          "output_type": "execute_result",
          "data": {
            "text/plain": [
              "<matplotlib.axes._subplots.AxesSubplot at 0x7fb4485b5e10>"
            ]
          },
          "metadata": {},
          "execution_count": 87
        },
        {
          "output_type": "display_data",
          "data": {
            "image/png": "[encoded data removed]",
            "text/plain": [
              "<Figure size 432x288 with 1 Axes>"
            ]
          },
          "metadata": {
            "needs_background": "light"
          }
        }
      ],
      "source": [
        "sns.countplot(x=discrete[2],hue='credit_card_default',data=dataset,order=dataset[discrete[2]].value_counts().index)"
      ]
    },
    {
      "cell_type": "code",
      "execution_count": 88,
      "metadata": {
        "colab": {
          "base_uri": "https://localhost:8080/",
          "height": 298
        },
        "id": "W_W1gJHfjpjC",
        "outputId": "c2e949ef-6bdb-41e1-a699-95ca4d2ca89e"
      },
      "outputs": [
        {
          "output_type": "execute_result",
          "data": {
            "text/plain": [
              "<matplotlib.axes._subplots.AxesSubplot at 0x7fb448525210>"
            ]
          },
          "metadata": {},
          "execution_count": 88
        },
        {
          "output_type": "display_data",
          "data": {
            "image/png": "[encoded data removed]",
            "text/plain": [
              "<Figure size 432x288 with 1 Axes>"
            ]
          },
          "metadata": {
            "needs_background": "light"
          }
        }
      ],
      "source": [
        "sns.countplot(x=discrete[3],hue='credit_card_default',data=dataset,order=dataset[discrete[3]].value_counts().index)"
      ]
    },
    {
      "cell_type": "code",
      "execution_count": 89,
      "metadata": {
        "colab": {
          "base_uri": "https://localhost:8080/",
          "height": 298
        },
        "id": "JRKnTEVKjpLy",
        "outputId": "5bf9fd41-4a63-410c-b382-0f08bcab2662"
      },
      "outputs": [
        {
          "output_type": "execute_result",
          "data": {
            "text/plain": [
              "<matplotlib.axes._subplots.AxesSubplot at 0x7fb4484b0110>"
            ]
          },
          "metadata": {},
          "execution_count": 89
        },
        {
          "output_type": "display_data",
          "data": {
            "image/png": "[encoded data removed]",
            "text/plain": [
              "<Figure size 432x288 with 1 Axes>"
            ]
          },
          "metadata": {
            "needs_background": "light"
          }
        }
      ],
      "source": [
        "sns.countplot(x=discrete[4],hue='credit_card_default',data=dataset,order=dataset[discrete[4]].value_counts().index)"
      ]
    },
    {
      "cell_type": "markdown",
      "metadata": {
        "id": "J6zUB0hSkCop"
      },
      "source": [
        "CONTINUOUS"
      ]
    },
    {
      "cell_type": "code",
      "source": [
        "len(dataset)"
      ],
      "metadata": {
        "colab": {
          "base_uri": "https://localhost:8080/"
        },
        "id": "E9nP5uXJl1B5",
        "outputId": "4750380f-38f4-4076-b290-8126fe5b40ba"
      },
      "execution_count": 90,
      "outputs": [
        {
          "output_type": "execute_result",
          "data": {
            "text/plain": [
              "45528"
            ]
          },
          "metadata": {},
          "execution_count": 90
        }
      ]
    },
    {
      "cell_type": "code",
      "execution_count": 91,
      "metadata": {
        "colab": {
          "base_uri": "https://localhost:8080/"
        },
        "id": "YrLEnGv8j2yc",
        "outputId": "05fccd51-0415-41ef-9f37-c55da630aab1"
      },
      "outputs": [
        {
          "output_type": "execute_result",
          "data": {
            "text/plain": [
              "['age',\n",
              " 'net_yearly_income',\n",
              " 'no_of_days_employed',\n",
              " 'yearly_debt_payments',\n",
              " 'credit_limit',\n",
              " 'credit_limit_used(%)',\n",
              " 'credit_score']"
            ]
          },
          "metadata": {},
          "execution_count": 91
        }
      ],
      "source": [
        "continuous = [feature for feature in dataset.columns if dataset[feature].dtypes != 'O' and feature not in discrete + ['Pin_Code','loan_id']]\n",
        "\n",
        "continuous"
      ]
    },
    {
      "cell_type": "code",
      "execution_count": 92,
      "metadata": {
        "colab": {
          "base_uri": "https://localhost:8080/",
          "height": 283
        },
        "id": "27RvmyZFkEAd",
        "outputId": "ddef20b4-3034-4408-a348-6762b122ee72"
      },
      "outputs": [
        {
          "output_type": "execute_result",
          "data": {
            "text/plain": [
              "<matplotlib.axes._subplots.AxesSubplot at 0x7fb44842b110>"
            ]
          },
          "metadata": {},
          "execution_count": 92
        },
        {
          "output_type": "display_data",
          "data": {
            "image/png": "[encoded data removed]",
            "text/plain": [
              "<Figure size 432x288 with 1 Axes>"
            ]
          },
          "metadata": {
            "needs_background": "light"
          }
        }
      ],
      "source": [
        "dataset.boxplot(column=continuous[0])"
      ]
    },
    {
      "cell_type": "code",
      "execution_count": 93,
      "metadata": {
        "id": "6iPDB38NkYKL"
      },
      "outputs": [],
      "source": [
        "dataset = dataset[dataset['net_yearly_income']<500000]"
      ]
    },
    {
      "cell_type": "code",
      "source": [
        "len(dataset)"
      ],
      "metadata": {
        "colab": {
          "base_uri": "https://localhost:8080/"
        },
        "id": "2yU68EELmFDZ",
        "outputId": "20ccfb6b-92db-43a4-f6ad-efe383ddee8b"
      },
      "execution_count": 94,
      "outputs": [
        {
          "output_type": "execute_result",
          "data": {
            "text/plain": [
              "44663"
            ]
          },
          "metadata": {},
          "execution_count": 94
        }
      ]
    },
    {
      "cell_type": "code",
      "execution_count": 95,
      "metadata": {
        "colab": {
          "base_uri": "https://localhost:8080/",
          "height": 284
        },
        "id": "C3CTpzkDkHxp",
        "outputId": "01f41df8-9cfe-495e-ac75-af099b355806"
      },
      "outputs": [
        {
          "output_type": "execute_result",
          "data": {
            "text/plain": [
              "<matplotlib.axes._subplots.AxesSubplot at 0x7fb4483a1810>"
            ]
          },
          "metadata": {},
          "execution_count": 95
        },
        {
          "output_type": "display_data",
          "data": {
            "image/png": "[encoded data removed]",
            "text/plain": [
              "<Figure size 432x288 with 1 Axes>"
            ]
          },
          "metadata": {
            "needs_background": "light"
          }
        }
      ],
      "source": [
        "dataset.boxplot(column=continuous[1])"
      ]
    },
    {
      "cell_type": "code",
      "source": [
        "sns.distplot(dataset[continuous[1]],hist_kws=dict(edgecolor=\"k\", linewidth=1))"
      ],
      "metadata": {
        "colab": {
          "base_uri": "https://localhost:8080/",
          "height": 401
        },
        "id": "Z-Rwj1Fae_fj",
        "outputId": "41698fe9-b1a7-4dc2-b05c-dd647a8845b3"
      },
      "execution_count": 96,
      "outputs": [
        {
          "output_type": "stream",
          "name": "stderr",
          "text": [
            "/usr/local/lib/python3.7/dist-packages/seaborn/distributions.py:2619: FutureWarning:\n",
            "\n",
            "`distplot` is a deprecated function and will be removed in a future version. Please adapt your code to use either `displot` (a figure-level function with similar flexibility) or `histplot` (an axes-level function for histograms).\n",
            "\n"
          ]
        },
        {
          "output_type": "execute_result",
          "data": {
            "text/plain": [
              "<matplotlib.axes._subplots.AxesSubplot at 0x7fb44838fc90>"
            ]
          },
          "metadata": {},
          "execution_count": 96
        },
        {
          "output_type": "display_data",
          "data": {
            "image/png": "[encoded data removed]",
            "text/plain": [
              "<Figure size 432x288 with 1 Axes>"
            ]
          },
          "metadata": {
            "needs_background": "light"
          }
        }
      ]
    },
    {
      "cell_type": "code",
      "source": [
        "log_income = np.log(dataset[continuous[1]])\n",
        "sqrt_income = np.sqrt(dataset[continuous[1]])\n",
        "\n",
        "print(\"Salary: \",dataset[continuous[1]].skew())\n",
        "print(\"Log: \",log_income.skew())\n",
        "print(\"Sqrt: \",sqrt_income.skew())"
      ],
      "metadata": {
        "colab": {
          "base_uri": "https://localhost:8080/"
        },
        "id": "-5_iIijnhf_y",
        "outputId": "5332d122-874e-41c9-aaed-a3c7205c1239"
      },
      "execution_count": 97,
      "outputs": [
        {
          "output_type": "stream",
          "name": "stdout",
          "text": [
            "Salary:  0.965391281980459\n",
            "Log:  -0.1940609298976228\n",
            "Sqrt:  0.405647599738115\n"
          ]
        }
      ]
    },
    {
      "cell_type": "code",
      "source": [
        "dataset = dataset[dataset['no_of_days_employed']<350000]"
      ],
      "metadata": {
        "id": "gfxZohGskiGy"
      },
      "execution_count": 98,
      "outputs": []
    },
    {
      "cell_type": "code",
      "source": [
        "len(dataset)"
      ],
      "metadata": {
        "colab": {
          "base_uri": "https://localhost:8080/"
        },
        "id": "J2vD9z3ZmGWy",
        "outputId": "77d21a3a-f81b-4557-c62d-9bc4eb5eb596"
      },
      "execution_count": 99,
      "outputs": [
        {
          "output_type": "execute_result",
          "data": {
            "text/plain": [
              "36167"
            ]
          },
          "metadata": {},
          "execution_count": 99
        }
      ]
    },
    {
      "cell_type": "code",
      "execution_count": 100,
      "metadata": {
        "colab": {
          "base_uri": "https://localhost:8080/",
          "height": 284
        },
        "id": "CCN4nfGkkHda",
        "outputId": "56dc344a-8096-4833-c753-3adfcc518862"
      },
      "outputs": [
        {
          "output_type": "execute_result",
          "data": {
            "text/plain": [
              "<matplotlib.axes._subplots.AxesSubplot at 0x7fb44842e4d0>"
            ]
          },
          "metadata": {},
          "execution_count": 100
        },
        {
          "output_type": "display_data",
          "data": {
            "image/png": "[encoded data removed]",
            "text/plain": [
              "<Figure size 432x288 with 1 Axes>"
            ]
          },
          "metadata": {
            "needs_background": "light"
          }
        }
      ],
      "source": [
        "dataset.boxplot(column=continuous[2])"
      ]
    },
    {
      "cell_type": "code",
      "source": [
        "sns.distplot(dataset[continuous[2]],hist_kws=dict(edgecolor=\"k\", linewidth=1))"
      ],
      "metadata": {
        "colab": {
          "base_uri": "https://localhost:8080/",
          "height": 390
        },
        "id": "RiO4qZVIfAIi",
        "outputId": "8a89597a-396f-40b9-dc21-66ede8caa314"
      },
      "execution_count": 101,
      "outputs": [
        {
          "output_type": "stream",
          "name": "stderr",
          "text": [
            "/usr/local/lib/python3.7/dist-packages/seaborn/distributions.py:2619: FutureWarning:\n",
            "\n",
            "`distplot` is a deprecated function and will be removed in a future version. Please adapt your code to use either `displot` (a figure-level function with similar flexibility) or `histplot` (an axes-level function for histograms).\n",
            "\n"
          ]
        },
        {
          "output_type": "execute_result",
          "data": {
            "text/plain": [
              "<matplotlib.axes._subplots.AxesSubplot at 0x7fb4481ecb10>"
            ]
          },
          "metadata": {},
          "execution_count": 101
        },
        {
          "output_type": "display_data",
          "data": {
            "image/png": "[encoded data removed]",
            "text/plain": [
              "<Figure size 432x288 with 1 Axes>"
            ]
          },
          "metadata": {
            "needs_background": "light"
          }
        }
      ]
    },
    {
      "cell_type": "code",
      "source": [
        "log_emp = np.log(dataset[continuous[2]]+5)\n",
        "sqrt_emp = np.sqrt(dataset[continuous[2]])\n",
        "\n",
        "print(\"emp: \",dataset[continuous[2]].skew())\n",
        "print(\"log_emp: \",log_emp.skew())\n",
        "print(\"sqrt_emp: \",sqrt_emp.skew())"
      ],
      "metadata": {
        "colab": {
          "base_uri": "https://localhost:8080/"
        },
        "outputId": "26632d9c-df32-4a96-9fab-50b5b4c1fdb0",
        "id": "jfHXue4tiUVd"
      },
      "execution_count": 102,
      "outputs": [
        {
          "output_type": "stream",
          "name": "stdout",
          "text": [
            "emp:  1.9422532611427166\n",
            "log_emp:  -0.40968763757352444\n",
            "sqrt_emp:  0.7838063855089417\n"
          ]
        }
      ]
    },
    {
      "cell_type": "code",
      "source": [
        "dataset = dataset[dataset['yearly_debt_payments']<190000]"
      ],
      "metadata": {
        "id": "v1TjTouOdVa6"
      },
      "execution_count": 103,
      "outputs": []
    },
    {
      "cell_type": "code",
      "source": [
        "len(dataset)"
      ],
      "metadata": {
        "colab": {
          "base_uri": "https://localhost:8080/"
        },
        "id": "C6W3rLW_mIuG",
        "outputId": "841b208f-a223-4f9e-9f75-f701abbc6e72"
      },
      "execution_count": 104,
      "outputs": [
        {
          "output_type": "execute_result",
          "data": {
            "text/plain": [
              "36083"
            ]
          },
          "metadata": {},
          "execution_count": 104
        }
      ]
    },
    {
      "cell_type": "code",
      "source": [
        "len(dataset[dataset['yearly_debt_payments']>140000])"
      ],
      "metadata": {
        "colab": {
          "base_uri": "https://localhost:8080/"
        },
        "id": "7ZQ5Jhmblnqr",
        "outputId": "97c2425c-c4d3-40e4-a640-717da7b85894"
      },
      "execution_count": 105,
      "outputs": [
        {
          "output_type": "execute_result",
          "data": {
            "text/plain": [
              "13"
            ]
          },
          "metadata": {},
          "execution_count": 105
        }
      ]
    },
    {
      "cell_type": "code",
      "execution_count": 106,
      "metadata": {
        "colab": {
          "base_uri": "https://localhost:8080/",
          "height": 284
        },
        "id": "oqWyKMCMkHSJ",
        "outputId": "422f6c4f-8fad-43a3-b959-098daf00c431"
      },
      "outputs": [
        {
          "output_type": "execute_result",
          "data": {
            "text/plain": [
              "<matplotlib.axes._subplots.AxesSubplot at 0x7fb4481e57d0>"
            ]
          },
          "metadata": {},
          "execution_count": 106
        },
        {
          "output_type": "display_data",
          "data": {
            "image/png": "[encoded data removed]",
            "text/plain": [
              "<Figure size 432x288 with 1 Axes>"
            ]
          },
          "metadata": {
            "needs_background": "light"
          }
        }
      ],
      "source": [
        "dataset.boxplot(column=continuous[3])"
      ]
    },
    {
      "cell_type": "code",
      "source": [
        "sns.distplot(dataset[continuous[3]],hist_kws=dict(edgecolor=\"k\", linewidth=1))"
      ],
      "metadata": {
        "colab": {
          "base_uri": "https://localhost:8080/",
          "height": 401
        },
        "id": "vpY_08P2fAvH",
        "outputId": "624e733b-644d-4a4f-9fb7-d200ef796190"
      },
      "execution_count": 107,
      "outputs": [
        {
          "output_type": "stream",
          "name": "stderr",
          "text": [
            "/usr/local/lib/python3.7/dist-packages/seaborn/distributions.py:2619: FutureWarning:\n",
            "\n",
            "`distplot` is a deprecated function and will be removed in a future version. Please adapt your code to use either `displot` (a figure-level function with similar flexibility) or `histplot` (an axes-level function for histograms).\n",
            "\n"
          ]
        },
        {
          "output_type": "execute_result",
          "data": {
            "text/plain": [
              "<matplotlib.axes._subplots.AxesSubplot at 0x7fb44807e2d0>"
            ]
          },
          "metadata": {},
          "execution_count": 107
        },
        {
          "output_type": "display_data",
          "data": {
            "image/png": "[encoded data removed]",
            "text/plain": [
              "<Figure size 432x288 with 1 Axes>"
            ]
          },
          "metadata": {
            "needs_background": "light"
          }
        }
      ]
    },
    {
      "cell_type": "code",
      "source": [
        "log_debt = np.log(dataset[continuous[3]])\n",
        "sqrt_debt = np.sqrt(dataset[continuous[3]])\n",
        "\n",
        "print(\"debt: \",dataset[continuous[3]].skew())\n",
        "print(\"log_debt: \",log_debt.skew())\n",
        "print(\"sqrt_debt: \",sqrt_debt.skew())"
      ],
      "metadata": {
        "colab": {
          "base_uri": "https://localhost:8080/"
        },
        "outputId": "47c32a38-bc94-4f1f-9e5e-58bde196e16d",
        "id": "PS_1etPMjQwH"
      },
      "execution_count": 108,
      "outputs": [
        {
          "output_type": "stream",
          "name": "stdout",
          "text": [
            "debt:  1.169130050371028\n",
            "log_debt:  -0.39114817541989055\n",
            "sqrt_debt:  0.3368136841028462\n"
          ]
        }
      ]
    },
    {
      "cell_type": "code",
      "execution_count": 109,
      "metadata": {
        "colab": {
          "base_uri": "https://localhost:8080/",
          "height": 284
        },
        "id": "F-fku_H0kHFh",
        "outputId": "c2e02f3a-035c-49ab-e817-b3b65ccee9df"
      },
      "outputs": [
        {
          "output_type": "execute_result",
          "data": {
            "text/plain": [
              "<matplotlib.axes._subplots.AxesSubplot at 0x7fb447f93fd0>"
            ]
          },
          "metadata": {},
          "execution_count": 109
        },
        {
          "output_type": "display_data",
          "data": {
            "image/png": "[encoded data removed]",
            "text/plain": [
              "<Figure size 432x288 with 1 Axes>"
            ]
          },
          "metadata": {
            "needs_background": "light"
          }
        }
      ],
      "source": [
        "dataset.boxplot(column=continuous[4])"
      ]
    },
    {
      "cell_type": "code",
      "source": [
        "sns.distplot(dataset[continuous[4]],hist_kws=dict(edgecolor=\"k\", linewidth=1))"
      ],
      "metadata": {
        "colab": {
          "base_uri": "https://localhost:8080/",
          "height": 401
        },
        "id": "uAMQP1HWfBXK",
        "outputId": "b221c332-e83e-46d9-b413-37d3e3698807"
      },
      "execution_count": 110,
      "outputs": [
        {
          "output_type": "stream",
          "name": "stderr",
          "text": [
            "/usr/local/lib/python3.7/dist-packages/seaborn/distributions.py:2619: FutureWarning:\n",
            "\n",
            "`distplot` is a deprecated function and will be removed in a future version. Please adapt your code to use either `displot` (a figure-level function with similar flexibility) or `histplot` (an axes-level function for histograms).\n",
            "\n"
          ]
        },
        {
          "output_type": "execute_result",
          "data": {
            "text/plain": [
              "<matplotlib.axes._subplots.AxesSubplot at 0x7fb447ef4050>"
            ]
          },
          "metadata": {},
          "execution_count": 110
        },
        {
          "output_type": "display_data",
          "data": {
            "image/png": "[encoded data removed]",
            "text/plain": [
              "<Figure size 432x288 with 1 Axes>"
            ]
          },
          "metadata": {
            "needs_background": "light"
          }
        }
      ]
    },
    {
      "cell_type": "code",
      "source": [
        "log_cred_lim = np.log(dataset[continuous[4]]+1)\n",
        "sqrt_cred_lim = np.sqrt(dataset[continuous[4]])\n",
        "\n",
        "print(\"cred_lim: \",dataset[continuous[4]].skew())\n",
        "print(\"Log: \",log_cred_lim.skew())\n",
        "print(\"Sqrt: \",sqrt_cred_lim.skew())"
      ],
      "metadata": {
        "colab": {
          "base_uri": "https://localhost:8080/"
        },
        "outputId": "44be7ef0-24eb-49eb-d84d-c56c3fecafcd",
        "id": "qYdGpUDEjzNL"
      },
      "execution_count": 111,
      "outputs": [
        {
          "output_type": "stream",
          "name": "stdout",
          "text": [
            "cred_lim:  1.4249150128573114\n",
            "Log:  -0.08361583590222862\n",
            "Sqrt:  0.6484550429757775\n"
          ]
        }
      ]
    },
    {
      "cell_type": "code",
      "execution_count": 112,
      "metadata": {
        "colab": {
          "base_uri": "https://localhost:8080/",
          "height": 284
        },
        "id": "clAHgUBakJcY",
        "outputId": "c49ead47-f540-4658-df68-f45efb8fdd40"
      },
      "outputs": [
        {
          "output_type": "execute_result",
          "data": {
            "text/plain": [
              "<matplotlib.axes._subplots.AxesSubplot at 0x7fb447de5cd0>"
            ]
          },
          "metadata": {},
          "execution_count": 112
        },
        {
          "output_type": "display_data",
          "data": {
            "image/png": "[encoded data removed]",
            "text/plain": [
              "<Figure size 432x288 with 1 Axes>"
            ]
          },
          "metadata": {
            "needs_background": "light"
          }
        }
      ],
      "source": [
        "dataset.boxplot(column=continuous[5])"
      ]
    },
    {
      "cell_type": "code",
      "execution_count": 113,
      "metadata": {
        "colab": {
          "base_uri": "https://localhost:8080/",
          "height": 284
        },
        "id": "9CN7AqJGkGh4",
        "outputId": "38fba5e5-f166-4328-eff5-c8e733e5dadf"
      },
      "outputs": [
        {
          "output_type": "execute_result",
          "data": {
            "text/plain": [
              "<matplotlib.axes._subplots.AxesSubplot at 0x7fb447d653d0>"
            ]
          },
          "metadata": {},
          "execution_count": 113
        },
        {
          "output_type": "display_data",
          "data": {
            "image/png": "[encoded data removed]",
            "text/plain": [
              "<Figure size 432x288 with 1 Axes>"
            ]
          },
          "metadata": {
            "needs_background": "light"
          }
        }
      ],
      "source": [
        "dataset.boxplot(column=continuous[6])"
      ]
    },
    {
      "cell_type": "code",
      "source": [
        "X_test.isna().sum()"
      ],
      "metadata": {
        "colab": {
          "base_uri": "https://localhost:8080/"
        },
        "id": "8ouO9EqOFxZF",
        "outputId": "5ed17da0-7dfa-4470-9c69-08d3a0e9d458"
      },
      "execution_count": 114,
      "outputs": [
        {
          "output_type": "execute_result",
          "data": {
            "text/plain": [
              "customer_id                  0\n",
              "name                         0\n",
              "age                          0\n",
              "gender                       0\n",
              "owns_car                   132\n",
              "owns_house                   0\n",
              "no_of_children             190\n",
              "net_yearly_income            0\n",
              "no_of_days_employed        105\n",
              "occupation_type              0\n",
              "total_family_members        31\n",
              "migrant_worker              26\n",
              "yearly_debt_payments        22\n",
              "credit_limit                 0\n",
              "credit_limit_used(%)         0\n",
              "credit_score                 3\n",
              "prev_defaults                0\n",
              "default_in_last_6months      0\n",
              "dtype: int64"
            ]
          },
          "metadata": {},
          "execution_count": 114
        }
      ]
    },
    {
      "cell_type": "code",
      "source": [
        "X_test = X_test.fillna({'owns_car':'N', 'no_of_days_employed':X_test['no_of_days_employed'].mean(),\n",
        "                                   'migrant_worker': 0.0, 'yearly_debt_payments': X_test['yearly_debt_payments'].mean(),\n",
        "                                   'credit_score': X_test['credit_score'].mean()})"
      ],
      "metadata": {
        "id": "j1mtVlhVrWNf"
      },
      "execution_count": 115,
      "outputs": []
    },
    {
      "cell_type": "code",
      "source": [
        "dataset['log_income'] = log_income\n",
        "X_test['log_income'] = np.log(X_test[continuous[1]])"
      ],
      "metadata": {
        "id": "lBXzS1Hihfw6"
      },
      "execution_count": 116,
      "outputs": []
    },
    {
      "cell_type": "code",
      "source": [
        "dataset['log_emp_days'] = log_emp\n",
        "X_test['log_emp_days'] = np.log(X_test[continuous[2]]+5)"
      ],
      "metadata": {
        "id": "0cRQv8KhiUVd"
      },
      "execution_count": 117,
      "outputs": []
    },
    {
      "cell_type": "code",
      "source": [
        "dataset['sqrt_debt'] = sqrt_debt\n",
        "X_test['sqrt_debt'] = np.sqrt(X_test[continuous[3]])"
      ],
      "metadata": {
        "id": "NkJPh6jVjQwI"
      },
      "execution_count": 118,
      "outputs": []
    },
    {
      "cell_type": "code",
      "source": [
        "dataset['log_cred_lim'] = log_cred_lim\n",
        "X_test['log_cred_lim'] = np.log(X_test[continuous[3]]+1)"
      ],
      "metadata": {
        "id": "rJf9X7fBjzNL"
      },
      "execution_count": 119,
      "outputs": []
    },
    {
      "cell_type": "markdown",
      "metadata": {
        "id": "sG-vvI_dmbFb"
      },
      "source": [
        "CATEGORICAL"
      ]
    },
    {
      "cell_type": "code",
      "execution_count": 120,
      "metadata": {
        "colab": {
          "base_uri": "https://localhost:8080/"
        },
        "id": "qVhTg1ZAkNsi",
        "outputId": "0ef05201-a225-4096-c580-431a0ac4f52a"
      },
      "outputs": [
        {
          "output_type": "execute_result",
          "data": {
            "text/plain": [
              "['customer_id', 'name', 'gender', 'owns_car', 'owns_house', 'occupation_type']"
            ]
          },
          "metadata": {},
          "execution_count": 120
        }
      ],
      "source": [
        "categorical = [feature for feature in dataset.columns if dataset[feature].dtypes == 'O']\n",
        "\n",
        "categorical"
      ]
    },
    {
      "cell_type": "code",
      "execution_count": 121,
      "metadata": {
        "colab": {
          "base_uri": "https://localhost:8080/"
        },
        "id": "TDtjJlBgmhZS",
        "outputId": "87d36bc4-9665-4cd4-eb48-16b1d7873a3b"
      },
      "outputs": [
        {
          "output_type": "stream",
          "name": "stdout",
          "text": [
            "Number of categories in customer_id = 36083\n",
            "Number of categories in name = 3738\n",
            "Number of categories in gender = 3\n",
            "Number of categories in owns_car = 3\n",
            "Number of categories in owns_house = 2\n",
            "Number of categories in occupation_type = 19\n"
          ]
        }
      ],
      "source": [
        "for feature in categorical:\n",
        "  print(\"Number of categories in {} = {}\".format(feature, len(dataset[feature].unique())))"
      ]
    },
    {
      "cell_type": "code",
      "execution_count": 122,
      "metadata": {
        "colab": {
          "base_uri": "https://localhost:8080/",
          "height": 297
        },
        "id": "FmV87avOmkGa",
        "outputId": "5391d2b2-e4b0-4c50-9202-8d5cf62f54ff"
      },
      "outputs": [
        {
          "output_type": "execute_result",
          "data": {
            "text/plain": [
              "<matplotlib.axes._subplots.AxesSubplot at 0x7fb447d58690>"
            ]
          },
          "metadata": {},
          "execution_count": 122
        },
        {
          "output_type": "display_data",
          "data": {
            "image/png": "[encoded data removed]",
            "text/plain": [
              "<Figure size 432x288 with 1 Axes>"
            ]
          },
          "metadata": {
            "needs_background": "light"
          }
        }
      ],
      "source": [
        "sns.countplot(y=categorical[2],hue='credit_card_default',data=dataset,order=dataset[categorical[2]].value_counts().index)"
      ]
    },
    {
      "cell_type": "code",
      "execution_count": 123,
      "metadata": {
        "colab": {
          "base_uri": "https://localhost:8080/"
        },
        "id": "EougM3Gjm91z",
        "outputId": "f9836949-2bc3-4078-b877-8228aa4cf58a"
      },
      "outputs": [
        {
          "output_type": "execute_result",
          "data": {
            "text/plain": [
              "0"
            ]
          },
          "metadata": {},
          "execution_count": 123
        }
      ],
      "source": [
        "dataset[(dataset['gender']=='XNA') & (dataset['credit_card_default']==1)]['credit_card_default'].sum()"
      ]
    },
    {
      "cell_type": "code",
      "execution_count": 124,
      "metadata": {
        "colab": {
          "base_uri": "https://localhost:8080/"
        },
        "id": "0TLIvpF5nJlM",
        "outputId": "de4522a4-7621-4122-f721-890aaa5d8a01"
      },
      "outputs": [
        {
          "output_type": "execute_result",
          "data": {
            "text/plain": [
              "1"
            ]
          },
          "metadata": {},
          "execution_count": 124
        }
      ],
      "source": [
        "len(dataset[dataset['gender']=='XNA'])"
      ]
    },
    {
      "cell_type": "code",
      "execution_count": 125,
      "metadata": {
        "colab": {
          "base_uri": "https://localhost:8080/",
          "height": 297
        },
        "id": "OPhyuVFymsXo",
        "outputId": "3889985d-45a9-4be6-8aa7-bff9ca6f63ff"
      },
      "outputs": [
        {
          "output_type": "execute_result",
          "data": {
            "text/plain": [
              "<matplotlib.axes._subplots.AxesSubplot at 0x7fb447cd06d0>"
            ]
          },
          "metadata": {},
          "execution_count": 125
        },
        {
          "output_type": "display_data",
          "data": {
            "image/png": "[encoded data removed]",
            "text/plain": [
              "<Figure size 432x288 with 1 Axes>"
            ]
          },
          "metadata": {
            "needs_background": "light"
          }
        }
      ],
      "source": [
        "sns.countplot(y=categorical[3],hue='credit_card_default',data=dataset,order=dataset[categorical[3]].value_counts().index)"
      ]
    },
    {
      "cell_type": "code",
      "execution_count": 126,
      "metadata": {
        "colab": {
          "base_uri": "https://localhost:8080/",
          "height": 297
        },
        "id": "mLJrALaIm0A8",
        "outputId": "92952a6d-6d54-47c4-f5af-5c5601eb4338"
      },
      "outputs": [
        {
          "output_type": "execute_result",
          "data": {
            "text/plain": [
              "<matplotlib.axes._subplots.AxesSubplot at 0x7fb4485ad550>"
            ]
          },
          "metadata": {},
          "execution_count": 126
        },
        {
          "output_type": "display_data",
          "data": {
            "image/png": "[encoded data removed]",
            "text/plain": [
              "<Figure size 432x288 with 1 Axes>"
            ]
          },
          "metadata": {
            "needs_background": "light"
          }
        }
      ],
      "source": [
        "sns.countplot(y=categorical[4],hue='credit_card_default',data=dataset,order=dataset[categorical[4]].value_counts().index)"
      ]
    },
    {
      "cell_type": "code",
      "execution_count": 127,
      "metadata": {
        "colab": {
          "base_uri": "https://localhost:8080/",
          "height": 297
        },
        "id": "K3jvM3qdm3yL",
        "outputId": "fc6077a8-ed31-4b31-8542-53bbea034e4a"
      },
      "outputs": [
        {
          "output_type": "execute_result",
          "data": {
            "text/plain": [
              "<matplotlib.axes._subplots.AxesSubplot at 0x7fb447cdd510>"
            ]
          },
          "metadata": {},
          "execution_count": 127
        },
        {
          "output_type": "display_data",
          "data": {
            "image/png": "[encoded data removed]",
            "text/plain": [
              "<Figure size 432x288 with 1 Axes>"
            ]
          },
          "metadata": {
            "needs_background": "light"
          }
        }
      ],
      "source": [
        "sns.countplot(y=categorical[5],hue='credit_card_default',data=dataset,order=dataset[categorical[5]].value_counts().index)"
      ]
    },
    {
      "cell_type": "markdown",
      "metadata": {
        "id": "WkzebNsGoOGi"
      },
      "source": [
        "MISSING VALUES"
      ]
    },
    {
      "cell_type": "code",
      "execution_count": 128,
      "metadata": {
        "colab": {
          "base_uri": "https://localhost:8080/"
        },
        "id": "79w_3YHgm7m4",
        "outputId": "d43f69d7-4050-43d4-b452-34136fe769d7"
      },
      "outputs": [
        {
          "output_type": "stream",
          "name": "stdout",
          "text": [
            "owns_car 0.0119 % missing values\n",
            "no_of_children 0.0175 % missing values\n",
            "total_family_members 0.0018 % missing values\n",
            "migrant_worker 0.0016 % missing values\n",
            "credit_score 0.0002 % missing values\n"
          ]
        }
      ],
      "source": [
        "featuresWithNaN = [feature for feature in dataset.columns if dataset[feature].isna().sum()>0]\n",
        "\n",
        "for feature in featuresWithNaN:\n",
        "  print(feature, np.round(dataset[feature].isnull().mean(),4), '% missing values')"
      ]
    },
    {
      "cell_type": "code",
      "execution_count": 129,
      "metadata": {
        "colab": {
          "base_uri": "https://localhost:8080/"
        },
        "id": "qHvHPexaoUJF",
        "outputId": "df169452-e72b-46d5-e750-6290a87525a0"
      },
      "outputs": [
        {
          "output_type": "stream",
          "name": "stdout",
          "text": [
            "owns_car 36\n",
            "no_of_children 59\n",
            "total_family_members 6\n",
            "migrant_worker 4\n",
            "credit_score 1\n"
          ]
        }
      ],
      "source": [
        "for feature in featuresWithNaN:\n",
        "  print(feature, dataset[(dataset[feature].isnull()) & (dataset['credit_card_default']==1)]['credit_card_default'].sum())"
      ]
    },
    {
      "cell_type": "markdown",
      "metadata": {
        "id": "cvhfF1A5rhvy"
      },
      "source": [
        "#CLEANING BASED ON ANALYSIS"
      ]
    },
    {
      "cell_type": "markdown",
      "metadata": {
        "id": "g26xa-Tovu1i"
      },
      "source": [
        "FIXING CLASSES"
      ]
    },
    {
      "cell_type": "code",
      "execution_count": 130,
      "metadata": {
        "colab": {
          "base_uri": "https://localhost:8080/"
        },
        "id": "LIQnyuIrpOKe",
        "outputId": "c25ae253-5307-4498-eccc-95d8016f932c"
      },
      "outputs": [
        {
          "output_type": "execute_result",
          "data": {
            "text/plain": [
              "array(['F', 'M'], dtype=object)"
            ]
          },
          "metadata": {},
          "execution_count": 130
        }
      ],
      "source": [
        "dataset['gender'] = dataset['gender'].apply(lambda x: 'F' if x=='XNA' else x)\n",
        "\n",
        "dataset['gender'].unique()"
      ]
    },
    {
      "cell_type": "code",
      "execution_count": 131,
      "metadata": {
        "id": "k1LZ691cJwzE"
      },
      "outputs": [],
      "source": [
        "X_test['gender'] = X_test['gender'].apply(lambda x: 'F' if x=='XNA' else x)"
      ]
    },
    {
      "cell_type": "code",
      "execution_count": 132,
      "metadata": {
        "id": "RLsFkUd9wEtX"
      },
      "outputs": [],
      "source": [
        "bins= [20,33,43,56]\n",
        "labels = ['23-33','33-43','43-55']\n",
        "dataset['AgeGroup'] = pd.cut(dataset['age'], bins=bins, labels=labels, right=False)"
      ]
    },
    {
      "cell_type": "code",
      "execution_count": 133,
      "metadata": {
        "id": "3knP9XETJ2LM"
      },
      "outputs": [],
      "source": [
        "X_test['AgeGroup'] = pd.cut(X_test['age'], bins=bins, labels=labels, right=False)"
      ]
    },
    {
      "cell_type": "code",
      "execution_count": 134,
      "metadata": {
        "id": "0aiF7zHpusSb"
      },
      "outputs": [],
      "source": [
        "datset_temp = dataset.copy()"
      ]
    },
    {
      "cell_type": "code",
      "execution_count": 135,
      "metadata": {
        "id": "t2lRY3OxtDmj"
      },
      "outputs": [],
      "source": [
        "for feature in ['no_of_children','total_family_members','occupation_type']:\n",
        "    temp = dataset.groupby(feature)['credit_card_default'].count()/len(dataset)\n",
        "    temp_df = temp[temp>0.02].index\n",
        "    datset_temp[feature] = np.where(dataset[feature].isin(temp_df),dataset[feature],'Rare')"
      ]
    },
    {
      "cell_type": "code",
      "execution_count": 136,
      "metadata": {
        "colab": {
          "base_uri": "https://localhost:8080/",
          "height": 298
        },
        "id": "P0YK9kLJuv8r",
        "outputId": "91ab1416-8d85-4910-e58c-c3a88ad51171"
      },
      "outputs": [
        {
          "output_type": "execute_result",
          "data": {
            "text/plain": [
              "<matplotlib.axes._subplots.AxesSubplot at 0x7fb447b082d0>"
            ]
          },
          "metadata": {},
          "execution_count": 136
        },
        {
          "output_type": "display_data",
          "data": {
            "image/png": "[encoded data removed]",
            "text/plain": [
              "<Figure size 432x288 with 1 Axes>"
            ]
          },
          "metadata": {
            "needs_background": "light"
          }
        }
      ],
      "source": [
        "sns.countplot(x=discrete[0],hue='credit_card_default',data=datset_temp,order=datset_temp[discrete[0]].value_counts().index)"
      ]
    },
    {
      "cell_type": "code",
      "execution_count": 137,
      "metadata": {
        "colab": {
          "base_uri": "https://localhost:8080/",
          "height": 298
        },
        "id": "3Zhf-NNau5Om",
        "outputId": "36b0b986-de89-4ddb-b7d2-434e02876237"
      },
      "outputs": [
        {
          "output_type": "execute_result",
          "data": {
            "text/plain": [
              "<matplotlib.axes._subplots.AxesSubplot at 0x7fb447a87610>"
            ]
          },
          "metadata": {},
          "execution_count": 137
        },
        {
          "output_type": "display_data",
          "data": {
            "image/png": "[encoded data removed]",
            "text/plain": [
              "<Figure size 432x288 with 1 Axes>"
            ]
          },
          "metadata": {
            "needs_background": "light"
          }
        }
      ],
      "source": [
        "sns.countplot(x=discrete[1],hue='credit_card_default',data=datset_temp,order=datset_temp[discrete[1]].value_counts().index)"
      ]
    },
    {
      "cell_type": "code",
      "execution_count": 138,
      "metadata": {
        "colab": {
          "base_uri": "https://localhost:8080/",
          "height": 297
        },
        "id": "yvOIaIHPvAxB",
        "outputId": "b1d641fa-ebad-4717-abc5-2efb986bd055"
      },
      "outputs": [
        {
          "output_type": "execute_result",
          "data": {
            "text/plain": [
              "<matplotlib.axes._subplots.AxesSubplot at 0x7fb447a12b50>"
            ]
          },
          "metadata": {},
          "execution_count": 138
        },
        {
          "output_type": "display_data",
          "data": {
            "image/png": "[encoded data removed]",
            "text/plain": [
              "<Figure size 432x288 with 1 Axes>"
            ]
          },
          "metadata": {
            "needs_background": "light"
          }
        }
      ],
      "source": [
        "sns.countplot(y=categorical[5],hue='credit_card_default',data=datset_temp,order=datset_temp[categorical[5]].value_counts().index)"
      ]
    },
    {
      "cell_type": "code",
      "execution_count": 139,
      "metadata": {
        "id": "ozULQwD6vPL8"
      },
      "outputs": [],
      "source": [
        "for feature in ['no_of_children','total_family_members','occupation_type']:\n",
        "    temp = dataset.groupby(feature)['credit_card_default'].count()/len(dataset)\n",
        "    temp_df = temp[temp>0.02].index\n",
        "    dataset[feature] = np.where(dataset[feature].isin(temp_df),dataset[feature],'Rare')"
      ]
    },
    {
      "cell_type": "code",
      "execution_count": 140,
      "metadata": {
        "id": "YQirxNtNJ98o"
      },
      "outputs": [],
      "source": [
        "for feature in ['no_of_children','total_family_members','occupation_type']:\n",
        "    temp = X_test.groupby(feature)['customer_id'].count()/len(X_test)\n",
        "    temp_df = temp[temp>0.02].index\n",
        "    X_test[feature] = np.where(X_test[feature].isin(temp_df),X_test[feature],'Rare')"
      ]
    },
    {
      "cell_type": "code",
      "execution_count": 141,
      "metadata": {
        "id": "eBxyp3VTyOGB"
      },
      "outputs": [],
      "source": [
        "dataset.AgeGroup = dataset.AgeGroup.astype('object')\n",
        "dataset.no_of_children = dataset.no_of_children.astype('object')\n",
        "dataset.total_family_members = dataset.total_family_members.astype('object')\n",
        "dataset.occupation_type = dataset.occupation_type.astype('object')"
      ]
    },
    {
      "cell_type": "code",
      "execution_count": 142,
      "metadata": {
        "id": "GW6-Ziw5KOFP"
      },
      "outputs": [],
      "source": [
        "X_test.AgeGroup = X_test.AgeGroup.astype('object')\n",
        "X_test.no_of_children = X_test.no_of_children.astype('object')\n",
        "X_test.total_family_members = X_test.total_family_members.astype('object')\n",
        "X_test.occupation_type = X_test.occupation_type.astype('object')"
      ]
    },
    {
      "cell_type": "markdown",
      "metadata": {
        "id": "jBJExx7dv2v5"
      },
      "source": [
        "FILLING NAN VALUES"
      ]
    },
    {
      "cell_type": "code",
      "source": [
        "dataset.isna().sum()"
      ],
      "metadata": {
        "colab": {
          "base_uri": "https://localhost:8080/"
        },
        "id": "iqARwDMrp9UT",
        "outputId": "b7105512-61e7-4f42-bb47-830c927c14b0"
      },
      "execution_count": 143,
      "outputs": [
        {
          "output_type": "execute_result",
          "data": {
            "text/plain": [
              "customer_id                  0\n",
              "name                         0\n",
              "age                          0\n",
              "gender                       0\n",
              "owns_car                   430\n",
              "owns_house                   0\n",
              "no_of_children               0\n",
              "net_yearly_income            0\n",
              "no_of_days_employed          0\n",
              "occupation_type              0\n",
              "total_family_members         0\n",
              "migrant_worker              58\n",
              "yearly_debt_payments         0\n",
              "credit_limit                 0\n",
              "credit_limit_used(%)         0\n",
              "credit_score                 7\n",
              "prev_defaults                0\n",
              "default_in_last_6months      0\n",
              "credit_card_default          0\n",
              "log_income                   0\n",
              "log_emp_days                 0\n",
              "sqrt_debt                    0\n",
              "log_cred_lim                 0\n",
              "AgeGroup                     0\n",
              "dtype: int64"
            ]
          },
          "metadata": {},
          "execution_count": 143
        }
      ]
    },
    {
      "cell_type": "code",
      "execution_count": 144,
      "metadata": {
        "colab": {
          "base_uri": "https://localhost:8080/"
        },
        "id": "k3Qg0o0kvmY9",
        "outputId": "28448ee1-51fa-4fe4-db12-6fd5d587e4bf"
      },
      "outputs": [
        {
          "output_type": "execute_result",
          "data": {
            "text/plain": [
              "customer_id                0\n",
              "name                       0\n",
              "age                        0\n",
              "gender                     0\n",
              "owns_car                   0\n",
              "owns_house                 0\n",
              "no_of_children             0\n",
              "net_yearly_income          0\n",
              "no_of_days_employed        0\n",
              "occupation_type            0\n",
              "total_family_members       0\n",
              "migrant_worker             0\n",
              "yearly_debt_payments       0\n",
              "credit_limit               0\n",
              "credit_limit_used(%)       0\n",
              "credit_score               0\n",
              "prev_defaults              0\n",
              "default_in_last_6months    0\n",
              "credit_card_default        0\n",
              "log_income                 0\n",
              "log_emp_days               0\n",
              "sqrt_debt                  0\n",
              "log_cred_lim               0\n",
              "AgeGroup                   0\n",
              "dtype: int64"
            ]
          },
          "metadata": {},
          "execution_count": 144
        }
      ],
      "source": [
        "dataset = dataset.dropna()\n",
        "dataset.isna().sum()"
      ]
    },
    {
      "cell_type": "code",
      "execution_count": 145,
      "metadata": {
        "colab": {
          "base_uri": "https://localhost:8080/"
        },
        "id": "it8TKBlJKUtc",
        "outputId": "f909b192-c83f-460f-8f01-0839df28ac2a"
      },
      "outputs": [
        {
          "output_type": "execute_result",
          "data": {
            "text/plain": [
              "customer_id                0\n",
              "name                       0\n",
              "age                        0\n",
              "gender                     0\n",
              "owns_car                   0\n",
              "owns_house                 0\n",
              "no_of_children             0\n",
              "net_yearly_income          0\n",
              "no_of_days_employed        0\n",
              "occupation_type            0\n",
              "total_family_members       0\n",
              "migrant_worker             0\n",
              "yearly_debt_payments       0\n",
              "credit_limit               0\n",
              "credit_limit_used(%)       0\n",
              "credit_score               0\n",
              "prev_defaults              0\n",
              "default_in_last_6months    0\n",
              "log_income                 0\n",
              "log_emp_days               0\n",
              "sqrt_debt                  0\n",
              "log_cred_lim               0\n",
              "AgeGroup                   0\n",
              "dtype: int64"
            ]
          },
          "metadata": {},
          "execution_count": 145
        }
      ],
      "source": [
        "X_test.isna().sum()"
      ]
    },
    {
      "cell_type": "code",
      "execution_count": 146,
      "metadata": {
        "colab": {
          "base_uri": "https://localhost:8080/"
        },
        "id": "uvNudDWiLGTc",
        "outputId": "be35ffa6-671d-483d-e5aa-a2a603e756e7"
      },
      "outputs": [
        {
          "output_type": "stream",
          "name": "stdout",
          "text": [
            "customer_id 35590\n",
            "name 3724\n",
            "age 33\n",
            "gender 2\n",
            "owns_car 2\n",
            "owns_house 2\n",
            "no_of_children 4\n",
            "net_yearly_income 35577\n",
            "no_of_days_employed 7756\n",
            "occupation_type 12\n",
            "total_family_members 5\n",
            "migrant_worker 2\n",
            "yearly_debt_payments 35465\n",
            "credit_limit 35488\n",
            "credit_limit_used(%) 100\n",
            "credit_score 450\n",
            "prev_defaults 3\n",
            "default_in_last_6months 2\n",
            "credit_card_default 2\n",
            "log_income 35577\n",
            "log_emp_days 7756\n",
            "sqrt_debt 35465\n",
            "log_cred_lim 35488\n",
            "AgeGroup 3\n"
          ]
        }
      ],
      "source": [
        "for i in dataset:\n",
        "  print(i , len(dataset[i].unique()))"
      ]
    },
    {
      "cell_type": "code",
      "source": [
        "dataset = dataset.drop(['net_yearly_income','no_of_days_employed','yearly_debt_payments','credit_limit'],axis=1)\n",
        "X_test = X_test.drop(['net_yearly_income','no_of_days_employed','yearly_debt_payments','credit_limit'],axis=1)"
      ],
      "metadata": {
        "id": "pqxR59v7r8WD"
      },
      "execution_count": 147,
      "outputs": []
    },
    {
      "cell_type": "markdown",
      "metadata": {
        "id": "5qurJ8xw5COa"
      },
      "source": [
        "CORRELATION"
      ]
    },
    {
      "cell_type": "code",
      "source": [
        "dataset.head()"
      ],
      "metadata": {
        "colab": {
          "base_uri": "https://localhost:8080/",
          "height": 304
        },
        "id": "5spMBlVdMIy3",
        "outputId": "28c6be8c-523c-4c62-d9cc-d63192893aa4"
      },
      "execution_count": 148,
      "outputs": [
        {
          "output_type": "execute_result",
          "data": {
            "text/html": [
              "\n",
              "  <div id=\"df-fc8311bb-8d83-49c1-bcf2-6dbd3c751820\">\n",
              "    <div class=\"colab-df-container\">\n",
              "      <div>\n",
              "<style scoped>\n",
              "    .dataframe tbody tr th:only-of-type {\n",
              "        vertical-align: middle;\n",
              "    }\n",
              "\n",
              "    .dataframe tbody tr th {\n",
              "        vertical-align: top;\n",
              "    }\n",
              "\n",
              "    .dataframe thead th {\n",
              "        text-align: right;\n",
              "    }\n",
              "</style>\n",
              "<table border=\"1\" class=\"dataframe\">\n",
              "  <thead>\n",
              "    <tr style=\"text-align: right;\">\n",
              "      <th></th>\n",
              "      <th>customer_id</th>\n",
              "      <th>name</th>\n",
              "      <th>age</th>\n",
              "      <th>gender</th>\n",
              "      <th>owns_car</th>\n",
              "      <th>owns_house</th>\n",
              "      <th>no_of_children</th>\n",
              "      <th>occupation_type</th>\n",
              "      <th>total_family_members</th>\n",
              "      <th>migrant_worker</th>\n",
              "      <th>credit_limit_used(%)</th>\n",
              "      <th>credit_score</th>\n",
              "      <th>prev_defaults</th>\n",
              "      <th>default_in_last_6months</th>\n",
              "      <th>credit_card_default</th>\n",
              "      <th>log_income</th>\n",
              "      <th>log_emp_days</th>\n",
              "      <th>sqrt_debt</th>\n",
              "      <th>log_cred_lim</th>\n",
              "      <th>AgeGroup</th>\n",
              "    </tr>\n",
              "  </thead>\n",
              "  <tbody>\n",
              "    <tr>\n",
              "      <th>0</th>\n",
              "      <td>CST_115179</td>\n",
              "      <td>ita Bose</td>\n",
              "      <td>46</td>\n",
              "      <td>F</td>\n",
              "      <td>N</td>\n",
              "      <td>Y</td>\n",
              "      <td>0.0</td>\n",
              "      <td>Unknown</td>\n",
              "      <td>1.0</td>\n",
              "      <td>1.0</td>\n",
              "      <td>73</td>\n",
              "      <td>544.0</td>\n",
              "      <td>2</td>\n",
              "      <td>1</td>\n",
              "      <td>1</td>\n",
              "      <td>11.589276</td>\n",
              "      <td>6.424869</td>\n",
              "      <td>181.852358</td>\n",
              "      <td>9.835847</td>\n",
              "      <td>43-55</td>\n",
              "    </tr>\n",
              "    <tr>\n",
              "      <th>1</th>\n",
              "      <td>CST_121920</td>\n",
              "      <td>Alper Jonathan</td>\n",
              "      <td>29</td>\n",
              "      <td>M</td>\n",
              "      <td>N</td>\n",
              "      <td>Y</td>\n",
              "      <td>0.0</td>\n",
              "      <td>Laborers</td>\n",
              "      <td>2.0</td>\n",
              "      <td>0.0</td>\n",
              "      <td>52</td>\n",
              "      <td>857.0</td>\n",
              "      <td>0</td>\n",
              "      <td>0</td>\n",
              "      <td>0</td>\n",
              "      <td>11.606986</td>\n",
              "      <td>7.928766</td>\n",
              "      <td>123.812479</td>\n",
              "      <td>10.538640</td>\n",
              "      <td>23-33</td>\n",
              "    </tr>\n",
              "    <tr>\n",
              "      <th>2</th>\n",
              "      <td>CST_109330</td>\n",
              "      <td>Umesh Desai</td>\n",
              "      <td>37</td>\n",
              "      <td>M</td>\n",
              "      <td>N</td>\n",
              "      <td>Y</td>\n",
              "      <td>0.0</td>\n",
              "      <td>Laborers</td>\n",
              "      <td>2.0</td>\n",
              "      <td>0.0</td>\n",
              "      <td>43</td>\n",
              "      <td>650.0</td>\n",
              "      <td>0</td>\n",
              "      <td>0</td>\n",
              "      <td>0</td>\n",
              "      <td>12.346500</td>\n",
              "      <td>5.342334</td>\n",
              "      <td>220.037724</td>\n",
              "      <td>10.635840</td>\n",
              "      <td>33-43</td>\n",
              "    </tr>\n",
              "    <tr>\n",
              "      <th>3</th>\n",
              "      <td>CST_128288</td>\n",
              "      <td>Rie</td>\n",
              "      <td>39</td>\n",
              "      <td>F</td>\n",
              "      <td>N</td>\n",
              "      <td>Y</td>\n",
              "      <td>0.0</td>\n",
              "      <td>Core staff</td>\n",
              "      <td>2.0</td>\n",
              "      <td>0.0</td>\n",
              "      <td>20</td>\n",
              "      <td>754.0</td>\n",
              "      <td>0</td>\n",
              "      <td>0</td>\n",
              "      <td>0</td>\n",
              "      <td>11.714443</td>\n",
              "      <td>9.388152</td>\n",
              "      <td>150.247662</td>\n",
              "      <td>10.392949</td>\n",
              "      <td>33-43</td>\n",
              "    </tr>\n",
              "    <tr>\n",
              "      <th>4</th>\n",
              "      <td>CST_151355</td>\n",
              "      <td>McCool</td>\n",
              "      <td>46</td>\n",
              "      <td>M</td>\n",
              "      <td>Y</td>\n",
              "      <td>Y</td>\n",
              "      <td>0.0</td>\n",
              "      <td>Core staff</td>\n",
              "      <td>1.0</td>\n",
              "      <td>0.0</td>\n",
              "      <td>75</td>\n",
              "      <td>927.0</td>\n",
              "      <td>0</td>\n",
              "      <td>0</td>\n",
              "      <td>0</td>\n",
              "      <td>12.866919</td>\n",
              "      <td>7.288928</td>\n",
              "      <td>195.660292</td>\n",
              "      <td>10.877134</td>\n",
              "      <td>43-55</td>\n",
              "    </tr>\n",
              "  </tbody>\n",
              "</table>\n",
              "</div>\n",
              "      <button class=\"colab-df-convert\" onclick=\"convertToInteractive('df-fc8311bb-8d83-49c1-bcf2-6dbd3c751820')\"\n",
              "              title=\"Convert this dataframe to an interactive table.\"\n",
              "              style=\"display:none;\">\n",
              "        \n",
              "  <svg xmlns=\"http://www.w3.org/2000/svg\" height=\"24px\"viewBox=\"0 0 24 24\"\n",
              "       width=\"24px\">\n",
              "    <path d=\"M0 0h24v24H0V0z\" fill=\"none\"/>\n",
              "    <path d=\"M18.56 5.44l.94 2.06.94-2.06 2.06-.94-2.06-.94-.94-2.06-.94 2.06-2.06.94zm-11 1L8.5 8.5l.94-2.06 2.06-.94-2.06-.94L8.5 2.5l-.94 2.06-2.06.94zm10 10l.94 2.06.94-2.06 2.06-.94-2.06-.94-.94-2.06-.94 2.06-2.06.94z\"/><path d=\"M17.41 7.96l-1.37-1.37c-.4-.4-.92-.59-1.43-.59-.52 0-1.04.2-1.43.59L10.3 9.45l-7.72 7.72c-.78.78-.78 2.05 0 2.83L4 21.41c.39.39.9.59 1.41.59.51 0 1.02-.2 1.41-.59l7.78-7.78 2.81-2.81c.8-.78.8-2.07 0-2.86zM5.41 20L4 18.59l7.72-7.72 1.47 1.35L5.41 20z\"/>\n",
              "  </svg>\n",
              "      </button>\n",
              "      \n",
              "  <style>\n",
              "    .colab-df-container {\n",
              "      display:flex;\n",
              "      flex-wrap:wrap;\n",
              "      gap: 12px;\n",
              "    }\n",
              "\n",
              "    .colab-df-convert {\n",
              "      background-color: #E8F0FE;\n",
              "      border: none;\n",
              "      border-radius: 50%;\n",
              "      cursor: pointer;\n",
              "      display: none;\n",
              "      fill: #1967D2;\n",
              "      height: 32px;\n",
              "      padding: 0 0 0 0;\n",
              "      width: 32px;\n",
              "    }\n",
              "\n",
              "    .colab-df-convert:hover {\n",
              "      background-color: #E2EBFA;\n",
              "      box-shadow: 0px 1px 2px rgba(60, 64, 67, 0.3), 0px 1px 3px 1px rgba(60, 64, 67, 0.15);\n",
              "      fill: #174EA6;\n",
              "    }\n",
              "\n",
              "    [theme=dark] .colab-df-convert {\n",
              "      background-color: #3B4455;\n",
              "      fill: #D2E3FC;\n",
              "    }\n",
              "\n",
              "    [theme=dark] .colab-df-convert:hover {\n",
              "      background-color: #434B5C;\n",
              "      box-shadow: 0px 1px 3px 1px rgba(0, 0, 0, 0.15);\n",
              "      filter: drop-shadow(0px 1px 2px rgba(0, 0, 0, 0.3));\n",
              "      fill: #FFFFFF;\n",
              "    }\n",
              "  </style>\n",
              "\n",
              "      <script>\n",
              "        const buttonEl =\n",
              "          document.querySelector('#df-fc8311bb-8d83-49c1-bcf2-6dbd3c751820 button.colab-df-convert');\n",
              "        buttonEl.style.display =\n",
              "          google.colab.kernel.accessAllowed ? 'block' : 'none';\n",
              "\n",
              "        async function convertToInteractive(key) {\n",
              "          const element = document.querySelector('#df-fc8311bb-8d83-49c1-bcf2-6dbd3c751820');\n",
              "          const dataTable =\n",
              "            await google.colab.kernel.invokeFunction('convertToInteractive',\n",
              "                                                     [key], {});\n",
              "          if (!dataTable) return;\n",
              "\n",
              "          const docLinkHtml = 'Like what you see? Visit the ' +\n",
              "            '<a target=\"_blank\" href=https://colab.research.google.com/notebooks/data_table.ipynb>data table notebook</a>'\n",
              "            + ' to learn more about interactive tables.';\n",
              "          element.innerHTML = '';\n",
              "          dataTable['output_type'] = 'display_data';\n",
              "          await google.colab.output.renderOutput(dataTable, element);\n",
              "          const docLink = document.createElement('div');\n",
              "          docLink.innerHTML = docLinkHtml;\n",
              "          element.appendChild(docLink);\n",
              "        }\n",
              "      </script>\n",
              "    </div>\n",
              "  </div>\n",
              "  "
            ],
            "text/plain": [
              "  customer_id            name  age  ...   sqrt_debt log_cred_lim AgeGroup\n",
              "0  CST_115179        ita Bose   46  ...  181.852358     9.835847    43-55\n",
              "1  CST_121920  Alper Jonathan   29  ...  123.812479    10.538640    23-33\n",
              "2  CST_109330     Umesh Desai   37  ...  220.037724    10.635840    33-43\n",
              "3  CST_128288             Rie   39  ...  150.247662    10.392949    33-43\n",
              "4  CST_151355          McCool   46  ...  195.660292    10.877134    43-55\n",
              "\n",
              "[5 rows x 20 columns]"
            ]
          },
          "metadata": {},
          "execution_count": 148
        }
      ]
    },
    {
      "cell_type": "code",
      "execution_count": 149,
      "metadata": {
        "colab": {
          "base_uri": "https://localhost:8080/",
          "height": 997
        },
        "id": "us4PCJcP5Btg",
        "outputId": "6d0b10db-c850-45e7-a294-49ec4478336a"
      },
      "outputs": [
        {
          "output_type": "execute_result",
          "data": {
            "text/plain": [
              "<matplotlib.axes._subplots.AxesSubplot at 0x7fb4474fcb90>"
            ]
          },
          "metadata": {},
          "execution_count": 149
        },
        {
          "output_type": "display_data",
          "data": {
            "image/png": "[encoded data removed]",
            "text/plain": [
              "<Figure size 1080x1080 with 2 Axes>"
            ]
          },
          "metadata": {
            "needs_background": "light"
          }
        }
      ],
      "source": [
        "fig, ax = plt.subplots(figsize=(15,15))         # Sample figsize in inches\n",
        "sns.heatmap(dataset.corr(), cmap='Blues',annot=True, linewidths=.5, ax=ax)"
      ]
    },
    {
      "cell_type": "code",
      "execution_count": 150,
      "metadata": {
        "id": "hghTuzVcElj2"
      },
      "outputs": [],
      "source": [
        "dataset = dataset.drop(['prev_defaults','customer_id','name','age','log_income','default_in_last_6months'],axis=1) # removing 'prev_defaults','customer_id','name','age','log_income',last 6 months gave best acc rf"
      ]
    },
    {
      "cell_type": "code",
      "execution_count": 151,
      "metadata": {
        "id": "-Q8FtU-rPm2z"
      },
      "outputs": [],
      "source": [
        "customer_id = X_test['customer_id']\n",
        "X_test = X_test.drop(['prev_defaults','customer_id','name','age','log_income','default_in_last_6months'],axis=1)"
      ]
    },
    {
      "cell_type": "code",
      "execution_count": 152,
      "metadata": {
        "colab": {
          "base_uri": "https://localhost:8080/",
          "height": 270
        },
        "id": "uzo8hy2JF1ez",
        "outputId": "7d83b86a-feb4-4943-ec78-759aa1fc4659"
      },
      "outputs": [
        {
          "output_type": "execute_result",
          "data": {
            "text/html": [
              "\n",
              "  <div id=\"df-c472ecb7-d8bb-4679-82be-80231596b6a4\">\n",
              "    <div class=\"colab-df-container\">\n",
              "      <div>\n",
              "<style scoped>\n",
              "    .dataframe tbody tr th:only-of-type {\n",
              "        vertical-align: middle;\n",
              "    }\n",
              "\n",
              "    .dataframe tbody tr th {\n",
              "        vertical-align: top;\n",
              "    }\n",
              "\n",
              "    .dataframe thead th {\n",
              "        text-align: right;\n",
              "    }\n",
              "</style>\n",
              "<table border=\"1\" class=\"dataframe\">\n",
              "  <thead>\n",
              "    <tr style=\"text-align: right;\">\n",
              "      <th></th>\n",
              "      <th>gender</th>\n",
              "      <th>owns_car</th>\n",
              "      <th>owns_house</th>\n",
              "      <th>no_of_children</th>\n",
              "      <th>occupation_type</th>\n",
              "      <th>total_family_members</th>\n",
              "      <th>migrant_worker</th>\n",
              "      <th>credit_limit_used(%)</th>\n",
              "      <th>credit_score</th>\n",
              "      <th>credit_card_default</th>\n",
              "      <th>log_emp_days</th>\n",
              "      <th>sqrt_debt</th>\n",
              "      <th>log_cred_lim</th>\n",
              "      <th>AgeGroup</th>\n",
              "    </tr>\n",
              "  </thead>\n",
              "  <tbody>\n",
              "    <tr>\n",
              "      <th>0</th>\n",
              "      <td>F</td>\n",
              "      <td>N</td>\n",
              "      <td>Y</td>\n",
              "      <td>0.0</td>\n",
              "      <td>Unknown</td>\n",
              "      <td>1.0</td>\n",
              "      <td>1.0</td>\n",
              "      <td>73</td>\n",
              "      <td>544.0</td>\n",
              "      <td>1</td>\n",
              "      <td>6.424869</td>\n",
              "      <td>181.852358</td>\n",
              "      <td>9.835847</td>\n",
              "      <td>43-55</td>\n",
              "    </tr>\n",
              "    <tr>\n",
              "      <th>1</th>\n",
              "      <td>M</td>\n",
              "      <td>N</td>\n",
              "      <td>Y</td>\n",
              "      <td>0.0</td>\n",
              "      <td>Laborers</td>\n",
              "      <td>2.0</td>\n",
              "      <td>0.0</td>\n",
              "      <td>52</td>\n",
              "      <td>857.0</td>\n",
              "      <td>0</td>\n",
              "      <td>7.928766</td>\n",
              "      <td>123.812479</td>\n",
              "      <td>10.538640</td>\n",
              "      <td>23-33</td>\n",
              "    </tr>\n",
              "    <tr>\n",
              "      <th>2</th>\n",
              "      <td>M</td>\n",
              "      <td>N</td>\n",
              "      <td>Y</td>\n",
              "      <td>0.0</td>\n",
              "      <td>Laborers</td>\n",
              "      <td>2.0</td>\n",
              "      <td>0.0</td>\n",
              "      <td>43</td>\n",
              "      <td>650.0</td>\n",
              "      <td>0</td>\n",
              "      <td>5.342334</td>\n",
              "      <td>220.037724</td>\n",
              "      <td>10.635840</td>\n",
              "      <td>33-43</td>\n",
              "    </tr>\n",
              "    <tr>\n",
              "      <th>3</th>\n",
              "      <td>F</td>\n",
              "      <td>N</td>\n",
              "      <td>Y</td>\n",
              "      <td>0.0</td>\n",
              "      <td>Core staff</td>\n",
              "      <td>2.0</td>\n",
              "      <td>0.0</td>\n",
              "      <td>20</td>\n",
              "      <td>754.0</td>\n",
              "      <td>0</td>\n",
              "      <td>9.388152</td>\n",
              "      <td>150.247662</td>\n",
              "      <td>10.392949</td>\n",
              "      <td>33-43</td>\n",
              "    </tr>\n",
              "    <tr>\n",
              "      <th>4</th>\n",
              "      <td>M</td>\n",
              "      <td>Y</td>\n",
              "      <td>Y</td>\n",
              "      <td>0.0</td>\n",
              "      <td>Core staff</td>\n",
              "      <td>1.0</td>\n",
              "      <td>0.0</td>\n",
              "      <td>75</td>\n",
              "      <td>927.0</td>\n",
              "      <td>0</td>\n",
              "      <td>7.288928</td>\n",
              "      <td>195.660292</td>\n",
              "      <td>10.877134</td>\n",
              "      <td>43-55</td>\n",
              "    </tr>\n",
              "  </tbody>\n",
              "</table>\n",
              "</div>\n",
              "      <button class=\"colab-df-convert\" onclick=\"convertToInteractive('df-c472ecb7-d8bb-4679-82be-80231596b6a4')\"\n",
              "              title=\"Convert this dataframe to an interactive table.\"\n",
              "              style=\"display:none;\">\n",
              "        \n",
              "  <svg xmlns=\"http://www.w3.org/2000/svg\" height=\"24px\"viewBox=\"0 0 24 24\"\n",
              "       width=\"24px\">\n",
              "    <path d=\"M0 0h24v24H0V0z\" fill=\"none\"/>\n",
              "    <path d=\"M18.56 5.44l.94 2.06.94-2.06 2.06-.94-2.06-.94-.94-2.06-.94 2.06-2.06.94zm-11 1L8.5 8.5l.94-2.06 2.06-.94-2.06-.94L8.5 2.5l-.94 2.06-2.06.94zm10 10l.94 2.06.94-2.06 2.06-.94-2.06-.94-.94-2.06-.94 2.06-2.06.94z\"/><path d=\"M17.41 7.96l-1.37-1.37c-.4-.4-.92-.59-1.43-.59-.52 0-1.04.2-1.43.59L10.3 9.45l-7.72 7.72c-.78.78-.78 2.05 0 2.83L4 21.41c.39.39.9.59 1.41.59.51 0 1.02-.2 1.41-.59l7.78-7.78 2.81-2.81c.8-.78.8-2.07 0-2.86zM5.41 20L4 18.59l7.72-7.72 1.47 1.35L5.41 20z\"/>\n",
              "  </svg>\n",
              "      </button>\n",
              "      \n",
              "  <style>\n",
              "    .colab-df-container {\n",
              "      display:flex;\n",
              "      flex-wrap:wrap;\n",
              "      gap: 12px;\n",
              "    }\n",
              "\n",
              "    .colab-df-convert {\n",
              "      background-color: #E8F0FE;\n",
              "      border: none;\n",
              "      border-radius: 50%;\n",
              "      cursor: pointer;\n",
              "      display: none;\n",
              "      fill: #1967D2;\n",
              "      height: 32px;\n",
              "      padding: 0 0 0 0;\n",
              "      width: 32px;\n",
              "    }\n",
              "\n",
              "    .colab-df-convert:hover {\n",
              "      background-color: #E2EBFA;\n",
              "      box-shadow: 0px 1px 2px rgba(60, 64, 67, 0.3), 0px 1px 3px 1px rgba(60, 64, 67, 0.15);\n",
              "      fill: #174EA6;\n",
              "    }\n",
              "\n",
              "    [theme=dark] .colab-df-convert {\n",
              "      background-color: #3B4455;\n",
              "      fill: #D2E3FC;\n",
              "    }\n",
              "\n",
              "    [theme=dark] .colab-df-convert:hover {\n",
              "      background-color: #434B5C;\n",
              "      box-shadow: 0px 1px 3px 1px rgba(0, 0, 0, 0.15);\n",
              "      filter: drop-shadow(0px 1px 2px rgba(0, 0, 0, 0.3));\n",
              "      fill: #FFFFFF;\n",
              "    }\n",
              "  </style>\n",
              "\n",
              "      <script>\n",
              "        const buttonEl =\n",
              "          document.querySelector('#df-c472ecb7-d8bb-4679-82be-80231596b6a4 button.colab-df-convert');\n",
              "        buttonEl.style.display =\n",
              "          google.colab.kernel.accessAllowed ? 'block' : 'none';\n",
              "\n",
              "        async function convertToInteractive(key) {\n",
              "          const element = document.querySelector('#df-c472ecb7-d8bb-4679-82be-80231596b6a4');\n",
              "          const dataTable =\n",
              "            await google.colab.kernel.invokeFunction('convertToInteractive',\n",
              "                                                     [key], {});\n",
              "          if (!dataTable) return;\n",
              "\n",
              "          const docLinkHtml = 'Like what you see? Visit the ' +\n",
              "            '<a target=\"_blank\" href=https://colab.research.google.com/notebooks/data_table.ipynb>data table notebook</a>'\n",
              "            + ' to learn more about interactive tables.';\n",
              "          element.innerHTML = '';\n",
              "          dataTable['output_type'] = 'display_data';\n",
              "          await google.colab.output.renderOutput(dataTable, element);\n",
              "          const docLink = document.createElement('div');\n",
              "          docLink.innerHTML = docLinkHtml;\n",
              "          element.appendChild(docLink);\n",
              "        }\n",
              "      </script>\n",
              "    </div>\n",
              "  </div>\n",
              "  "
            ],
            "text/plain": [
              "  gender owns_car owns_house  ...   sqrt_debt log_cred_lim AgeGroup\n",
              "0      F        N          Y  ...  181.852358     9.835847    43-55\n",
              "1      M        N          Y  ...  123.812479    10.538640    23-33\n",
              "2      M        N          Y  ...  220.037724    10.635840    33-43\n",
              "3      F        N          Y  ...  150.247662    10.392949    33-43\n",
              "4      M        Y          Y  ...  195.660292    10.877134    43-55\n",
              "\n",
              "[5 rows x 14 columns]"
            ]
          },
          "metadata": {},
          "execution_count": 152
        }
      ],
      "source": [
        "dataset.head()"
      ]
    },
    {
      "cell_type": "markdown",
      "metadata": {
        "id": "VMlIHAu-47Lg"
      },
      "source": [
        "SPLIT"
      ]
    },
    {
      "cell_type": "code",
      "execution_count": 153,
      "metadata": {
        "id": "NjECKbs0Fvs8"
      },
      "outputs": [],
      "source": [
        "X = dataset.drop(['credit_card_default'],axis=1)\n",
        "y = dataset['credit_card_default']"
      ]
    },
    {
      "cell_type": "code",
      "source": [
        "from sklearn.feature_selection import SelectKBest\n",
        "from sklearn.feature_selection import f_classif"
      ],
      "metadata": {
        "id": "QmzHgncG0ykx"
      },
      "execution_count": 154,
      "outputs": []
    },
    {
      "cell_type": "code",
      "execution_count": 155,
      "metadata": {
        "id": "SQolwEObiMzS"
      },
      "outputs": [],
      "source": [
        "X_train, X_val, y_train, y_val = train_test_split(X, y, test_size = 0.15, random_state = 42,stratify=dataset.credit_card_default.values)"
      ]
    },
    {
      "cell_type": "markdown",
      "metadata": {
        "id": "iObR7LivG-Jt"
      },
      "source": [
        "ENCODING"
      ]
    },
    {
      "cell_type": "code",
      "execution_count": 156,
      "metadata": {
        "id": "7V1ZmUHsG69u"
      },
      "outputs": [],
      "source": [
        "cbe_encoder = ce.cat_boost.CatBoostEncoder()\n",
        "cbe_encoder.fit(X_train, y_train)\n",
        "X_train = cbe_encoder.transform(X_train)\n",
        "X_val = cbe_encoder.transform(X_val)\n",
        "X_test = cbe_encoder.transform(X_test)"
      ]
    },
    {
      "cell_type": "code",
      "source": [
        "# fs = SelectKBest(score_func=f_classif, k=12)\n",
        "# X_train = fs.fit_transform(X_train, y_train)\n",
        "# X_val = fs.transform(X_val)\n",
        "# X_test = fs.transform(X_test)"
      ],
      "metadata": {
        "id": "JDn8pE4R0zRr"
      },
      "execution_count": 157,
      "outputs": []
    },
    {
      "cell_type": "code",
      "source": [
        "X_train.shape"
      ],
      "metadata": {
        "colab": {
          "base_uri": "https://localhost:8080/"
        },
        "id": "FojAsmJE2103",
        "outputId": "ccf50c75-22ab-4ba9-b534-4f99b5345f2a"
      },
      "execution_count": 158,
      "outputs": [
        {
          "output_type": "execute_result",
          "data": {
            "text/plain": [
              "(30251, 13)"
            ]
          },
          "metadata": {},
          "execution_count": 158
        }
      ]
    },
    {
      "cell_type": "markdown",
      "metadata": {
        "id": "9VM7xt6jG7JN"
      },
      "source": [
        "SCALING"
      ]
    },
    {
      "cell_type": "code",
      "execution_count": 159,
      "metadata": {
        "id": "2cdpVV7jHRU2"
      },
      "outputs": [],
      "source": [
        "sc = StandardScaler()\n",
        "X_train = sc.fit_transform(X_train)\n",
        "X_val = sc.transform(X_val)\n",
        "X_test = sc.transform(X_test)"
      ]
    },
    {
      "cell_type": "markdown",
      "metadata": {
        "id": "JXLON5gO1WWR"
      },
      "source": [
        "TREATING IMBALANCE"
      ]
    },
    {
      "cell_type": "code",
      "execution_count": 160,
      "metadata": {
        "id": "Nzf751e34Ikg"
      },
      "outputs": [],
      "source": [
        "# from imblearn.under_sampling import RandomUnderSampler"
      ]
    },
    {
      "cell_type": "code",
      "execution_count": 161,
      "metadata": {
        "id": "SYjSLf-u1Vvx"
      },
      "outputs": [],
      "source": [
        "# undersample = RandomUnderSampler(sampling_strategy=0.25)\n",
        "# X_train, y_train = undersample.fit_resample(X_train, y_train)\n",
        "\n",
        "# print(X_train.shape, y_train.shape)"
      ]
    },
    {
      "cell_type": "code",
      "execution_count": 162,
      "metadata": {
        "id": "Hhoudc-VIg-S"
      },
      "outputs": [],
      "source": [
        "# print(X_val.shape, y_val.shape)"
      ]
    },
    {
      "cell_type": "code",
      "execution_count": 163,
      "metadata": {
        "id": "f3UcGTexGblX",
        "colab": {
          "base_uri": "https://localhost:8080/",
          "height": 542
        },
        "outputId": "55c6db10-aaac-4ffa-b738-1b9423cba933"
      },
      "outputs": [
        {
          "output_type": "display_data",
          "data": {
            "text/html": [
              "<html>\n",
              "<head><meta charset=\"utf-8\" /></head>\n",
              "<body>\n",
              "    <div>\n",
              "            <script src=\"https://cdnjs.cloudflare.com/ajax/libs/mathjax/2.7.5/MathJax.js?config=TeX-AMS-MML_SVG\"></script><script type=\"text/javascript\">if (window.MathJax) {MathJax.Hub.Config({SVG: {font: \"STIX-Web\"}});}</script>\n",
              "                <script type=\"text/javascript\">window.PlotlyConfig = {MathJaxConfig: 'local'};</script>\n",
              "        <script src=\"https://cdn.plot.ly/plotly-latest.min.js\"></script>    \n",
              "            <div id=\"7c3e2235-5669-4b35-85d0-37b899cf6243\" class=\"plotly-graph-div\" style=\"height:525px; width:100%;\"></div>\n",
              "            <script type=\"text/javascript\">\n",
              "                \n",
              "                    window.PLOTLYENV=window.PLOTLYENV || {};\n",
              "                    \n",
              "                if (document.getElementById(\"7c3e2235-5669-4b35-85d0-37b899cf6243\")) {\n",
              "                    Plotly.newPlot(\n",
              "                        '7c3e2235-5669-4b35-85d0-37b899cf6243',\n",
              "                        [{\"labels\": [\"Not Fraud\", \"Fraud\"], \"type\": \"pie\", \"values\": [27603, 2648]}],\n",
              "                        {\"template\": {\"data\": {\"bar\": [{\"error_x\": {\"color\": \"#2a3f5f\"}, \"error_y\": {\"color\": \"#2a3f5f\"}, \"marker\": {\"line\": {\"color\": \"#E5ECF6\", \"width\": 0.5}}, \"type\": \"bar\"}], \"barpolar\": [{\"marker\": {\"line\": {\"color\": \"#E5ECF6\", \"width\": 0.5}}, \"type\": \"barpolar\"}], \"carpet\": [{\"aaxis\": {\"endlinecolor\": \"#2a3f5f\", \"gridcolor\": \"white\", \"linecolor\": \"white\", \"minorgridcolor\": \"white\", \"startlinecolor\": \"#2a3f5f\"}, \"baxis\": {\"endlinecolor\": \"#2a3f5f\", \"gridcolor\": \"white\", \"linecolor\": \"white\", \"minorgridcolor\": \"white\", \"startlinecolor\": \"#2a3f5f\"}, \"type\": \"carpet\"}], \"choropleth\": [{\"colorbar\": {\"outlinewidth\": 0, \"ticks\": \"\"}, \"type\": \"choropleth\"}], \"contour\": [{\"colorbar\": {\"outlinewidth\": 0, \"ticks\": \"\"}, \"colorscale\": [[0.0, \"#0d0887\"], [0.1111111111111111, \"#46039f\"], [0.2222222222222222, \"#7201a8\"], [0.3333333333333333, \"#9c179e\"], [0.4444444444444444, \"#bd3786\"], [0.5555555555555556, \"#d8576b\"], [0.6666666666666666, \"#ed7953\"], [0.7777777777777778, \"#fb9f3a\"], [0.8888888888888888, \"#fdca26\"], [1.0, \"#f0f921\"]], \"type\": \"contour\"}], \"contourcarpet\": [{\"colorbar\": {\"outlinewidth\": 0, \"ticks\": \"\"}, \"type\": \"contourcarpet\"}], \"heatmap\": [{\"colorbar\": {\"outlinewidth\": 0, \"ticks\": \"\"}, \"colorscale\": [[0.0, \"#0d0887\"], [0.1111111111111111, \"#46039f\"], [0.2222222222222222, \"#7201a8\"], [0.3333333333333333, \"#9c179e\"], [0.4444444444444444, \"#bd3786\"], [0.5555555555555556, \"#d8576b\"], [0.6666666666666666, \"#ed7953\"], [0.7777777777777778, \"#fb9f3a\"], [0.8888888888888888, \"#fdca26\"], [1.0, \"#f0f921\"]], \"type\": \"heatmap\"}], \"heatmapgl\": [{\"colorbar\": {\"outlinewidth\": 0, \"ticks\": \"\"}, \"colorscale\": [[0.0, \"#0d0887\"], [0.1111111111111111, \"#46039f\"], [0.2222222222222222, \"#7201a8\"], [0.3333333333333333, \"#9c179e\"], [0.4444444444444444, \"#bd3786\"], [0.5555555555555556, \"#d8576b\"], [0.6666666666666666, \"#ed7953\"], [0.7777777777777778, \"#fb9f3a\"], [0.8888888888888888, \"#fdca26\"], [1.0, \"#f0f921\"]], \"type\": \"heatmapgl\"}], \"histogram\": [{\"marker\": {\"colorbar\": {\"outlinewidth\": 0, \"ticks\": \"\"}}, \"type\": \"histogram\"}], \"histogram2d\": [{\"colorbar\": {\"outlinewidth\": 0, \"ticks\": \"\"}, \"colorscale\": [[0.0, \"#0d0887\"], [0.1111111111111111, \"#46039f\"], [0.2222222222222222, \"#7201a8\"], [0.3333333333333333, \"#9c179e\"], [0.4444444444444444, \"#bd3786\"], [0.5555555555555556, \"#d8576b\"], [0.6666666666666666, \"#ed7953\"], [0.7777777777777778, \"#fb9f3a\"], [0.8888888888888888, \"#fdca26\"], [1.0, \"#f0f921\"]], \"type\": \"histogram2d\"}], \"histogram2dcontour\": [{\"colorbar\": {\"outlinewidth\": 0, \"ticks\": \"\"}, \"colorscale\": [[0.0, \"#0d0887\"], [0.1111111111111111, \"#46039f\"], [0.2222222222222222, \"#7201a8\"], [0.3333333333333333, \"#9c179e\"], [0.4444444444444444, \"#bd3786\"], [0.5555555555555556, \"#d8576b\"], [0.6666666666666666, \"#ed7953\"], [0.7777777777777778, \"#fb9f3a\"], [0.8888888888888888, \"#fdca26\"], [1.0, \"#f0f921\"]], \"type\": \"histogram2dcontour\"}], \"mesh3d\": [{\"colorbar\": {\"outlinewidth\": 0, \"ticks\": \"\"}, \"type\": \"mesh3d\"}], \"parcoords\": [{\"line\": {\"colorbar\": {\"outlinewidth\": 0, \"ticks\": \"\"}}, \"type\": \"parcoords\"}], \"pie\": [{\"automargin\": true, \"type\": \"pie\"}], \"scatter\": [{\"marker\": {\"colorbar\": {\"outlinewidth\": 0, \"ticks\": \"\"}}, \"type\": \"scatter\"}], \"scatter3d\": [{\"line\": {\"colorbar\": {\"outlinewidth\": 0, \"ticks\": \"\"}}, \"marker\": {\"colorbar\": {\"outlinewidth\": 0, \"ticks\": \"\"}}, \"type\": \"scatter3d\"}], \"scattercarpet\": [{\"marker\": {\"colorbar\": {\"outlinewidth\": 0, \"ticks\": \"\"}}, \"type\": \"scattercarpet\"}], \"scattergeo\": [{\"marker\": {\"colorbar\": {\"outlinewidth\": 0, \"ticks\": \"\"}}, \"type\": \"scattergeo\"}], \"scattergl\": [{\"marker\": {\"colorbar\": {\"outlinewidth\": 0, \"ticks\": \"\"}}, \"type\": \"scattergl\"}], \"scattermapbox\": [{\"marker\": {\"colorbar\": {\"outlinewidth\": 0, \"ticks\": \"\"}}, \"type\": \"scattermapbox\"}], \"scatterpolar\": [{\"marker\": {\"colorbar\": {\"outlinewidth\": 0, \"ticks\": \"\"}}, \"type\": \"scatterpolar\"}], \"scatterpolargl\": [{\"marker\": {\"colorbar\": {\"outlinewidth\": 0, \"ticks\": \"\"}}, \"type\": \"scatterpolargl\"}], \"scatterternary\": [{\"marker\": {\"colorbar\": {\"outlinewidth\": 0, \"ticks\": \"\"}}, \"type\": \"scatterternary\"}], \"surface\": [{\"colorbar\": {\"outlinewidth\": 0, \"ticks\": \"\"}, \"colorscale\": [[0.0, \"#0d0887\"], [0.1111111111111111, \"#46039f\"], [0.2222222222222222, \"#7201a8\"], [0.3333333333333333, \"#9c179e\"], [0.4444444444444444, \"#bd3786\"], [0.5555555555555556, \"#d8576b\"], [0.6666666666666666, \"#ed7953\"], [0.7777777777777778, \"#fb9f3a\"], [0.8888888888888888, \"#fdca26\"], [1.0, \"#f0f921\"]], \"type\": \"surface\"}], \"table\": [{\"cells\": {\"fill\": {\"color\": \"#EBF0F8\"}, \"line\": {\"color\": \"white\"}}, \"header\": {\"fill\": {\"color\": \"#C8D4E3\"}, \"line\": {\"color\": \"white\"}}, \"type\": \"table\"}]}, \"layout\": {\"annotationdefaults\": {\"arrowcolor\": \"#2a3f5f\", \"arrowhead\": 0, \"arrowwidth\": 1}, \"coloraxis\": {\"colorbar\": {\"outlinewidth\": 0, \"ticks\": \"\"}}, \"colorscale\": {\"diverging\": [[0, \"#8e0152\"], [0.1, \"#c51b7d\"], [0.2, \"#de77ae\"], [0.3, \"#f1b6da\"], [0.4, \"#fde0ef\"], [0.5, \"#f7f7f7\"], [0.6, \"#e6f5d0\"], [0.7, \"#b8e186\"], [0.8, \"#7fbc41\"], [0.9, \"#4d9221\"], [1, \"#276419\"]], \"sequential\": [[0.0, \"#0d0887\"], [0.1111111111111111, \"#46039f\"], [0.2222222222222222, \"#7201a8\"], [0.3333333333333333, \"#9c179e\"], [0.4444444444444444, \"#bd3786\"], [0.5555555555555556, \"#d8576b\"], [0.6666666666666666, \"#ed7953\"], [0.7777777777777778, \"#fb9f3a\"], [0.8888888888888888, \"#fdca26\"], [1.0, \"#f0f921\"]], \"sequentialminus\": [[0.0, \"#0d0887\"], [0.1111111111111111, \"#46039f\"], [0.2222222222222222, \"#7201a8\"], [0.3333333333333333, \"#9c179e\"], [0.4444444444444444, \"#bd3786\"], [0.5555555555555556, \"#d8576b\"], [0.6666666666666666, \"#ed7953\"], [0.7777777777777778, \"#fb9f3a\"], [0.8888888888888888, \"#fdca26\"], [1.0, \"#f0f921\"]]}, \"colorway\": [\"#636efa\", \"#EF553B\", \"#00cc96\", \"#ab63fa\", \"#FFA15A\", \"#19d3f3\", \"#FF6692\", \"#B6E880\", \"#FF97FF\", \"#FECB52\"], \"font\": {\"color\": \"#2a3f5f\"}, \"geo\": {\"bgcolor\": \"white\", \"lakecolor\": \"white\", \"landcolor\": \"#E5ECF6\", \"showlakes\": true, \"showland\": true, \"subunitcolor\": \"white\"}, \"hoverlabel\": {\"align\": \"left\"}, \"hovermode\": \"closest\", \"mapbox\": {\"style\": \"light\"}, \"paper_bgcolor\": \"white\", \"plot_bgcolor\": \"#E5ECF6\", \"polar\": {\"angularaxis\": {\"gridcolor\": \"white\", \"linecolor\": \"white\", \"ticks\": \"\"}, \"bgcolor\": \"#E5ECF6\", \"radialaxis\": {\"gridcolor\": \"white\", \"linecolor\": \"white\", \"ticks\": \"\"}}, \"scene\": {\"xaxis\": {\"backgroundcolor\": \"#E5ECF6\", \"gridcolor\": \"white\", \"gridwidth\": 2, \"linecolor\": \"white\", \"showbackground\": true, \"ticks\": \"\", \"zerolinecolor\": \"white\"}, \"yaxis\": {\"backgroundcolor\": \"#E5ECF6\", \"gridcolor\": \"white\", \"gridwidth\": 2, \"linecolor\": \"white\", \"showbackground\": true, \"ticks\": \"\", \"zerolinecolor\": \"white\"}, \"zaxis\": {\"backgroundcolor\": \"#E5ECF6\", \"gridcolor\": \"white\", \"gridwidth\": 2, \"linecolor\": \"white\", \"showbackground\": true, \"ticks\": \"\", \"zerolinecolor\": \"white\"}}, \"shapedefaults\": {\"line\": {\"color\": \"#2a3f5f\"}}, \"ternary\": {\"aaxis\": {\"gridcolor\": \"white\", \"linecolor\": \"white\", \"ticks\": \"\"}, \"baxis\": {\"gridcolor\": \"white\", \"linecolor\": \"white\", \"ticks\": \"\"}, \"bgcolor\": \"#E5ECF6\", \"caxis\": {\"gridcolor\": \"white\", \"linecolor\": \"white\", \"ticks\": \"\"}}, \"title\": {\"x\": 0.05}, \"xaxis\": {\"automargin\": true, \"gridcolor\": \"white\", \"linecolor\": \"white\", \"ticks\": \"\", \"title\": {\"standoff\": 15}, \"zerolinecolor\": \"white\", \"zerolinewidth\": 2}, \"yaxis\": {\"automargin\": true, \"gridcolor\": \"white\", \"linecolor\": \"white\", \"ticks\": \"\", \"title\": {\"standoff\": 15}, \"zerolinecolor\": \"white\", \"zerolinewidth\": 2}}}},\n",
              "                        {\"responsive\": true}\n",
              "                    ).then(function(){\n",
              "                            \n",
              "var gd = document.getElementById('7c3e2235-5669-4b35-85d0-37b899cf6243');\n",
              "var x = new MutationObserver(function (mutations, observer) {{\n",
              "        var display = window.getComputedStyle(gd).display;\n",
              "        if (!display || display === 'none') {{\n",
              "            console.log([gd, 'removed!']);\n",
              "            Plotly.purge(gd);\n",
              "            observer.disconnect();\n",
              "        }}\n",
              "}});\n",
              "\n",
              "// Listen for the removal of the full notebook cells\n",
              "var notebookContainer = gd.closest('#notebook-container');\n",
              "if (notebookContainer) {{\n",
              "    x.observe(notebookContainer, {childList: true});\n",
              "}}\n",
              "\n",
              "// Listen for the clearing of the current output cell\n",
              "var outputEl = gd.closest('.output');\n",
              "if (outputEl) {{\n",
              "    x.observe(outputEl, {childList: true});\n",
              "}}\n",
              "\n",
              "                        })\n",
              "                };\n",
              "                \n",
              "            </script>\n",
              "        </div>\n",
              "</body>\n",
              "</html>"
            ]
          },
          "metadata": {}
        }
      ],
      "source": [
        "fig = go.Figure(data=[go.Pie(labels=['Not Fraud','Fraud'], values=y_train.value_counts())])\n",
        "fig.show()"
      ]
    },
    {
      "cell_type": "markdown",
      "source": [
        "Create X, y for gridsearch"
      ],
      "metadata": {
        "id": "_awgxH6feqKL"
      }
    },
    {
      "cell_type": "code",
      "execution_count": 164,
      "metadata": {
        "id": "c9YXuGQxQcwE"
      },
      "outputs": [],
      "source": [
        "X_cat = np.concatenate([X_train, X_val])\n",
        "y_cat = np.concatenate([y_train,y_val])"
      ]
    },
    {
      "cell_type": "code",
      "execution_count": 165,
      "metadata": {
        "colab": {
          "base_uri": "https://localhost:8080/"
        },
        "id": "MBeyT8wKk_J5",
        "outputId": "ca9853d9-659b-4b52-ab50-522c9d500638"
      },
      "outputs": [
        {
          "output_type": "execute_result",
          "data": {
            "text/plain": [
              "(30251, 13)"
            ]
          },
          "metadata": {},
          "execution_count": 165
        }
      ],
      "source": [
        "X_train.shape"
      ]
    },
    {
      "cell_type": "code",
      "execution_count": 166,
      "metadata": {
        "colab": {
          "base_uri": "https://localhost:8080/"
        },
        "id": "fnTtzFmqlBTz",
        "outputId": "3262eccc-e4d7-4af9-a843-2d01bd4874e9"
      },
      "outputs": [
        {
          "output_type": "execute_result",
          "data": {
            "text/plain": [
              "(5339, 13)"
            ]
          },
          "metadata": {},
          "execution_count": 166
        }
      ],
      "source": [
        "X_val.shape"
      ]
    },
    {
      "cell_type": "code",
      "execution_count": 167,
      "metadata": {
        "colab": {
          "base_uri": "https://localhost:8080/"
        },
        "id": "jl4EI36yk9j4",
        "outputId": "be8fd0b4-5069-426f-8d6a-d2496cace4b4"
      },
      "outputs": [
        {
          "output_type": "execute_result",
          "data": {
            "text/plain": [
              "(35590, 13)"
            ]
          },
          "metadata": {},
          "execution_count": 167
        }
      ],
      "source": [
        "X_cat.shape"
      ]
    },
    {
      "cell_type": "markdown",
      "metadata": {
        "id": "DvlRxrT5Hv68"
      },
      "source": [
        "#MODEL TRAINING"
      ]
    },
    {
      "cell_type": "code",
      "execution_count": 168,
      "metadata": {
        "id": "yq1h-fzNINQ9"
      },
      "outputs": [],
      "source": [
        "from sklearn.model_selection import cross_val_score\n",
        "from sklearn.metrics import confusion_matrix, accuracy_score\n",
        "from sklearn.metrics import f1_score\n",
        "from sklearn.model_selection import GridSearchCV #92.57"
      ]
    },
    {
      "cell_type": "markdown",
      "metadata": {
        "id": "hkUeNNj7QVLx"
      },
      "source": [
        "##ENSEMBLE LEARNING"
      ]
    },
    {
      "cell_type": "markdown",
      "source": [
        "CATBOOST"
      ],
      "metadata": {
        "id": "k_oVt2oixLoI"
      }
    },
    {
      "cell_type": "code",
      "source": [
        "pip install catboost"
      ],
      "metadata": {
        "colab": {
          "base_uri": "https://localhost:8080/"
        },
        "id": "APP406TRAnbx",
        "outputId": "b39ff3df-7a58-40fc-fe57-e84b39497137"
      },
      "execution_count": 169,
      "outputs": [
        {
          "output_type": "stream",
          "name": "stdout",
          "text": [
            "Collecting catboost\n",
            "  Downloading catboost-1.0.3-cp37-none-manylinux1_x86_64.whl (76.3 MB)\n",
            "\u001b[K     |████████████████████████████████| 76.3 MB 1.2 MB/s \n",
            "\u001b[?25hRequirement already satisfied: graphviz in /usr/local/lib/python3.7/dist-packages (from catboost) (0.10.1)\n",
            "Requirement already satisfied: matplotlib in /usr/local/lib/python3.7/dist-packages (from catboost) (3.2.2)\n",
            "Requirement already satisfied: plotly in /usr/local/lib/python3.7/dist-packages (from catboost) (4.4.1)\n",
            "Requirement already satisfied: pandas>=0.24.0 in /usr/local/lib/python3.7/dist-packages (from catboost) (1.1.5)\n",
            "Requirement already satisfied: six in /usr/local/lib/python3.7/dist-packages (from catboost) (1.15.0)\n",
            "Requirement already satisfied: numpy>=1.16.0 in /usr/local/lib/python3.7/dist-packages (from catboost) (1.19.5)\n",
            "Requirement already satisfied: scipy in /usr/local/lib/python3.7/dist-packages (from catboost) (1.4.1)\n",
            "Requirement already satisfied: python-dateutil>=2.7.3 in /usr/local/lib/python3.7/dist-packages (from pandas>=0.24.0->catboost) (2.8.2)\n",
            "Requirement already satisfied: pytz>=2017.2 in /usr/local/lib/python3.7/dist-packages (from pandas>=0.24.0->catboost) (2018.9)\n",
            "Requirement already satisfied: pyparsing!=2.0.4,!=2.1.2,!=2.1.6,>=2.0.1 in /usr/local/lib/python3.7/dist-packages (from matplotlib->catboost) (3.0.6)\n",
            "Requirement already satisfied: cycler>=0.10 in /usr/local/lib/python3.7/dist-packages (from matplotlib->catboost) (0.11.0)\n",
            "Requirement already satisfied: kiwisolver>=1.0.1 in /usr/local/lib/python3.7/dist-packages (from matplotlib->catboost) (1.3.2)\n",
            "Requirement already satisfied: retrying>=1.3.3 in /usr/local/lib/python3.7/dist-packages (from plotly->catboost) (1.3.3)\n",
            "Installing collected packages: catboost\n",
            "Successfully installed catboost-1.0.3\n"
          ]
        }
      ]
    },
    {
      "cell_type": "code",
      "execution_count": 170,
      "metadata": {
        "colab": {
          "base_uri": "https://localhost:8080/"
        },
        "id": "mMQr5s7QHrth",
        "outputId": "9d736166-d084-4df8-e190-81098f90d8c7"
      },
      "outputs": [
        {
          "output_type": "stream",
          "name": "stdout",
          "text": [
            "Learning rate set to 0.237155\n",
            "0:\tlearn: 0.5028747\ttotal: 50.8ms\tremaining: 8.07s\n",
            "1:\tlearn: 0.3797065\ttotal: 54ms\tremaining: 4.27s\n",
            "2:\tlearn: 0.2955527\ttotal: 57.1ms\tremaining: 2.99s\n",
            "3:\tlearn: 0.2384459\ttotal: 64.6ms\tremaining: 2.52s\n",
            "4:\tlearn: 0.1937958\ttotal: 68ms\tremaining: 2.11s\n",
            "5:\tlearn: 0.1632406\ttotal: 71.3ms\tremaining: 1.83s\n",
            "6:\tlearn: 0.1361680\ttotal: 74.7ms\tremaining: 1.63s\n",
            "7:\tlearn: 0.1178330\ttotal: 78ms\tremaining: 1.48s\n",
            "8:\tlearn: 0.1018947\ttotal: 81.3ms\tremaining: 1.36s\n",
            "9:\tlearn: 0.0930208\ttotal: 84.6ms\tremaining: 1.27s\n",
            "10:\tlearn: 0.0822065\ttotal: 88ms\tremaining: 1.19s\n",
            "11:\tlearn: 0.0738849\ttotal: 91.3ms\tremaining: 1.13s\n",
            "12:\tlearn: 0.0673696\ttotal: 94.7ms\tremaining: 1.07s\n",
            "13:\tlearn: 0.0640513\ttotal: 98.1ms\tremaining: 1.02s\n",
            "14:\tlearn: 0.0598505\ttotal: 101ms\tremaining: 981ms\n",
            "15:\tlearn: 0.0566744\ttotal: 105ms\tremaining: 944ms\n",
            "16:\tlearn: 0.0540439\ttotal: 112ms\tremaining: 945ms\n",
            "17:\tlearn: 0.0520999\ttotal: 116ms\tremaining: 913ms\n",
            "18:\tlearn: 0.0503651\ttotal: 119ms\tremaining: 885ms\n",
            "19:\tlearn: 0.0492796\ttotal: 123ms\tremaining: 860ms\n",
            "20:\tlearn: 0.0481228\ttotal: 126ms\tremaining: 836ms\n",
            "21:\tlearn: 0.0477012\ttotal: 130ms\tremaining: 813ms\n",
            "22:\tlearn: 0.0468285\ttotal: 133ms\tremaining: 792ms\n",
            "23:\tlearn: 0.0463662\ttotal: 136ms\tremaining: 772ms\n",
            "24:\tlearn: 0.0457690\ttotal: 140ms\tremaining: 755ms\n",
            "25:\tlearn: 0.0455909\ttotal: 143ms\tremaining: 737ms\n",
            "26:\tlearn: 0.0450236\ttotal: 146ms\tremaining: 720ms\n",
            "27:\tlearn: 0.0448667\ttotal: 149ms\tremaining: 705ms\n",
            "28:\tlearn: 0.0445024\ttotal: 153ms\tremaining: 691ms\n",
            "29:\tlearn: 0.0441646\ttotal: 156ms\tremaining: 677ms\n",
            "30:\tlearn: 0.0439668\ttotal: 160ms\tremaining: 664ms\n",
            "31:\tlearn: 0.0437942\ttotal: 163ms\tremaining: 653ms\n",
            "32:\tlearn: 0.0435241\ttotal: 167ms\tremaining: 642ms\n",
            "33:\tlearn: 0.0433414\ttotal: 170ms\tremaining: 631ms\n",
            "34:\tlearn: 0.0432298\ttotal: 174ms\tremaining: 621ms\n",
            "35:\tlearn: 0.0431868\ttotal: 177ms\tremaining: 610ms\n",
            "36:\tlearn: 0.0431315\ttotal: 181ms\tremaining: 600ms\n",
            "37:\tlearn: 0.0430944\ttotal: 184ms\tremaining: 591ms\n",
            "38:\tlearn: 0.0429774\ttotal: 187ms\tremaining: 581ms\n",
            "39:\tlearn: 0.0427792\ttotal: 197ms\tremaining: 590ms\n",
            "40:\tlearn: 0.0426379\ttotal: 201ms\tremaining: 583ms\n",
            "41:\tlearn: 0.0425614\ttotal: 204ms\tremaining: 574ms\n",
            "42:\tlearn: 0.0424928\ttotal: 208ms\tremaining: 566ms\n",
            "43:\tlearn: 0.0424036\ttotal: 212ms\tremaining: 558ms\n",
            "44:\tlearn: 0.0423779\ttotal: 215ms\tremaining: 549ms\n",
            "45:\tlearn: 0.0422979\ttotal: 218ms\tremaining: 540ms\n",
            "46:\tlearn: 0.0422261\ttotal: 221ms\tremaining: 533ms\n",
            "47:\tlearn: 0.0421215\ttotal: 225ms\tremaining: 525ms\n",
            "48:\tlearn: 0.0420372\ttotal: 228ms\tremaining: 517ms\n",
            "49:\tlearn: 0.0419603\ttotal: 233ms\tremaining: 512ms\n",
            "50:\tlearn: 0.0418419\ttotal: 236ms\tremaining: 504ms\n",
            "51:\tlearn: 0.0417904\ttotal: 239ms\tremaining: 496ms\n",
            "52:\tlearn: 0.0417041\ttotal: 242ms\tremaining: 489ms\n",
            "53:\tlearn: 0.0416293\ttotal: 245ms\tremaining: 481ms\n",
            "54:\tlearn: 0.0416019\ttotal: 249ms\tremaining: 475ms\n",
            "55:\tlearn: 0.0415880\ttotal: 252ms\tremaining: 468ms\n",
            "56:\tlearn: 0.0415305\ttotal: 255ms\tremaining: 461ms\n",
            "57:\tlearn: 0.0414477\ttotal: 258ms\tremaining: 455ms\n",
            "58:\tlearn: 0.0414240\ttotal: 262ms\tremaining: 448ms\n",
            "59:\tlearn: 0.0413554\ttotal: 265ms\tremaining: 442ms\n",
            "60:\tlearn: 0.0413072\ttotal: 268ms\tremaining: 435ms\n",
            "61:\tlearn: 0.0412900\ttotal: 271ms\tremaining: 429ms\n",
            "62:\tlearn: 0.0412826\ttotal: 274ms\tremaining: 423ms\n",
            "63:\tlearn: 0.0412691\ttotal: 278ms\tremaining: 416ms\n",
            "64:\tlearn: 0.0411855\ttotal: 281ms\tremaining: 411ms\n",
            "65:\tlearn: 0.0411701\ttotal: 284ms\tremaining: 405ms\n",
            "66:\tlearn: 0.0411633\ttotal: 287ms\tremaining: 399ms\n",
            "67:\tlearn: 0.0410941\ttotal: 292ms\tremaining: 395ms\n",
            "68:\tlearn: 0.0410054\ttotal: 295ms\tremaining: 389ms\n",
            "69:\tlearn: 0.0409916\ttotal: 298ms\tremaining: 383ms\n",
            "70:\tlearn: 0.0409449\ttotal: 301ms\tremaining: 378ms\n",
            "71:\tlearn: 0.0408973\ttotal: 305ms\tremaining: 372ms\n",
            "72:\tlearn: 0.0408915\ttotal: 309ms\tremaining: 368ms\n",
            "73:\tlearn: 0.0407607\ttotal: 315ms\tremaining: 366ms\n",
            "74:\tlearn: 0.0407556\ttotal: 318ms\tremaining: 360ms\n",
            "75:\tlearn: 0.0407040\ttotal: 321ms\tremaining: 355ms\n",
            "76:\tlearn: 0.0406391\ttotal: 324ms\tremaining: 349ms\n",
            "77:\tlearn: 0.0406280\ttotal: 327ms\tremaining: 344ms\n",
            "78:\tlearn: 0.0406202\ttotal: 330ms\tremaining: 338ms\n",
            "79:\tlearn: 0.0405979\ttotal: 333ms\tremaining: 333ms\n",
            "80:\tlearn: 0.0405270\ttotal: 337ms\tremaining: 329ms\n",
            "81:\tlearn: 0.0404967\ttotal: 340ms\tremaining: 324ms\n",
            "82:\tlearn: 0.0404817\ttotal: 343ms\tremaining: 319ms\n",
            "83:\tlearn: 0.0404482\ttotal: 347ms\tremaining: 314ms\n",
            "84:\tlearn: 0.0404049\ttotal: 350ms\tremaining: 309ms\n",
            "85:\tlearn: 0.0403672\ttotal: 353ms\tremaining: 304ms\n",
            "86:\tlearn: 0.0403218\ttotal: 357ms\tremaining: 299ms\n",
            "87:\tlearn: 0.0402625\ttotal: 360ms\tremaining: 294ms\n",
            "88:\tlearn: 0.0402531\ttotal: 363ms\tremaining: 290ms\n",
            "89:\tlearn: 0.0402443\ttotal: 366ms\tremaining: 285ms\n",
            "90:\tlearn: 0.0402201\ttotal: 369ms\tremaining: 280ms\n",
            "91:\tlearn: 0.0401429\ttotal: 372ms\tremaining: 275ms\n",
            "92:\tlearn: 0.0401204\ttotal: 375ms\tremaining: 270ms\n",
            "93:\tlearn: 0.0401032\ttotal: 378ms\tremaining: 266ms\n",
            "94:\tlearn: 0.0400613\ttotal: 382ms\tremaining: 261ms\n",
            "95:\tlearn: 0.0399932\ttotal: 385ms\tremaining: 257ms\n",
            "96:\tlearn: 0.0399886\ttotal: 392ms\tremaining: 255ms\n",
            "97:\tlearn: 0.0399327\ttotal: 396ms\tremaining: 250ms\n",
            "98:\tlearn: 0.0399180\ttotal: 399ms\tremaining: 246ms\n",
            "99:\tlearn: 0.0398825\ttotal: 402ms\tremaining: 241ms\n",
            "100:\tlearn: 0.0398144\ttotal: 405ms\tremaining: 237ms\n",
            "101:\tlearn: 0.0397979\ttotal: 408ms\tremaining: 232ms\n",
            "102:\tlearn: 0.0397853\ttotal: 411ms\tremaining: 228ms\n",
            "103:\tlearn: 0.0397648\ttotal: 415ms\tremaining: 223ms\n",
            "104:\tlearn: 0.0397370\ttotal: 418ms\tremaining: 219ms\n",
            "105:\tlearn: 0.0397065\ttotal: 421ms\tremaining: 214ms\n",
            "106:\tlearn: 0.0396771\ttotal: 424ms\tremaining: 210ms\n",
            "107:\tlearn: 0.0396741\ttotal: 427ms\tremaining: 206ms\n",
            "108:\tlearn: 0.0396471\ttotal: 431ms\tremaining: 202ms\n",
            "109:\tlearn: 0.0396088\ttotal: 434ms\tremaining: 197ms\n",
            "110:\tlearn: 0.0395529\ttotal: 437ms\tremaining: 193ms\n",
            "111:\tlearn: 0.0395074\ttotal: 441ms\tremaining: 189ms\n",
            "112:\tlearn: 0.0394723\ttotal: 444ms\tremaining: 185ms\n",
            "113:\tlearn: 0.0394525\ttotal: 447ms\tremaining: 180ms\n",
            "114:\tlearn: 0.0394156\ttotal: 450ms\tremaining: 176ms\n",
            "115:\tlearn: 0.0393408\ttotal: 453ms\tremaining: 172ms\n",
            "116:\tlearn: 0.0393361\ttotal: 456ms\tremaining: 168ms\n",
            "117:\tlearn: 0.0393245\ttotal: 459ms\tremaining: 163ms\n",
            "118:\tlearn: 0.0393196\ttotal: 462ms\tremaining: 159ms\n",
            "119:\tlearn: 0.0393026\ttotal: 465ms\tremaining: 155ms\n",
            "120:\tlearn: 0.0392988\ttotal: 468ms\tremaining: 151ms\n",
            "121:\tlearn: 0.0392475\ttotal: 472ms\tremaining: 147ms\n",
            "122:\tlearn: 0.0391978\ttotal: 475ms\tremaining: 143ms\n",
            "123:\tlearn: 0.0391935\ttotal: 478ms\tremaining: 139ms\n",
            "124:\tlearn: 0.0391865\ttotal: 481ms\tremaining: 135ms\n",
            "125:\tlearn: 0.0391803\ttotal: 484ms\tremaining: 131ms\n",
            "126:\tlearn: 0.0391279\ttotal: 487ms\tremaining: 127ms\n",
            "127:\tlearn: 0.0390621\ttotal: 490ms\tremaining: 123ms\n",
            "128:\tlearn: 0.0390354\ttotal: 494ms\tremaining: 119ms\n",
            "129:\tlearn: 0.0390074\ttotal: 497ms\tremaining: 115ms\n",
            "130:\tlearn: 0.0389893\ttotal: 500ms\tremaining: 111ms\n",
            "131:\tlearn: 0.0389789\ttotal: 503ms\tremaining: 107ms\n",
            "132:\tlearn: 0.0389090\ttotal: 506ms\tremaining: 103ms\n",
            "133:\tlearn: 0.0388485\ttotal: 509ms\tremaining: 98.8ms\n",
            "134:\tlearn: 0.0388326\ttotal: 512ms\tremaining: 94.9ms\n",
            "135:\tlearn: 0.0388228\ttotal: 516ms\tremaining: 91ms\n",
            "136:\tlearn: 0.0388030\ttotal: 519ms\tremaining: 87.1ms\n",
            "137:\tlearn: 0.0387619\ttotal: 522ms\tremaining: 83.2ms\n",
            "138:\tlearn: 0.0387485\ttotal: 525ms\tremaining: 79.3ms\n",
            "139:\tlearn: 0.0387140\ttotal: 528ms\tremaining: 75.5ms\n",
            "140:\tlearn: 0.0386526\ttotal: 532ms\tremaining: 71.6ms\n",
            "141:\tlearn: 0.0385979\ttotal: 536ms\tremaining: 67.9ms\n",
            "142:\tlearn: 0.0385664\ttotal: 539ms\tremaining: 64.1ms\n",
            "143:\tlearn: 0.0385199\ttotal: 542ms\tremaining: 60.3ms\n",
            "144:\tlearn: 0.0384899\ttotal: 546ms\tremaining: 56.4ms\n",
            "145:\tlearn: 0.0384573\ttotal: 549ms\tremaining: 52.7ms\n",
            "146:\tlearn: 0.0384383\ttotal: 552ms\tremaining: 48.8ms\n",
            "147:\tlearn: 0.0384330\ttotal: 556ms\tremaining: 45ms\n",
            "148:\tlearn: 0.0384220\ttotal: 558ms\tremaining: 41.2ms\n",
            "149:\tlearn: 0.0384061\ttotal: 562ms\tremaining: 37.4ms\n",
            "150:\tlearn: 0.0383969\ttotal: 565ms\tremaining: 33.6ms\n",
            "151:\tlearn: 0.0383473\ttotal: 568ms\tremaining: 29.9ms\n",
            "152:\tlearn: 0.0383004\ttotal: 571ms\tremaining: 26.1ms\n",
            "153:\tlearn: 0.0382863\ttotal: 575ms\tremaining: 22.4ms\n",
            "154:\tlearn: 0.0382524\ttotal: 578ms\tremaining: 18.6ms\n",
            "155:\tlearn: 0.0382200\ttotal: 581ms\tremaining: 14.9ms\n",
            "156:\tlearn: 0.0381964\ttotal: 586ms\tremaining: 11.2ms\n",
            "157:\tlearn: 0.0381631\ttotal: 592ms\tremaining: 7.49ms\n",
            "158:\tlearn: 0.0381446\ttotal: 595ms\tremaining: 3.74ms\n",
            "159:\tlearn: 0.0381366\ttotal: 598ms\tremaining: 0us\n"
          ]
        },
        {
          "output_type": "execute_result",
          "data": {
            "text/plain": [
              "<catboost.core.CatBoostClassifier at 0x7fb447049390>"
            ]
          },
          "metadata": {},
          "execution_count": 170
        }
      ],
      "source": [
        "from catboost import CatBoostClassifier\n",
        "classifier_ctb = CatBoostClassifier(max_depth=3,n_estimators=160,random_state=0) #max_depth=3,n_estimators=160, = 92.75\n",
        "classifier_ctb.fit(X_train, y_train)"
      ]
    },
    {
      "cell_type": "code",
      "execution_count": 171,
      "metadata": {
        "id": "8NKthqB-H-Af"
      },
      "outputs": [],
      "source": [
        "y_pred_ctb = classifier_ctb.predict(X_val)"
      ]
    },
    {
      "cell_type": "code",
      "execution_count": 172,
      "metadata": {
        "colab": {
          "base_uri": "https://localhost:8080/"
        },
        "id": "qoiAJjOLII5l",
        "outputId": "71a41a0e-11d5-4250-a576-8878422ddbde"
      },
      "outputs": [
        {
          "output_type": "stream",
          "name": "stdout",
          "text": [
            "[[4864    8]\n",
            " [  85  382]]\n",
            "0.9825810076793406\n"
          ]
        }
      ],
      "source": [
        "cm_ctb = confusion_matrix(y_val, y_pred_ctb)\n",
        "print(cm_ctb)\n",
        "acc_ctb = accuracy_score(y_val, y_pred_ctb)\n",
        "print(acc_ctb)"
      ]
    },
    {
      "cell_type": "code",
      "execution_count": 173,
      "metadata": {
        "id": "aquMi2opILqd",
        "colab": {
          "base_uri": "https://localhost:8080/"
        },
        "outputId": "1ff3beb9-4450-4cd6-d822-d9c205595efb"
      },
      "outputs": [
        {
          "output_type": "execute_result",
          "data": {
            "text/plain": [
              "94.10062047642295"
            ]
          },
          "metadata": {},
          "execution_count": 173
        }
      ],
      "source": [
        "100 * f1_score(y_val,y_pred_ctb,average='macro')"
      ]
    },
    {
      "cell_type": "code",
      "execution_count": 174,
      "metadata": {
        "colab": {
          "base_uri": "https://localhost:8080/"
        },
        "id": "cqWx16qhQXZT",
        "outputId": "eb125988-bf0d-4961-9636-7c905711af60"
      },
      "outputs": [
        {
          "output_type": "stream",
          "name": "stdout",
          "text": [
            "Learning rate set to 0.391157\n",
            "0:\tlearn: 0.4029015\ttotal: 5.57ms\tremaining: 551ms\n",
            "1:\tlearn: 0.2713860\ttotal: 9.66ms\tremaining: 474ms\n",
            "2:\tlearn: 0.1900089\ttotal: 13.8ms\tremaining: 447ms\n",
            "3:\tlearn: 0.1389343\ttotal: 18ms\tremaining: 433ms\n",
            "4:\tlearn: 0.1069981\ttotal: 22.3ms\tremaining: 423ms\n",
            "5:\tlearn: 0.0889980\ttotal: 26.2ms\tremaining: 410ms\n",
            "6:\tlearn: 0.0740400\ttotal: 30.3ms\tremaining: 403ms\n",
            "7:\tlearn: 0.0639061\ttotal: 34.6ms\tremaining: 398ms\n",
            "8:\tlearn: 0.0575667\ttotal: 38.9ms\tremaining: 394ms\n",
            "9:\tlearn: 0.0539197\ttotal: 42.8ms\tremaining: 385ms\n",
            "10:\tlearn: 0.0504177\ttotal: 47.1ms\tremaining: 381ms\n",
            "11:\tlearn: 0.0494940\ttotal: 51.2ms\tremaining: 375ms\n",
            "12:\tlearn: 0.0471219\ttotal: 55.4ms\tremaining: 371ms\n",
            "13:\tlearn: 0.0456096\ttotal: 59.8ms\tremaining: 367ms\n",
            "14:\tlearn: 0.0451583\ttotal: 63.8ms\tremaining: 362ms\n",
            "15:\tlearn: 0.0441639\ttotal: 68.1ms\tremaining: 357ms\n",
            "16:\tlearn: 0.0436326\ttotal: 72.1ms\tremaining: 352ms\n",
            "17:\tlearn: 0.0431888\ttotal: 76.2ms\tremaining: 347ms\n",
            "18:\tlearn: 0.0427008\ttotal: 80.4ms\tremaining: 343ms\n",
            "19:\tlearn: 0.0425862\ttotal: 84.6ms\tremaining: 338ms\n",
            "20:\tlearn: 0.0423126\ttotal: 91.3ms\tremaining: 343ms\n",
            "21:\tlearn: 0.0419871\ttotal: 95.3ms\tremaining: 338ms\n",
            "22:\tlearn: 0.0418194\ttotal: 99.5ms\tremaining: 333ms\n",
            "23:\tlearn: 0.0417055\ttotal: 105ms\tremaining: 333ms\n",
            "24:\tlearn: 0.0416085\ttotal: 113ms\tremaining: 338ms\n",
            "25:\tlearn: 0.0414335\ttotal: 124ms\tremaining: 353ms\n",
            "26:\tlearn: 0.0412094\ttotal: 128ms\tremaining: 346ms\n",
            "27:\tlearn: 0.0411002\ttotal: 132ms\tremaining: 340ms\n",
            "28:\tlearn: 0.0409729\ttotal: 136ms\tremaining: 334ms\n",
            "29:\tlearn: 0.0407352\ttotal: 140ms\tremaining: 328ms\n",
            "30:\tlearn: 0.0405814\ttotal: 145ms\tremaining: 323ms\n",
            "31:\tlearn: 0.0404661\ttotal: 149ms\tremaining: 317ms\n",
            "32:\tlearn: 0.0403173\ttotal: 153ms\tremaining: 311ms\n",
            "33:\tlearn: 0.0402569\ttotal: 157ms\tremaining: 305ms\n",
            "34:\tlearn: 0.0400821\ttotal: 161ms\tremaining: 300ms\n",
            "35:\tlearn: 0.0399886\ttotal: 165ms\tremaining: 294ms\n",
            "36:\tlearn: 0.0399491\ttotal: 169ms\tremaining: 288ms\n",
            "37:\tlearn: 0.0399222\ttotal: 174ms\tremaining: 283ms\n",
            "38:\tlearn: 0.0398904\ttotal: 178ms\tremaining: 278ms\n",
            "39:\tlearn: 0.0398747\ttotal: 181ms\tremaining: 272ms\n",
            "40:\tlearn: 0.0398438\ttotal: 191ms\tremaining: 275ms\n",
            "41:\tlearn: 0.0397556\ttotal: 195ms\tremaining: 270ms\n",
            "42:\tlearn: 0.0397407\ttotal: 199ms\tremaining: 264ms\n",
            "43:\tlearn: 0.0396721\ttotal: 203ms\tremaining: 259ms\n",
            "44:\tlearn: 0.0396594\ttotal: 207ms\tremaining: 254ms\n",
            "45:\tlearn: 0.0395273\ttotal: 211ms\tremaining: 248ms\n",
            "46:\tlearn: 0.0394330\ttotal: 216ms\tremaining: 243ms\n",
            "47:\tlearn: 0.0394180\ttotal: 220ms\tremaining: 238ms\n",
            "48:\tlearn: 0.0393212\ttotal: 224ms\tremaining: 233ms\n",
            "49:\tlearn: 0.0392351\ttotal: 228ms\tremaining: 228ms\n",
            "50:\tlearn: 0.0391641\ttotal: 232ms\tremaining: 223ms\n",
            "51:\tlearn: 0.0391602\ttotal: 237ms\tremaining: 218ms\n",
            "52:\tlearn: 0.0390579\ttotal: 241ms\tremaining: 214ms\n",
            "53:\tlearn: 0.0389862\ttotal: 245ms\tremaining: 209ms\n",
            "54:\tlearn: 0.0388504\ttotal: 249ms\tremaining: 204ms\n",
            "55:\tlearn: 0.0388100\ttotal: 254ms\tremaining: 199ms\n",
            "56:\tlearn: 0.0387988\ttotal: 257ms\tremaining: 194ms\n",
            "57:\tlearn: 0.0387383\ttotal: 261ms\tremaining: 189ms\n",
            "58:\tlearn: 0.0387277\ttotal: 265ms\tremaining: 184ms\n",
            "59:\tlearn: 0.0386784\ttotal: 270ms\tremaining: 180ms\n",
            "60:\tlearn: 0.0386175\ttotal: 274ms\tremaining: 175ms\n",
            "61:\tlearn: 0.0385371\ttotal: 278ms\tremaining: 171ms\n",
            "62:\tlearn: 0.0383896\ttotal: 283ms\tremaining: 166ms\n",
            "63:\tlearn: 0.0383768\ttotal: 287ms\tremaining: 161ms\n",
            "64:\tlearn: 0.0382701\ttotal: 292ms\tremaining: 157ms\n",
            "65:\tlearn: 0.0381779\ttotal: 296ms\tremaining: 152ms\n",
            "66:\tlearn: 0.0381059\ttotal: 300ms\tremaining: 148ms\n",
            "67:\tlearn: 0.0380876\ttotal: 304ms\tremaining: 143ms\n",
            "68:\tlearn: 0.0380692\ttotal: 308ms\tremaining: 139ms\n",
            "69:\tlearn: 0.0380188\ttotal: 312ms\tremaining: 134ms\n",
            "70:\tlearn: 0.0379195\ttotal: 317ms\tremaining: 129ms\n",
            "71:\tlearn: 0.0379106\ttotal: 321ms\tremaining: 125ms\n",
            "72:\tlearn: 0.0379041\ttotal: 325ms\tremaining: 120ms\n",
            "73:\tlearn: 0.0378443\ttotal: 329ms\tremaining: 116ms\n",
            "74:\tlearn: 0.0377582\ttotal: 333ms\tremaining: 111ms\n",
            "75:\tlearn: 0.0376983\ttotal: 337ms\tremaining: 107ms\n",
            "76:\tlearn: 0.0376538\ttotal: 341ms\tremaining: 102ms\n",
            "77:\tlearn: 0.0375126\ttotal: 346ms\tremaining: 97.5ms\n",
            "78:\tlearn: 0.0374592\ttotal: 350ms\tremaining: 93.1ms\n",
            "79:\tlearn: 0.0373856\ttotal: 355ms\tremaining: 88.7ms\n",
            "80:\tlearn: 0.0373745\ttotal: 359ms\tremaining: 84.1ms\n",
            "81:\tlearn: 0.0372845\ttotal: 363ms\tremaining: 79.7ms\n",
            "82:\tlearn: 0.0372114\ttotal: 367ms\tremaining: 75.3ms\n",
            "83:\tlearn: 0.0371897\ttotal: 372ms\tremaining: 70.8ms\n",
            "84:\tlearn: 0.0370721\ttotal: 376ms\tremaining: 66.4ms\n",
            "85:\tlearn: 0.0369921\ttotal: 380ms\tremaining: 61.9ms\n",
            "86:\tlearn: 0.0368809\ttotal: 387ms\tremaining: 57.8ms\n",
            "87:\tlearn: 0.0367628\ttotal: 392ms\tremaining: 53.5ms\n",
            "88:\tlearn: 0.0366778\ttotal: 397ms\tremaining: 49.1ms\n",
            "89:\tlearn: 0.0365951\ttotal: 401ms\tremaining: 44.6ms\n",
            "90:\tlearn: 0.0365871\ttotal: 405ms\tremaining: 40.1ms\n",
            "91:\tlearn: 0.0364527\ttotal: 410ms\tremaining: 35.6ms\n",
            "92:\tlearn: 0.0364170\ttotal: 414ms\tremaining: 31.2ms\n",
            "93:\tlearn: 0.0363329\ttotal: 418ms\tremaining: 26.7ms\n",
            "94:\tlearn: 0.0362603\ttotal: 423ms\tremaining: 22.2ms\n",
            "95:\tlearn: 0.0361545\ttotal: 427ms\tremaining: 17.8ms\n",
            "96:\tlearn: 0.0361149\ttotal: 431ms\tremaining: 13.3ms\n",
            "97:\tlearn: 0.0360665\ttotal: 435ms\tremaining: 8.88ms\n",
            "98:\tlearn: 0.0359952\ttotal: 439ms\tremaining: 4.44ms\n",
            "99:\tlearn: 0.0359498\ttotal: 444ms\tremaining: 0us\n",
            "Best Accuracy: 92.56\n",
            "Best Parameters: {'max_depth': 4, 'n_estimators': 100}\n"
          ]
        }
      ],
      "source": [
        "parameters = [{'max_depth': [4,6,8,10],'n_estimators':[100,120,140,150]}]\n",
        "grid_search = GridSearchCV(estimator = classifier_ctb,\n",
        "                           param_grid = parameters,\n",
        "                           scoring = 'f1_macro',\n",
        "                           cv = 5,\n",
        "                           n_jobs=-1)\n",
        "grid_search.fit(X_cat, y_cat)\n",
        "best_accuracy = grid_search.best_score_\n",
        "best_parameters = grid_search.best_params_\n",
        "print(\"Best Accuracy: {:.2f}\".format(best_accuracy*100))\n",
        "print(\"Best Parameters:\", best_parameters)\n",
        "# Best Accuracy: 92.62\n",
        "# Best Parameters: {'max_depth': 4, 'n_estimators': 150}"
      ]
    },
    {
      "cell_type": "markdown",
      "metadata": {
        "id": "CvthYJokQXrb"
      },
      "source": [
        "DECISTION TREE"
      ]
    },
    {
      "cell_type": "code",
      "execution_count": 175,
      "metadata": {
        "colab": {
          "base_uri": "https://localhost:8080/"
        },
        "id": "Sb_-AbS8NEia",
        "outputId": "3813eac2-d384-49f9-a5f2-fd6a10f7988d"
      },
      "outputs": [
        {
          "output_type": "execute_result",
          "data": {
            "text/plain": [
              "DecisionTreeClassifier(max_depth=1, max_features='auto', random_state=0)"
            ]
          },
          "metadata": {},
          "execution_count": 175
        }
      ],
      "source": [
        "from sklearn.tree import DecisionTreeClassifier\n",
        "classifier_dt = DecisionTreeClassifier(criterion = 'gini', max_depth=1,max_features='auto', min_samples_split= 2,random_state = 0) #criterion = 'gini', max_depth=1,max_features='auto', min_samples_split= 2,  =92.8\n",
        "classifier_dt.fit(X_train, y_train)"
      ]
    },
    {
      "cell_type": "code",
      "execution_count": 176,
      "metadata": {
        "id": "u7EN58ANPqr4"
      },
      "outputs": [],
      "source": [
        "y_pred_dt = classifier_dt.predict(X_val)"
      ]
    },
    {
      "cell_type": "code",
      "execution_count": 177,
      "metadata": {
        "colab": {
          "base_uri": "https://localhost:8080/"
        },
        "id": "L-n44LhnPqyQ",
        "outputId": "56661ce2-43c1-4de5-a647-f54a0c439dfa"
      },
      "outputs": [
        {
          "output_type": "stream",
          "name": "stdout",
          "text": [
            "[[4872    0]\n",
            " [ 102  365]]\n",
            "0.9808952987450833\n"
          ]
        }
      ],
      "source": [
        "cm_dt = confusion_matrix(y_val, y_pred_dt)\n",
        "print(cm_dt)\n",
        "acc_dt = accuracy_score(y_val, y_pred_dt)\n",
        "print(acc_dt)"
      ]
    },
    {
      "cell_type": "code",
      "execution_count": 178,
      "metadata": {
        "colab": {
          "base_uri": "https://localhost:8080/"
        },
        "id": "1olfXBrkQoTl",
        "outputId": "e2a13351-70e3-4b87-aa7a-6fd53cce10d6"
      },
      "outputs": [
        {
          "output_type": "execute_result",
          "data": {
            "text/plain": [
              "93.35221546430412"
            ]
          },
          "metadata": {},
          "execution_count": 178
        }
      ],
      "source": [
        "100 * f1_score(y_val,y_pred_dt,average='macro')"
      ]
    },
    {
      "cell_type": "code",
      "execution_count": 179,
      "metadata": {
        "colab": {
          "base_uri": "https://localhost:8080/"
        },
        "id": "DRRY0kjpISPp",
        "outputId": "ed2983cf-0064-4ebf-f682-94bb6df660ba"
      },
      "outputs": [
        {
          "output_type": "stream",
          "name": "stdout",
          "text": [
            "Best Accuracy: 92.57 %\n",
            "Best Parameters: {'criterion': 'gini', 'max_depth': 1, 'max_features': 'auto', 'min_samples_split': 2}\n"
          ]
        }
      ],
      "source": [
        "parameters = [{'criterion':['gini','entropy'],'max_depth':[1,2],'min_samples_split': [2,3,5],'max_features':['auto']}]\n",
        "grid_search = GridSearchCV(estimator = classifier_dt,\n",
        "                           param_grid = parameters,\n",
        "                           scoring = 'f1_macro',\n",
        "                           cv = 5,\n",
        "                           n_jobs=-1)\n",
        "grid_search.fit(X_cat, y_cat)\n",
        "best_accuracy = grid_search.best_score_\n",
        "best_parameters = grid_search.best_params_\n",
        "print(\"Best Accuracy: {:.2f} %\".format(best_accuracy*100))\n",
        "print(\"Best Parameters:\", best_parameters)\n",
        "# Best Accuracy: 92.65 %\n",
        "# Best Parameters: {'criterion': 'gini', 'max_depth': 2, 'max_features': 'auto', 'min_samples_split': 0.1}"
      ]
    },
    {
      "cell_type": "markdown",
      "metadata": {
        "id": "xyVsssVVRB88"
      },
      "source": [
        "RANDOM FOREST"
      ]
    },
    {
      "cell_type": "code",
      "execution_count": 180,
      "metadata": {
        "colab": {
          "base_uri": "https://localhost:8080/"
        },
        "id": "Fe-NJeHUNEz_",
        "outputId": "d30c1937-acea-4b1f-aad5-03a41a8bec85"
      },
      "outputs": [
        {
          "output_type": "execute_result",
          "data": {
            "text/plain": [
              "RandomForestClassifier(max_depth=15, max_features=4, min_samples_split=4,\n",
              "                       n_estimators=250, random_state=0)"
            ]
          },
          "metadata": {},
          "execution_count": 180
        }
      ],
      "source": [
        "from sklearn.ensemble import RandomForestClassifier\n",
        "classifier_rf = RandomForestClassifier(criterion= 'gini', max_depth= 15, min_samples_split= 4, max_features=4, n_estimators= 250,random_state=0) #criterion= 'gini', max_depth= 15, min_samples_split= 3, n_estimators= 120, = 93.0\n",
        "classifier_rf.fit(X_train, y_train)"
      ]
    },
    {
      "cell_type": "code",
      "execution_count": 181,
      "metadata": {
        "id": "7uCsMR65Pr1K"
      },
      "outputs": [],
      "source": [
        "y_pred_rf = classifier_rf.predict(X_val)"
      ]
    },
    {
      "cell_type": "code",
      "execution_count": 182,
      "metadata": {
        "colab": {
          "base_uri": "https://localhost:8080/"
        },
        "id": "lvFyb1XFPr4p",
        "outputId": "fe8a04db-6905-4c4b-b957-38a07b65d359"
      },
      "outputs": [
        {
          "output_type": "stream",
          "name": "stdout",
          "text": [
            "[[4866    6]\n",
            " [  94  373]]\n",
            "0.9812699007304738\n"
          ]
        }
      ],
      "source": [
        "cm_rf = confusion_matrix(y_val, y_pred_rf) \n",
        "print(cm_rf)\n",
        "acc_rf = accuracy_score(y_val, y_pred_rf)\n",
        "print(acc_rf)"
      ]
    },
    {
      "cell_type": "code",
      "execution_count": 183,
      "metadata": {
        "colab": {
          "base_uri": "https://localhost:8080/"
        },
        "id": "gI8TInWtRSXq",
        "outputId": "ab45f82a-810e-441e-c26e-a3a631b6efc0"
      },
      "outputs": [
        {
          "output_type": "execute_result",
          "data": {
            "text/plain": [
              "93.58129098404015"
            ]
          },
          "metadata": {},
          "execution_count": 183
        }
      ],
      "source": [
        "100 * f1_score(y_val,y_pred_rf,average='macro')"
      ]
    },
    {
      "cell_type": "code",
      "execution_count": 184,
      "metadata": {
        "id": "TApHJkxbTLZL",
        "colab": {
          "base_uri": "https://localhost:8080/"
        },
        "outputId": "c688d872-b514-467e-a0ef-8c0dbde98d28"
      },
      "outputs": [
        {
          "output_type": "stream",
          "name": "stdout",
          "text": [
            "Best Accuracy: 92.46 %\n",
            "Best Parameters: {'criterion': 'gini', 'max_depth': 16, 'max_features': 11, 'min_samples_split': 2, 'n_estimators': 125}\n"
          ]
        }
      ],
      "source": [
        "parameters = [{'n_estimators': [125], 'criterion':['gini'],'max_depth':[14,15,16], 'min_samples_split':[2,3], 'max_features': [9,11,13]}]\n",
        "grid_search = GridSearchCV(estimator = classifier_rf,\n",
        "                           param_grid = parameters,\n",
        "                           scoring = 'f1_macro',\n",
        "                           cv = 5,\n",
        "                           n_jobs=-1)\n",
        "grid_search.fit(X_cat,y_cat)\n",
        "best_accuracy = grid_search.best_score_\n",
        "best_parameters = grid_search.best_params_\n",
        "print(\"Best Accuracy: {:.2f} %\".format(best_accuracy*100))\n",
        "print(\"Best Parameters:\", best_parameters)\n",
        "# Best Accuracy: 92.65 %\n",
        "# Best Parameters: {'criterion': 'gini', 'max_depth': 15, 'min_samples_split': 3, 'n_estimators': 120}"
      ]
    },
    {
      "cell_type": "markdown",
      "metadata": {
        "id": "foJa_yGZRbEr"
      },
      "source": [
        "XG-BOOST"
      ]
    },
    {
      "cell_type": "code",
      "execution_count": 185,
      "metadata": {
        "colab": {
          "base_uri": "https://localhost:8080/"
        },
        "id": "Xr8tix8tRlGy",
        "outputId": "7d26fa10-0f70-40f6-ea40-ba2d03c25c48"
      },
      "outputs": [
        {
          "output_type": "execute_result",
          "data": {
            "text/plain": [
              "XGBClassifier(learning_rate=0.75, n_estimators=9)"
            ]
          },
          "metadata": {},
          "execution_count": 185
        }
      ],
      "source": [
        "from xgboost import XGBClassifier\n",
        "classifier_xgb = XGBClassifier(learning_rate= 0.75, n_estimators= 9,random_state=0) #grid search = learning_rate= 1, n_estimators= 10,  = 92.45\n",
        "classifier_xgb.fit(X_train, y_train)"
      ]
    },
    {
      "cell_type": "code",
      "execution_count": 186,
      "metadata": {
        "id": "qFCAJJdoTJBD"
      },
      "outputs": [],
      "source": [
        "y_pred_xgb = classifier_xgb.predict(X_val)"
      ]
    },
    {
      "cell_type": "code",
      "execution_count": 187,
      "metadata": {
        "colab": {
          "base_uri": "https://localhost:8080/"
        },
        "id": "YCKj4q2zTJEK",
        "outputId": "e14bdf78-7ce0-4fe1-cce6-cbb5e3f73f0c"
      },
      "outputs": [
        {
          "output_type": "stream",
          "name": "stdout",
          "text": [
            "[[4872    0]\n",
            " [ 102  365]]\n",
            "0.9808952987450833\n"
          ]
        }
      ],
      "source": [
        "cm_xgb = confusion_matrix(y_val, y_pred_xgb)\n",
        "print(cm_xgb)\n",
        "acc_xgb = accuracy_score(y_val, y_pred_xgb)\n",
        "print(acc_xgb)"
      ]
    },
    {
      "cell_type": "code",
      "execution_count": 188,
      "metadata": {
        "colab": {
          "base_uri": "https://localhost:8080/"
        },
        "id": "eZGsWBwyRv-7",
        "outputId": "20874def-7856-4b90-9c01-276de03e6033"
      },
      "outputs": [
        {
          "output_type": "execute_result",
          "data": {
            "text/plain": [
              "93.35221546430412"
            ]
          },
          "metadata": {},
          "execution_count": 188
        }
      ],
      "source": [
        "100 * f1_score(y_val,y_pred_xgb,average='macro')"
      ]
    },
    {
      "cell_type": "code",
      "execution_count": 189,
      "metadata": {
        "colab": {
          "base_uri": "https://localhost:8080/"
        },
        "id": "RcxKFTFMvl7S",
        "outputId": "2975afdc-1dab-46a1-96eb-777511f93aae"
      },
      "outputs": [
        {
          "output_type": "stream",
          "name": "stdout",
          "text": [
            "Best Accuracy: 92.73 %\n",
            "Best Parameters: {'learning_rate': 1, 'n_estimators': 10}\n"
          ]
        }
      ],
      "source": [
        "parameters = [{'learning_rate':[0.9,1,1.1],'n_estimators':[9,10,11]}]\n",
        "grid_search = GridSearchCV(estimator = classifier_xgb,\n",
        "                           param_grid = parameters,\n",
        "                           scoring = 'f1_macro',\n",
        "                           cv = 5,\n",
        "                           n_jobs=-1)\n",
        "grid_search.fit(X_cat,y_cat)\n",
        "best_accuracy = grid_search.best_score_\n",
        "best_parameters = grid_search.best_params_\n",
        "print(\"Best Accuracy: {:.2f} %\".format(best_accuracy*100))\n",
        "print(\"Best Parameters:\", best_parameters)\n",
        "# est Accuracy: 92.68 %\n",
        "# Best Parameters: {'learning_rate': 1, 'n_estimators': 10}"
      ]
    },
    {
      "cell_type": "markdown",
      "metadata": {
        "id": "9or4OKpiTiTC"
      },
      "source": [
        "ADA BOOST"
      ]
    },
    {
      "cell_type": "code",
      "execution_count": 190,
      "metadata": {
        "colab": {
          "base_uri": "https://localhost:8080/"
        },
        "id": "Pbwq82zZQc20",
        "outputId": "c117517f-5998-48c9-e58e-bfc06eb216fd"
      },
      "outputs": [
        {
          "output_type": "execute_result",
          "data": {
            "text/plain": [
              "AdaBoostClassifier(learning_rate=1.75, n_estimators=40, random_state=0)"
            ]
          },
          "metadata": {},
          "execution_count": 190
        }
      ],
      "source": [
        "from sklearn.ensemble import AdaBoostClassifier\n",
        "ada = AdaBoostClassifier(algorithm='SAMME.R', learning_rate= 1.75, n_estimators= 40,random_state=0) # algorithm='SAMME', learning_rate= 1.75, n_estimators= 60, = 92.61\n",
        "ada.fit(X_train, y_train)"
      ]
    },
    {
      "cell_type": "code",
      "execution_count": 191,
      "metadata": {
        "id": "-UECGkt6sy2-"
      },
      "outputs": [],
      "source": [
        "y_pred_ada = ada.predict(X_val)"
      ]
    },
    {
      "cell_type": "code",
      "execution_count": 192,
      "metadata": {
        "colab": {
          "base_uri": "https://localhost:8080/"
        },
        "id": "bvn3imX5s-Nk",
        "outputId": "07fc5275-d6de-4ff5-db8c-62a1885bb004"
      },
      "outputs": [
        {
          "output_type": "stream",
          "name": "stdout",
          "text": [
            "[[4846   26]\n",
            " [  85  382]]\n",
            "0.979209589810826\n"
          ]
        }
      ],
      "source": [
        "cm_ada = confusion_matrix(y_val, y_pred_ada)\n",
        "print(cm_ada)\n",
        "acc_ada = accuracy_score(y_val, y_pred_ada)\n",
        "print(acc_ada)"
      ]
    },
    {
      "cell_type": "code",
      "execution_count": 193,
      "metadata": {
        "colab": {
          "base_uri": "https://localhost:8080/"
        },
        "id": "GRi20FSzc184",
        "outputId": "1624017e-cb2c-4329-ad5c-c7b9d4c086de"
      },
      "outputs": [
        {
          "output_type": "execute_result",
          "data": {
            "text/plain": [
              "93.09098963874034"
            ]
          },
          "metadata": {},
          "execution_count": 193
        }
      ],
      "source": [
        "100 * f1_score(y_val,y_pred_ada,average='macro')"
      ]
    },
    {
      "cell_type": "code",
      "execution_count": 194,
      "metadata": {
        "colab": {
          "base_uri": "https://localhost:8080/"
        },
        "id": "SlIARBDK2xcK",
        "outputId": "3736c142-8590-418d-968d-8cf23c38773e"
      },
      "outputs": [
        {
          "output_type": "stream",
          "name": "stdout",
          "text": [
            "Best Accuracy: 92.67 %\n",
            "Best Parameters: {'algorithm': 'SAMME', 'learning_rate': 1.5, 'n_estimators': 40}\n"
          ]
        }
      ],
      "source": [
        "parameters = [{'algorithm':['SAMME', 'SAMME.R'],'learning_rate':[1.5,1.75,2],'n_estimators':[30,40,50]}]\n",
        "grid_search = GridSearchCV(estimator = ada,\n",
        "                           param_grid = parameters,\n",
        "                           scoring = 'f1_macro',\n",
        "                           cv = 5,\n",
        "                           n_jobs=-1)\n",
        "grid_search.fit(X_cat,y_cat)\n",
        "best_accuracy = grid_search.best_score_\n",
        "best_parameters = grid_search.best_params_\n",
        "print(\"Best Accuracy: {:.2f} %\".format(best_accuracy*100))\n",
        "print(\"Best Parameters:\", best_parameters)\n",
        "# Best Accuracy: 92.64 %\n",
        "# Best Parameters: {'algorithm': 'SAMME', 'learning_rate': 1.75, 'n_estimators': 60}"
      ]
    },
    {
      "cell_type": "markdown",
      "source": [
        "##STANDARD MODELS"
      ],
      "metadata": {
        "id": "d8DCRQvJxZ3y"
      }
    },
    {
      "cell_type": "markdown",
      "metadata": {
        "id": "9AYqUoJ-wo4F"
      },
      "source": [
        "LOGISTIC"
      ]
    },
    {
      "cell_type": "code",
      "execution_count": 195,
      "metadata": {
        "colab": {
          "base_uri": "https://localhost:8080/"
        },
        "id": "hAM-otsbKn7D",
        "outputId": "5315079f-e0d5-45ea-8af4-3c0834bf9800"
      },
      "outputs": [
        {
          "output_type": "execute_result",
          "data": {
            "text/plain": [
              "LogisticRegression(C=0.75, random_state=0)"
            ]
          },
          "metadata": {},
          "execution_count": 195
        }
      ],
      "source": [
        "from sklearn.linear_model import LogisticRegression\n",
        "classifier_logistic = LogisticRegression(C= 0.75, penalty= 'l2',random_state=0) \n",
        "classifier_logistic.fit(X_train, y_train)"
      ]
    },
    {
      "cell_type": "code",
      "execution_count": 196,
      "metadata": {
        "id": "l9ID1X33NR6f"
      },
      "outputs": [],
      "source": [
        "y_pred_logistic = classifier_logistic.predict(X_val)"
      ]
    },
    {
      "cell_type": "code",
      "execution_count": 197,
      "metadata": {
        "colab": {
          "base_uri": "https://localhost:8080/"
        },
        "id": "6d0Fe6UUNK1t",
        "outputId": "adab40d0-adf9-4270-9e90-31319fb65abe"
      },
      "outputs": [
        {
          "output_type": "stream",
          "name": "stdout",
          "text": [
            "[[4830   42]\n",
            " [  77  390]]\n",
            "0.9777111818692639\n"
          ]
        }
      ],
      "source": [
        "from sklearn.metrics import confusion_matrix, accuracy_score\n",
        "cm = confusion_matrix(y_val, y_pred_logistic)\n",
        "print(cm)\n",
        "acc = accuracy_score(y_val, y_pred_logistic)\n",
        "print(acc)"
      ]
    },
    {
      "cell_type": "code",
      "execution_count": 198,
      "metadata": {
        "colab": {
          "base_uri": "https://localhost:8080/"
        },
        "id": "ltRBbSMVy5wV",
        "outputId": "cfe55014-c88f-47b0-c68f-2c582f13c375"
      },
      "outputs": [
        {
          "output_type": "execute_result",
          "data": {
            "text/plain": [
              "92.77308836749334"
            ]
          },
          "metadata": {},
          "execution_count": 198
        }
      ],
      "source": [
        "100 * f1_score(y_val,y_pred_logistic,average='macro')"
      ]
    },
    {
      "cell_type": "code",
      "execution_count": 199,
      "metadata": {
        "id": "PbLJ1g5csFjA",
        "colab": {
          "base_uri": "https://localhost:8080/"
        },
        "outputId": "559303c9-53ee-4c45-8210-3b22d702100f"
      },
      "outputs": [
        {
          "output_type": "stream",
          "name": "stdout",
          "text": [
            "Best Accuracy: 91.73 %\n",
            "Best Parameters: {'C': 0.75, 'penalty': 'l2'}\n"
          ]
        }
      ],
      "source": [
        "from sklearn.model_selection import GridSearchCV\n",
        "\n",
        "parameters = [{'penalty':['l2'],'C': [0.25,0.5,0.75] }]\n",
        "grid_search = GridSearchCV(estimator = classifier_logistic,\n",
        "                           param_grid = parameters,\n",
        "                           scoring = 'f1_macro',\n",
        "                           cv = 5,\n",
        "                           n_jobs=-1)\n",
        "grid_search.fit(X_train, y_train)\n",
        "best_accuracy = grid_search.best_score_\n",
        "best_parameters = grid_search.best_params_\n",
        "print(\"Best Accuracy: {:.2f} %\".format(best_accuracy*100))\n",
        "print(\"Best Parameters:\", best_parameters)\n",
        "# est Accuracy: 92.57 %\n",
        "# Best Parameters: {'C': 0.1, 'penalty': 'l2'}"
      ]
    },
    {
      "cell_type": "markdown",
      "metadata": {
        "id": "wShPFQvvwuld"
      },
      "source": [
        "SVM"
      ]
    },
    {
      "cell_type": "code",
      "execution_count": 200,
      "metadata": {
        "colab": {
          "base_uri": "https://localhost:8080/"
        },
        "id": "5bjiicepNCJI",
        "outputId": "fc0a8c17-e3c2-4990-86eb-7cdef3aa5e68"
      },
      "outputs": [
        {
          "output_type": "execute_result",
          "data": {
            "text/plain": [
              "SVC(C=0.75, kernel='linear', random_state=0)"
            ]
          },
          "metadata": {},
          "execution_count": 200
        }
      ],
      "source": [
        "from sklearn.svm import SVC\n",
        "classifier_svm = SVC(C=0.75,kernel='linear',random_state = 0)\n",
        "classifier_svm.fit(X_train, y_train)"
      ]
    },
    {
      "cell_type": "code",
      "execution_count": 201,
      "metadata": {
        "id": "7GaTLD2YO1MT"
      },
      "outputs": [],
      "source": [
        "y_pred_svm = classifier_svm.predict(X_val)"
      ]
    },
    {
      "cell_type": "code",
      "execution_count": 202,
      "metadata": {
        "colab": {
          "base_uri": "https://localhost:8080/"
        },
        "id": "crbogt-nO5QZ",
        "outputId": "ade641c3-6bed-4ad5-f03a-e66da968936c"
      },
      "outputs": [
        {
          "output_type": "stream",
          "name": "stdout",
          "text": [
            "[[4849   23]\n",
            " [  87  380]]\n",
            "0.9793968908035212\n"
          ]
        }
      ],
      "source": [
        "cm_svm = confusion_matrix(y_val, y_pred_svm)\n",
        "print(cm_svm)\n",
        "acc_svm = accuracy_score(y_val, y_pred_svm)\n",
        "print(acc_svm)"
      ]
    },
    {
      "cell_type": "code",
      "execution_count": 203,
      "metadata": {
        "colab": {
          "base_uri": "https://localhost:8080/"
        },
        "id": "dGIvz41RzE7l",
        "outputId": "14fc9bd0-281a-404f-b510-d209a52347d5"
      },
      "outputs": [
        {
          "output_type": "execute_result",
          "data": {
            "text/plain": [
              "93.1173941984962"
            ]
          },
          "metadata": {},
          "execution_count": 203
        }
      ],
      "source": [
        "100 * f1_score(y_val,y_pred_svm,average='macro')"
      ]
    },
    {
      "cell_type": "code",
      "execution_count": 204,
      "metadata": {
        "colab": {
          "base_uri": "https://localhost:8080/"
        },
        "id": "wQPJVhGHtif8",
        "outputId": "24d21a5c-ff6c-458c-d896-fd4fb95af09a"
      },
      "outputs": [
        {
          "output_type": "stream",
          "name": "stdout",
          "text": [
            "Best Accuracy: 92.18 %\n",
            "Best Parameters: {'C': 0.75, 'kernel': 'linear'}\n"
          ]
        }
      ],
      "source": [
        "parameters = [{'C': [0.5,0.75,1], 'kernel': ['linear']}]\n",
        "grid_search = GridSearchCV(estimator = classifier_svm,\n",
        "                           param_grid = parameters,\n",
        "                           scoring = 'f1_macro',\n",
        "                           cv = 5)\n",
        "grid_search.fit(X_cat,y_cat)\n",
        "best_accuracy = grid_search.best_score_\n",
        "best_parameters = grid_search.best_params_\n",
        "print(\"Best Accuracy: {:.2f} %\".format(best_accuracy*100))\n",
        "print(\"Best Parameters:\", best_parameters)"
      ]
    },
    {
      "cell_type": "markdown",
      "metadata": {
        "id": "-9jXhcQZwv0m"
      },
      "source": [
        "KERNEL SVM"
      ]
    },
    {
      "cell_type": "code",
      "execution_count": 205,
      "metadata": {
        "colab": {
          "base_uri": "https://localhost:8080/"
        },
        "id": "qEqKeHRNNDTS",
        "outputId": "e7007135-f624-40a6-d928-a62917526900"
      },
      "outputs": [
        {
          "output_type": "execute_result",
          "data": {
            "text/plain": [
              "SVC(random_state=0)"
            ]
          },
          "metadata": {},
          "execution_count": 205
        }
      ],
      "source": [
        "from sklearn.svm import SVC\n",
        "classifier_kernel = SVC(kernel= 'rbf',random_state = 0) #C=0.5,kernel = 'rbf', random_state = 0, gamma=0.2\n",
        "classifier_kernel.fit(X_train, y_train)"
      ]
    },
    {
      "cell_type": "code",
      "execution_count": 206,
      "metadata": {
        "id": "fFoVmV3kPVu6"
      },
      "outputs": [],
      "source": [
        "y_pred_kernel = classifier_kernel.predict(X_val)"
      ]
    },
    {
      "cell_type": "code",
      "execution_count": 207,
      "metadata": {
        "colab": {
          "base_uri": "https://localhost:8080/"
        },
        "id": "kbbLMo5PPV1I",
        "outputId": "941d70cc-b247-44e6-e312-f7c240d03600"
      },
      "outputs": [
        {
          "output_type": "stream",
          "name": "stdout",
          "text": [
            "[[4848   24]\n",
            " [  88  379]]\n",
            "0.9790222888181307\n"
          ]
        }
      ],
      "source": [
        "cm_kernel = confusion_matrix(y_val, y_pred_kernel)\n",
        "print(cm_kernel)\n",
        "acc_kernel = accuracy_score(y_val, y_pred_kernel)\n",
        "print(acc_kernel)"
      ]
    },
    {
      "cell_type": "code",
      "execution_count": 208,
      "metadata": {
        "colab": {
          "base_uri": "https://localhost:8080/"
        },
        "id": "F4DGWoyLzTGN",
        "outputId": "a50fa8e9-a568-47b1-ad36-11609dd14e45"
      },
      "outputs": [
        {
          "output_type": "execute_result",
          "data": {
            "text/plain": [
              "92.99225591119612"
            ]
          },
          "metadata": {},
          "execution_count": 208
        }
      ],
      "source": [
        "100 * f1_score(y_val,y_pred_kernel,average='macro')"
      ]
    },
    {
      "cell_type": "markdown",
      "metadata": {
        "id": "hDy9X67uwxL-"
      },
      "source": [
        "KNN"
      ]
    },
    {
      "cell_type": "code",
      "execution_count": 209,
      "metadata": {
        "colab": {
          "base_uri": "https://localhost:8080/"
        },
        "id": "uWybeJw8NDyD",
        "outputId": "fab5d3f5-0538-46e3-c316-da650d960abe"
      },
      "outputs": [
        {
          "output_type": "execute_result",
          "data": {
            "text/plain": [
              "KNeighborsClassifier()"
            ]
          },
          "metadata": {},
          "execution_count": 209
        }
      ],
      "source": [
        "from sklearn.neighbors import KNeighborsClassifier\n",
        "classifier_knn = KNeighborsClassifier() #leaf_size= 1,n_neighbors = 7, metric = 'minkowski', p = 2,weights= 'uniform'\n",
        "classifier_knn.fit(X_train, y_train)"
      ]
    },
    {
      "cell_type": "code",
      "execution_count": 210,
      "metadata": {
        "id": "6qh5ovUbPnb_"
      },
      "outputs": [],
      "source": [
        "y_pred_knn = classifier_knn.predict(X_val)"
      ]
    },
    {
      "cell_type": "code",
      "execution_count": 211,
      "metadata": {
        "colab": {
          "base_uri": "https://localhost:8080/"
        },
        "id": "GlT_wBOcPnff",
        "outputId": "ad5e28d9-e694-4ad3-ed58-7b078a934afb"
      },
      "outputs": [
        {
          "output_type": "stream",
          "name": "stdout",
          "text": [
            "[[4824   48]\n",
            " [ 179  288]]\n",
            "0.9574826746581757\n"
          ]
        }
      ],
      "source": [
        "cm_knn = confusion_matrix(y_val, y_pred_knn)\n",
        "print(cm_knn)\n",
        "acc_knn = accuracy_score(y_val, y_pred_knn)\n",
        "print(acc_knn)"
      ]
    },
    {
      "cell_type": "code",
      "execution_count": 212,
      "metadata": {
        "colab": {
          "base_uri": "https://localhost:8080/"
        },
        "id": "_jw1NNmOzjbY",
        "outputId": "20dd3be7-281c-4cfc-b5cf-ad2816d2d39e"
      },
      "outputs": [
        {
          "output_type": "execute_result",
          "data": {
            "text/plain": [
              "84.71613727004745"
            ]
          },
          "metadata": {},
          "execution_count": 212
        }
      ],
      "source": [
        "100 * f1_score(y_val,y_pred_knn,average='macro')"
      ]
    },
    {
      "cell_type": "code",
      "execution_count": 213,
      "metadata": {
        "colab": {
          "base_uri": "https://localhost:8080/"
        },
        "id": "YFdyInqAvlK_",
        "outputId": "f691a9b4-7b3f-4b1d-9711-7e0a138b4ef9"
      },
      "outputs": [
        {
          "output_type": "stream",
          "name": "stdout",
          "text": [
            "Best Accuracy: 84.89 %\n",
            "Best Parameters: {'leaf_size': 5, 'metric': 'minkowski', 'n_neighbors': 5, 'p': 1, 'weights': 'distance'}\n"
          ]
        }
      ],
      "source": [
        "parameters = [{'n_neighbors': [2,5,10], 'weights': ['distance'], 'leaf_size': [5,7,10],'p': [1], \n",
        "               'metric': ['minkowski']}]\n",
        "grid_search = GridSearchCV(estimator = classifier_knn,\n",
        "                           param_grid = parameters,\n",
        "                           scoring = 'f1_macro',\n",
        "                           cv = 3,\n",
        "                           n_jobs=-1)\n",
        "grid_search.fit(X_cat,y_cat)\n",
        "best_accuracy = grid_search.best_score_\n",
        "best_parameters = grid_search.best_params_\n",
        "print(\"Best Accuracy: {:.2f} %\".format(best_accuracy*100))\n",
        "print(\"Best Parameters:\", best_parameters)\n",
        "# Best Accuracy: 90.53 %\n",
        "# Best Parameters: {'leaf_size': 10, 'metric': 'minkowski', 'n_neighbors': 10, 'p': 1, 'weights': 'distance'}"
      ]
    },
    {
      "cell_type": "markdown",
      "source": [
        "NAIVE BAYES"
      ],
      "metadata": {
        "id": "AHSBafWX7b4M"
      }
    },
    {
      "cell_type": "code",
      "metadata": {
        "colab": {
          "base_uri": "https://localhost:8080/"
        },
        "id": "r_Ov9w88NEMG",
        "outputId": "09e2523e-6ff6-4dec-9cf9-db4bb868031d"
      },
      "source": [
        "from sklearn.naive_bayes import GaussianNB\n",
        "classifier_nb = GaussianNB()\n",
        "classifier_nb.fit(X_train, y_train)"
      ],
      "execution_count": 214,
      "outputs": [
        {
          "output_type": "execute_result",
          "data": {
            "text/plain": [
              "GaussianNB()"
            ]
          },
          "metadata": {},
          "execution_count": 214
        }
      ]
    },
    {
      "cell_type": "code",
      "metadata": {
        "id": "FypT0KlzPpmO"
      },
      "source": [
        "y_pred_nb = classifier_nb.predict(X_val)"
      ],
      "execution_count": 215,
      "outputs": []
    },
    {
      "cell_type": "code",
      "metadata": {
        "colab": {
          "base_uri": "https://localhost:8080/"
        },
        "id": "rDkSDOABPpqv",
        "outputId": "80961e6c-5a62-4da9-f80e-2095d348e686"
      },
      "source": [
        "from sklearn.metrics import confusion_matrix, accuracy_score\n",
        "cm_nb = confusion_matrix(y_val, y_pred_nb)\n",
        "print(cm_nb)\n",
        "acc_nb = accuracy_score(y_val, y_pred_nb)\n",
        "print(acc_nb)"
      ],
      "execution_count": 216,
      "outputs": [
        {
          "output_type": "stream",
          "name": "stdout",
          "text": [
            "[[4796   76]\n",
            " [  57  410]]\n",
            "0.9750889679715302\n"
          ]
        }
      ]
    },
    {
      "cell_type": "code",
      "source": [
        "100 * f1_score(y_val,y_pred_nb,average='macro')"
      ],
      "metadata": {
        "colab": {
          "base_uri": "https://localhost:8080/"
        },
        "id": "NbkAXEQ97u0c",
        "outputId": "0ff613a1-f7dc-4b1b-cc12-e58a7c75e1b4"
      },
      "execution_count": 217,
      "outputs": [
        {
          "output_type": "execute_result",
          "data": {
            "text/plain": [
              "92.33823104956072"
            ]
          },
          "metadata": {},
          "execution_count": 217
        }
      ]
    },
    {
      "cell_type": "code",
      "metadata": {
        "colab": {
          "base_uri": "https://localhost:8080/"
        },
        "id": "uhex26e4x2wH",
        "outputId": "c4426ed4-31ed-4760-d23b-cf2fb6abf50e"
      },
      "source": [
        "from sklearn.naive_bayes import BernoulliNB\n",
        "classifier_bern = BernoulliNB()\n",
        "classifier_bern.fit(X_train, y_train)"
      ],
      "execution_count": 218,
      "outputs": [
        {
          "output_type": "execute_result",
          "data": {
            "text/plain": [
              "BernoulliNB()"
            ]
          },
          "metadata": {},
          "execution_count": 218
        }
      ]
    },
    {
      "cell_type": "code",
      "metadata": {
        "id": "njG7bUWnx2kv"
      },
      "source": [
        "y_pred_b = classifier_bern.predict(X_val)"
      ],
      "execution_count": 219,
      "outputs": []
    },
    {
      "cell_type": "code",
      "metadata": {
        "colab": {
          "base_uri": "https://localhost:8080/"
        },
        "id": "Yoj1u8psx2Ul",
        "outputId": "a4ccd5ca-e4a3-4e5d-ec79-de2d2b538e31"
      },
      "source": [
        "from sklearn.metrics import confusion_matrix, accuracy_score\n",
        "cm_nb = confusion_matrix(y_val, y_pred_b)\n",
        "print(cm_nb)\n",
        "acc_nb = accuracy_score(y_val, y_pred_b)\n",
        "print(acc_nb)"
      ],
      "execution_count": 220,
      "outputs": [
        {
          "output_type": "stream",
          "name": "stdout",
          "text": [
            "[[4845   27]\n",
            " [ 445   22]]\n",
            "0.9115939314478366\n"
          ]
        }
      ]
    },
    {
      "cell_type": "code",
      "source": [
        "100 * f1_score(y_val,y_pred_b,average='macro')"
      ],
      "metadata": {
        "colab": {
          "base_uri": "https://localhost:8080/"
        },
        "id": "Gu2H0sTB7wHv",
        "outputId": "505e80cd-2519-4be8-f27d-293a00a21bef"
      },
      "execution_count": 221,
      "outputs": [
        {
          "output_type": "execute_result",
          "data": {
            "text/plain": [
              "51.94118840672577"
            ]
          },
          "metadata": {},
          "execution_count": 221
        }
      ]
    },
    {
      "cell_type": "markdown",
      "metadata": {
        "id": "LIEBRprM0Fi7"
      },
      "source": [
        "##NEURAL NETWORKS"
      ]
    },
    {
      "cell_type": "code",
      "execution_count": 222,
      "metadata": {
        "id": "zpOpxUeWxMko"
      },
      "outputs": [],
      "source": [
        "import tensorflow as tf"
      ]
    },
    {
      "cell_type": "code",
      "execution_count": 223,
      "metadata": {
        "id": "yN9h5PJ2xMko"
      },
      "outputs": [],
      "source": [
        "from keras.layers import Dropout\n",
        "\n",
        "ann = tf.keras.models.Sequential() \n",
        "ann.add(tf.keras.layers.Dense(units = 256, activation = 'relu'))\n",
        "ann.add(Dropout(0.5))\n",
        "ann.add(tf.keras.layers.Dense(units = 512, activation = 'relu'))\n",
        "ann.add(Dropout(0.6))\n",
        "ann.add(tf.keras.layers.Dense(units = 256, activation = 'relu'))\n",
        "ann.add(Dropout(0.5))\n",
        "ann.add(tf.keras.layers.Dense(units = 1, activation = 'sigmoid'))"
      ]
    },
    {
      "cell_type": "code",
      "execution_count": 224,
      "metadata": {
        "colab": {
          "base_uri": "https://localhost:8080/"
        },
        "id": "hWNUWetJxMko",
        "outputId": "e94f3e23-bd4e-4000-f08a-85934de74981"
      },
      "outputs": [
        {
          "output_type": "stream",
          "name": "stdout",
          "text": [
            "Epoch 1/5\n",
            "1780/1780 [==============================] - 14s 7ms/step - loss: 0.0979 - accuracy: 0.9602 - val_loss: 0.0617 - val_accuracy: 0.9733\n",
            "Epoch 2/5\n",
            "1780/1780 [==============================] - 12s 7ms/step - loss: 0.0720 - accuracy: 0.9703 - val_loss: 0.0596 - val_accuracy: 0.9744\n",
            "Epoch 3/5\n",
            "1780/1780 [==============================] - 12s 7ms/step - loss: 0.0651 - accuracy: 0.9711 - val_loss: 0.0548 - val_accuracy: 0.9768\n",
            "Epoch 4/5\n",
            "1780/1780 [==============================] - 11s 6ms/step - loss: 0.0655 - accuracy: 0.9719 - val_loss: 0.0568 - val_accuracy: 0.9774\n",
            "Epoch 5/5\n",
            "1780/1780 [==============================] - 12s 7ms/step - loss: 0.0619 - accuracy: 0.9734 - val_loss: 0.0588 - val_accuracy: 0.9723\n"
          ]
        }
      ],
      "source": [
        "ann.compile(loss='binary_crossentropy',\n",
        "              optimizer='adam',\n",
        "              metrics=['accuracy'])\n",
        "                   \n",
        "hist = ann.fit(X_cat, y_cat,epochs=5, batch_size=16,validation_split=0.2)"
      ]
    },
    {
      "cell_type": "code",
      "execution_count": 225,
      "metadata": {
        "id": "OuaLAbVDxMko"
      },
      "outputs": [],
      "source": [
        "y_pred = ann.predict(X_val)\n",
        "y_pred = (y_pred > 0.5)"
      ]
    },
    {
      "cell_type": "code",
      "execution_count": 226,
      "metadata": {
        "colab": {
          "base_uri": "https://localhost:8080/"
        },
        "id": "D-98VOklxMko",
        "outputId": "5784a56d-2022-4d05-8990-0dac4a8b1bcd"
      },
      "outputs": [
        {
          "output_type": "stream",
          "name": "stdout",
          "text": [
            "[[4866    6]\n",
            " [ 137  330]]\n",
            "0.9732159580445776\n"
          ]
        }
      ],
      "source": [
        "cm = confusion_matrix(y_val, y_pred)\n",
        "print(cm)\n",
        "acc = accuracy_score(y_val, y_pred)\n",
        "print(acc)"
      ]
    },
    {
      "cell_type": "code",
      "execution_count": 227,
      "metadata": {
        "colab": {
          "base_uri": "https://localhost:8080/"
        },
        "id": "k8FN4COG01tF",
        "outputId": "4e0a517c-99cb-49a4-acef-ba883966700e"
      },
      "outputs": [
        {
          "output_type": "execute_result",
          "data": {
            "text/plain": [
              "90.37183977804752"
            ]
          },
          "metadata": {},
          "execution_count": 227
        }
      ],
      "source": [
        "100 * f1_score(y_val,y_pred,average='macro')"
      ]
    },
    {
      "cell_type": "code",
      "execution_count": 227,
      "metadata": {
        "id": "czAxW9Xi0897"
      },
      "outputs": [],
      "source": [
        ""
      ]
    },
    {
      "cell_type": "code",
      "execution_count": 228,
      "metadata": {
        "id": "I8raWlQj0866",
        "colab": {
          "base_uri": "https://localhost:8080/"
        },
        "outputId": "012e1eae-595b-4dc1-c452-0f734cbdcd82"
      },
      "outputs": [
        {
          "output_type": "stream",
          "name": "stdout",
          "text": [
            "Epoch 1/5\n",
            "2848/2848 [==============================] - 7s 2ms/step - loss: 0.0858 - accuracy: 0.9668 - val_loss: 0.0586 - val_accuracy: 0.9756\n",
            "Epoch 2/5\n",
            "2848/2848 [==============================] - 6s 2ms/step - loss: 0.0599 - accuracy: 0.9741 - val_loss: 0.0559 - val_accuracy: 0.9754\n",
            "Epoch 3/5\n",
            "2848/2848 [==============================] - 5s 2ms/step - loss: 0.0572 - accuracy: 0.9751 - val_loss: 0.0569 - val_accuracy: 0.9757\n",
            "Epoch 4/5\n",
            "2848/2848 [==============================] - 5s 2ms/step - loss: 0.0565 - accuracy: 0.9744 - val_loss: 0.0559 - val_accuracy: 0.9725\n",
            "Epoch 5/5\n",
            "2848/2848 [==============================] - 6s 2ms/step - loss: 0.0555 - accuracy: 0.9741 - val_loss: 0.0526 - val_accuracy: 0.9736\n"
          ]
        }
      ],
      "source": [
        "ann2 = tf.keras.models.Sequential() \n",
        "ann2.add(tf.keras.layers.Dense(units = 128, activation = 'relu'))\n",
        "ann2.add(tf.keras.layers.Dense(units = 1, activation = 'sigmoid'))\n",
        "ann2.compile(optimizer='adam', loss='binary_crossentropy', metrics=['accuracy'])\n",
        "hist2 = ann2.fit(X_cat, y_cat, epochs=5, batch_size=10, validation_split=0.2)"
      ]
    },
    {
      "cell_type": "code",
      "execution_count": 229,
      "metadata": {
        "id": "dKzEy3cup-AJ"
      },
      "outputs": [],
      "source": [
        "y_pred = ann2.predict(X_val)\n",
        "y_pred = (y_pred > 0.5)"
      ]
    },
    {
      "cell_type": "code",
      "execution_count": 230,
      "metadata": {
        "colab": {
          "base_uri": "https://localhost:8080/"
        },
        "outputId": "8e57e0e1-933e-46b3-ce06-2e78e3ee13ec",
        "id": "cmgCUJNEp-AJ"
      },
      "outputs": [
        {
          "output_type": "stream",
          "name": "stdout",
          "text": [
            "[[4810   62]\n",
            " [  66  401]]\n",
            "0.9760254729350065\n"
          ]
        }
      ],
      "source": [
        "cm = confusion_matrix(y_val, y_pred)\n",
        "print(cm)\n",
        "acc = accuracy_score(y_val, y_pred)\n",
        "print(acc)"
      ]
    },
    {
      "cell_type": "code",
      "execution_count": 231,
      "metadata": {
        "colab": {
          "base_uri": "https://localhost:8080/"
        },
        "outputId": "f1c338c0-e88a-4766-f86f-6d03452e1369",
        "id": "Runef36Tp-AJ"
      },
      "outputs": [
        {
          "output_type": "execute_result",
          "data": {
            "text/plain": [
              "92.46173463759865"
            ]
          },
          "metadata": {},
          "execution_count": 231
        }
      ],
      "source": [
        "100 * f1_score(y_val,y_pred,average='macro')"
      ]
    },
    {
      "cell_type": "code",
      "execution_count": 231,
      "metadata": {
        "id": "HdA078tE084N"
      },
      "outputs": [],
      "source": [
        ""
      ]
    },
    {
      "cell_type": "code",
      "source": [
        "ann3 = tf.keras.models.Sequential() \n",
        "ann3.add(tf.keras.layers.Dense(units = 512, activation = 'relu'))\n",
        "ann3.add(tf.keras.layers.Dense(units = 512, activation = 'relu'))\n",
        "ann3.add(tf.keras.layers.Dense(units = 1, activation = 'sigmoid'))\n",
        "ann3.compile(optimizer='adam', loss='binary_crossentropy', metrics=['accuracy'])\n",
        "hist3 = ann3.fit(X_cat, y_cat, epochs=5, batch_size=10, validation_split=0.2)"
      ],
      "metadata": {
        "colab": {
          "base_uri": "https://localhost:8080/"
        },
        "id": "g6OCmcXWpp-j",
        "outputId": "0ff0bdb8-0528-40e4-f794-43fca4508bec"
      },
      "execution_count": 232,
      "outputs": [
        {
          "output_type": "stream",
          "name": "stdout",
          "text": [
            "Epoch 1/5\n",
            "2848/2848 [==============================] - 16s 5ms/step - loss: 0.0731 - accuracy: 0.9693 - val_loss: 0.0785 - val_accuracy: 0.9616\n",
            "Epoch 2/5\n",
            "2848/2848 [==============================] - 14s 5ms/step - loss: 0.0589 - accuracy: 0.9735 - val_loss: 0.0517 - val_accuracy: 0.9777\n",
            "Epoch 3/5\n",
            "2848/2848 [==============================] - 14s 5ms/step - loss: 0.0547 - accuracy: 0.9751 - val_loss: 0.0548 - val_accuracy: 0.9760\n",
            "Epoch 4/5\n",
            "2848/2848 [==============================] - 14s 5ms/step - loss: 0.0531 - accuracy: 0.9753 - val_loss: 0.0495 - val_accuracy: 0.9765\n",
            "Epoch 5/5\n",
            "2848/2848 [==============================] - 14s 5ms/step - loss: 0.0524 - accuracy: 0.9757 - val_loss: 0.0533 - val_accuracy: 0.9742\n"
          ]
        }
      ]
    },
    {
      "cell_type": "code",
      "execution_count": 233,
      "metadata": {
        "id": "5lANXzAcp-s2"
      },
      "outputs": [],
      "source": [
        "y_pred = ann3.predict(X_val)\n",
        "y_pred = (y_pred > 0.5)"
      ]
    },
    {
      "cell_type": "code",
      "execution_count": 234,
      "metadata": {
        "colab": {
          "base_uri": "https://localhost:8080/"
        },
        "outputId": "72e960eb-2533-4abd-c7d7-c6d8ef1c79f9",
        "id": "liN-Zsa5p-s2"
      },
      "outputs": [
        {
          "output_type": "stream",
          "name": "stdout",
          "text": [
            "[[4849   23]\n",
            " [ 109  358]]\n",
            "0.9752762689642255\n"
          ]
        }
      ],
      "source": [
        "cm = confusion_matrix(y_val, y_pred)\n",
        "print(cm)\n",
        "acc = accuracy_score(y_val, y_pred)\n",
        "print(acc)"
      ]
    },
    {
      "cell_type": "code",
      "execution_count": 235,
      "metadata": {
        "colab": {
          "base_uri": "https://localhost:8080/"
        },
        "outputId": "b9e14733-8e71-4bb7-f207-74faf7ac17f5",
        "id": "w8Bi3WwEp-s2"
      },
      "outputs": [
        {
          "output_type": "execute_result",
          "data": {
            "text/plain": [
              "91.5455670934183"
            ]
          },
          "metadata": {},
          "execution_count": 235
        }
      ],
      "source": [
        "100 * f1_score(y_val,y_pred,average='macro')"
      ]
    },
    {
      "cell_type": "code",
      "source": [
        "classifiers = [ann,ann2,ann3]\n",
        "\n",
        "names = ['ann','ann2','ann3']\n",
        "j=0\n",
        "for i in classifiers:\n",
        "  print(i)\n",
        "  i.fit(X_cat, y_cat)\n",
        "  y_out = i.predict(X_test)\n",
        "  y_out = (y_out > 0.5)\n",
        "  df = np.concatenate([np.array(customer_id).reshape(len(customer_id),1),y_out.reshape(len(customer_id),1)],1)\n",
        "  df = pd.DataFrame(df)\n",
        "  df.columns = ['customer_id','credit_card_default']\n",
        "  df.set_index('customer_id', inplace=True)\n",
        "  df.to_csv(names[j]+'2.csv')\n",
        "  j+=1"
      ],
      "metadata": {
        "colab": {
          "base_uri": "https://localhost:8080/"
        },
        "id": "VzTATqC2yIHZ",
        "outputId": "01ad1a5e-3b9a-4b95-bd7c-0a5071115b84"
      },
      "execution_count": 236,
      "outputs": [
        {
          "output_type": "stream",
          "name": "stdout",
          "text": [
            "<keras.engine.sequential.Sequential object at 0x7fb3c8691dd0>\n",
            "1113/1113 [==============================] - 8s 7ms/step - loss: 0.0570 - accuracy: 0.9742\n",
            "<keras.engine.sequential.Sequential object at 0x7fb3c44d7e50>\n",
            "1113/1113 [==============================] - 2s 2ms/step - loss: 0.0516 - accuracy: 0.9757\n",
            "<keras.engine.sequential.Sequential object at 0x7fb3c4357d90>\n",
            "1113/1113 [==============================] - 6s 5ms/step - loss: 0.0466 - accuracy: 0.9775\n"
          ]
        }
      ]
    },
    {
      "cell_type": "markdown",
      "metadata": {
        "id": "Gp-KMWhDkNvS"
      },
      "source": [
        "#RESULTS TO CSV"
      ]
    },
    {
      "cell_type": "code",
      "execution_count": null,
      "metadata": {
        "id": "wjj8akQ-Qct7"
      },
      "outputs": [],
      "source": [
        "classifiers = [CatBoostClassifier(max_depth=3,n_estimators=160,random_state=0),\n",
        "DecisionTreeClassifier(criterion = 'gini', max_depth=1,max_features='auto', min_samples_split= 2,random_state = 0),\n",
        "RandomForestClassifier(criterion= 'gini', max_depth= 15, min_samples_split= 3, n_estimators= 120,random_state=0),\n",
        "XGBClassifier(learning_rate= 0.75, n_estimators= 9,random_state=0),\n",
        "AdaBoostClassifier(algorithm='SAMME.R', learning_rate= 1.75, n_estimators= 40,random_state=0),\n",
        "LogisticRegression(C= 0.75, penalty= 'l2',random_state=0),\n",
        "SVC(C=0.75,kernel='linear',random_state = 0),\n",
        "SVC(kernel= 'rbf',random_state = 0),\n",
        "GaussianNB()]\n",
        "\n",
        "names = ['classifier_ctb','classifier_dt','classifier_rf','classifier_xgb','ada','classifier_logistic','classifier_svm','classifier_kernel','classifier_nb']\n",
        "j=0\n",
        "for i in classifiers:\n",
        "  print(i)\n",
        "  i.fit(X_cat, y_cat)\n",
        "  y_out = i.predict(X_test)\n",
        "  df = np.concatenate([np.array(customer_id).reshape(len(customer_id),1),y_out.reshape(len(customer_id),1)],1)\n",
        "  df = pd.DataFrame(df)\n",
        "  df.columns = ['customer_id','credit_card_default']\n",
        "  df.set_index('customer_id', inplace=True)\n",
        "  df.to_csv(names[j]+'2.csv')\n",
        "  j+=1"
      ]
    },
    {
      "cell_type": "markdown",
      "source": [
        "FOR SINGLE MODELS"
      ],
      "metadata": {
        "id": "O7-GsLlCxr_Y"
      }
    },
    {
      "cell_type": "code",
      "source": [
        "i = RandomForestClassifier(criterion= 'gini', max_depth= 15, min_samples_split= 4, max_features=4, n_estimators= 250,random_state=0)\n",
        "i.fit(X_cat, y_cat)\n",
        "y_out = i.predict(X_test)\n",
        "df = np.concatenate([np.array(customer_id).reshape(len(customer_id),1),y_out.reshape(len(customer_id),1)],1)\n",
        "df = pd.DataFrame(df)\n",
        "df.columns = ['customer_id','credit_card_default']\n",
        "df.set_index('customer_id', inplace=True)\n",
        "df.to_csv('rf2.csv')"
      ],
      "metadata": {
        "id": "svpF9BGSyCl6"
      },
      "execution_count": null,
      "outputs": []
    },
    {
      "cell_type": "code",
      "source": [
        ""
      ],
      "metadata": {
        "id": "ipy_AlFf_IbK"
      },
      "execution_count": null,
      "outputs": []
    }
  ]
}